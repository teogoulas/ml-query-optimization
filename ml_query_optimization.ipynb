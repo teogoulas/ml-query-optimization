{
  "cells": [
    {
      "cell_type": "markdown",
      "metadata": {
        "id": "view-in-github",
        "colab_type": "text"
      },
      "source": [
        "<a href=\"https://colab.research.google.com/github/teogoulas/ml-query-optimization/blob/master/ml_query_optimization.ipynb\" target=\"_parent\"><img src=\"https://colab.research.google.com/assets/colab-badge.svg\" alt=\"Open In Colab\"/></a>"
      ]
    },
    {
      "cell_type": "markdown",
      "metadata": {
        "id": "RJ5jIXziXU-r"
      },
      "source": [
        "###Connect to Drive"
      ]
    },
    {
      "cell_type": "code",
      "execution_count": 2,
      "metadata": {
        "id": "Z11rGs3CDimc",
        "colab": {
          "base_uri": "https://localhost:8080/"
        },
        "outputId": "18c9188a-e6c1-443c-be1e-54cbaa4ef297"
      },
      "outputs": [
        {
          "output_type": "stream",
          "name": "stdout",
          "text": [
            "Mounted at /content/gdrive\n"
          ]
        }
      ],
      "source": [
        "from google.colab import drive\n",
        "drive.mount('/content/gdrive')"
      ]
    },
    {
      "cell_type": "code",
      "execution_count": 3,
      "metadata": {
        "colab": {
          "base_uri": "https://localhost:8080/"
        },
        "id": "iqUsFSnnMZvb",
        "outputId": "93599a11-a1ce-4406-85e9-9ba97ccbf781"
      },
      "outputs": [
        {
          "output_type": "stream",
          "name": "stdout",
          "text": [
            "/content/gdrive/MyDrive/UNIPI/ml-query-optimization\n",
            "\u001b[0m\u001b[01;34mclassification\u001b[0m/  \u001b[01;34mdata\u001b[0m/       main.py  README.md\n",
            "\u001b[01;34mconfig\u001b[0m/          main.ipynb  \u001b[01;34mmodels\u001b[0m/  \u001b[01;34mutils\u001b[0m/\n"
          ]
        }
      ],
      "source": [
        "%cd gdrive/MyDrive/UNIPI/ml-query-optimization\n",
        "%ls"
      ]
    },
    {
      "cell_type": "code",
      "execution_count": 4,
      "metadata": {
        "colab": {
          "base_uri": "https://localhost:8080/"
        },
        "id": "RG8RGUJcD_oH",
        "outputId": "1b9c0ae1-236a-4603-95ff-6ee500bbd458"
      },
      "outputs": [
        {
          "output_type": "stream",
          "name": "stdout",
          "text": [
            "[Errno 2] No such file or directory: 'gdrive/MyDrive/UNIPI'\n",
            "/content/gdrive/MyDrive/UNIPI/ml-query-optimization\n",
            "Cloning into 'ml-query-optimization'...\n",
            "remote: Enumerating objects: 383, done.\u001b[K\n",
            "remote: Counting objects: 100% (238/238), done.\u001b[K\n",
            "remote: Compressing objects: 100% (132/132), done.\u001b[K\n",
            "remote: Total 383 (delta 135), reused 202 (delta 104), pack-reused 145\u001b[K\n",
            "Receiving objects: 100% (383/383), 1.20 MiB | 7.48 MiB/s, done.\n",
            "Resolving deltas: 100% (197/197), done.\n",
            "/content/gdrive/MyDrive/UNIPI/ml-query-optimization/ml-query-optimization\n",
            "\u001b[0m\u001b[01;34mclassification\u001b[0m/  \u001b[01;34mdata\u001b[0m/       main.py  README.md\n",
            "\u001b[01;34mconfig\u001b[0m/          main.ipynb  \u001b[01;34mmodels\u001b[0m/  \u001b[01;34mutils\u001b[0m/\n"
          ]
        }
      ],
      "source": [
        "%cd gdrive/MyDrive/UNIPI\n",
        "!git clone https://github.com/teogoulas/ml-query-optimization.git\n",
        "%cd ml-query-optimization/\n",
        "%ls"
      ]
    },
    {
      "cell_type": "markdown",
      "metadata": {
        "collapsed": true,
        "id": "02BiUy5Q2J31"
      },
      "source": [
        "###Imports"
      ]
    },
    {
      "cell_type": "code",
      "execution_count": 4,
      "metadata": {
        "colab": {
          "base_uri": "https://localhost:8080/"
        },
        "id": "c8GSLG7eEH4l",
        "outputId": "d28d2a57-90a7-49da-9678-6fd5772f174f"
      },
      "outputs": [
        {
          "output_type": "stream",
          "name": "stdout",
          "text": [
            "Collecting gensim==4.1.2\n",
            "  Downloading gensim-4.1.2-cp37-cp37m-manylinux_2_12_x86_64.manylinux2010_x86_64.whl (24.1 MB)\n",
            "\u001b[K     |████████████████████████████████| 24.1 MB 68.9 MB/s \n",
            "\u001b[?25hRequirement already satisfied: scipy>=0.18.1 in /usr/local/lib/python3.7/dist-packages (from gensim==4.1.2) (1.4.1)\n",
            "Requirement already satisfied: smart-open>=1.8.1 in /usr/local/lib/python3.7/dist-packages (from gensim==4.1.2) (5.2.1)\n",
            "Requirement already satisfied: numpy>=1.17.0 in /usr/local/lib/python3.7/dist-packages (from gensim==4.1.2) (1.21.5)\n",
            "Installing collected packages: gensim\n",
            "  Attempting uninstall: gensim\n",
            "    Found existing installation: gensim 3.6.0\n",
            "    Uninstalling gensim-3.6.0:\n",
            "      Successfully uninstalled gensim-3.6.0\n",
            "Successfully installed gensim-4.1.2\n",
            "\u001b[K     |████████████████████████████████| 793 kB 4.3 MB/s \n",
            "\u001b[K     |████████████████████████████████| 380 kB 55.1 MB/s \n",
            "\u001b[?25h  Building wheel for ipdb (setup.py) ... \u001b[?25l\u001b[?25hdone\n",
            "\u001b[31mERROR: pip's dependency resolver does not currently take into account all the packages that are installed. This behaviour is the source of the following dependency conflicts.\n",
            "jupyter-console 5.2.0 requires prompt-toolkit<2.0.0,>=1.0.0, but you have prompt-toolkit 3.0.28 which is incompatible.\n",
            "google-colab 1.0.0 requires ipython~=5.5.0, but you have ipython 7.32.0 which is incompatible.\u001b[0m\n"
          ]
        }
      ],
      "source": [
        "!pip install gensim==4.1.2\n",
        "!pip install -Uqq ipdb"
      ]
    },
    {
      "cell_type": "code",
      "execution_count": 5,
      "metadata": {
        "id": "DaCkLABP2J36"
      },
      "outputs": [],
      "source": [
        "import pandas as pd\n",
        "from utils.vectorization import text_vectorization\n",
        "from utils.downloader import get_glove_vectors\n",
        "from models.embeddings_model import EmbeddingsModel\n",
        "from gensim.test.utils import datapath, get_tmpfile\n",
        "from gensim.scripts.glove2word2vec import glove2word2vec\n",
        "from gensim.models import Word2Vec, KeyedVectors\n",
        "from sklearn.manifold import TSNE\n",
        "import random\n",
        "import sys\n",
        "import numpy as np\n",
        "import pandas as pd\n",
        "import string\n",
        "import logging\n",
        "import random\n",
        "import matplotlib.pyplot as plt\n",
        "import tensorflow as tf\n",
        "from keras.preprocessing.text import Tokenizer\n",
        "from keras.preprocessing.sequence import pad_sequences\n",
        "from keras.models import Sequential, Model\n",
        "from keras.layers import Dense, Embedding, LSTM, GRU, Bidirectional\n",
        "from keras.layers.embeddings import Embedding\n",
        "# from keras.losses import SparseCategoricalCrossentropy\n",
        "# from keras.metrics import SparseCategoricalAccuracy, SparseCategoricalCrossentropy\n",
        "from tensorflow.keras.optimizers import Adam\n",
        "from sklearn.model_selection import train_test_split\n",
        "import os\n",
        "import time\n",
        "import pickle\n",
        "from tensorflow.keras import backend as K\n",
        "import ipdb"
      ]
    },
    {
      "cell_type": "code",
      "source": [
        "%pdb on"
      ],
      "metadata": {
        "colab": {
          "base_uri": "https://localhost:8080/"
        },
        "id": "7ux3Wl_u3_Uh",
        "outputId": "b390af8e-04ca-4138-ab62-08ea7e4cbf19"
      },
      "execution_count": 6,
      "outputs": [
        {
          "output_type": "stream",
          "name": "stdout",
          "text": [
            "Automatic pdb calling has been turned ON\n"
          ]
        }
      ]
    },
    {
      "cell_type": "markdown",
      "metadata": {
        "collapsed": false,
        "id": "eyCBByVq2J39"
      },
      "source": [
        "###Generate training-test data"
      ]
    },
    {
      "cell_type": "code",
      "source": [
        "def import_dataset(input_filepath: str, output_filepath: str, input_column: str, target_column: str, sep=\",\"):\n",
        "  df = pd.read_csv(input_filepath, sep=sep)\n",
        "  input_data = df[[input_column]]\n",
        "  print(f\"Input data shape: {input_data.shape}\")\n",
        "  df = pd.read_csv(output_filepath, sep=sep)\n",
        "  target_data = df[[target_column]].apply(lambda x : x + ' <eos>')\n",
        "  print(f\"Target data shape: {target_data.shape}\")\n",
        "  target_input_data = df[[target_column]].apply(lambda x : '<sos> '+ x)\n",
        "  print(f\"Target input data shape: {target_input_data.shape}\")\n",
        "\n",
        "  return input_data, target_data, target_input_data"
      ],
      "metadata": {
        "id": "fqUjNOEE7LQW"
      },
      "execution_count": 7,
      "outputs": []
    },
    {
      "cell_type": "code",
      "source": [
        "input_data, target_data, target_input_data = import_dataset('data/training/input_data.csv', 'data/training/output_data.csv', 'input_queries', 'output_queries')"
      ],
      "metadata": {
        "colab": {
          "base_uri": "https://localhost:8080/"
        },
        "id": "zUJc3FdU781k",
        "outputId": "d737ba49-bf85-4fd8-a0ab-d8ee3e6859ff"
      },
      "execution_count": 8,
      "outputs": [
        {
          "output_type": "stream",
          "name": "stdout",
          "text": [
            "Input data shape: (5501, 1)\n",
            "Target data shape: (5501, 1)\n",
            "Target input data shape: (5501, 1)\n"
          ]
        }
      ]
    },
    {
      "cell_type": "code",
      "source": [
        "raw_input_data, raw_target_data, raw_target_input_data = import_dataset('data/training/raw_input_data.csv', 'data/training/raw_output_data.csv', 'input_queries', 'output_queries', ';')"
      ],
      "metadata": {
        "colab": {
          "base_uri": "https://localhost:8080/"
        },
        "id": "mL_AkAWT8K4d",
        "outputId": "f49c31a4-6d21-4229-8e02-f8a4d27ff5c8"
      },
      "execution_count": 93,
      "outputs": [
        {
          "output_type": "stream",
          "name": "stdout",
          "text": [
            "Input data shape: (5595, 1)\n",
            "Target data shape: (5595, 1)\n",
            "Target input data shape: (5595, 1)\n"
          ]
        }
      ]
    },
    {
      "cell_type": "code",
      "source": [
        "operators_input_data, operators_target_data, operators_target_input_data = import_dataset('data/training/operators_impl_input_data_v3.csv', 'data/training/operators_impl_output_data_v3.csv', 'input_queries', 'output_queries')"
      ],
      "metadata": {
        "colab": {
          "base_uri": "https://localhost:8080/"
        },
        "id": "xrminPOE8kch",
        "outputId": "02170c31-9595-490a-89f3-90512585e678"
      },
      "execution_count": 8,
      "outputs": [
        {
          "output_type": "stream",
          "name": "stdout",
          "text": [
            "Input data shape: (5328, 1)\n",
            "Target data shape: (5328, 1)\n",
            "Target input data shape: (5328, 1)\n"
          ]
        }
      ]
    },
    {
      "cell_type": "markdown",
      "metadata": {
        "collapsed": false,
        "id": "B5EQAJ312J4A"
      },
      "source": [
        "###Vectorize inputs & outputs"
      ]
    },
    {
      "cell_type": "code",
      "execution_count": 9,
      "metadata": {
        "colab": {
          "base_uri": "https://localhost:8080/"
        },
        "id": "FFshRove2J4B",
        "outputId": "86329487-ebfb-4b84-be86-f28d638fc36e"
      },
      "outputs": [
        {
          "output_type": "stream",
          "name": "stdout",
          "text": [
            "[nltk_data] Downloading package averaged_perceptron_tagger to\n",
            "[nltk_data]     /root/nltk_data...\n",
            "[nltk_data]   Unzipping taggers/averaged_perceptron_tagger.zip.\n",
            "[nltk_data] Downloading package punkt to /root/nltk_data...\n",
            "[nltk_data]   Unzipping tokenizers/punkt.zip.\n",
            "[nltk_data] Downloading package omw-1.4 to /root/nltk_data...\n",
            "[nltk_data]   Unzipping corpora/omw-1.4.zip.\n",
            "[nltk_data] Downloading package wordnet to /root/nltk_data...\n",
            "[nltk_data]   Unzipping corpora/wordnet.zip.\n",
            "[nltk_data] Downloading package stopwords to /root/nltk_data...\n",
            "[nltk_data]   Unzipping corpora/stopwords.zip.\n"
          ]
        },
        {
          "output_type": "stream",
          "name": "stderr",
          "text": [
            "/usr/local/lib/python3.7/dist-packages/sklearn/feature_extraction/text.py:517: UserWarning: The parameter 'token_pattern' will not be used since 'tokenizer' is not None'\n",
            "  \"The parameter 'token_pattern' will not be used\"\n",
            "/usr/local/lib/python3.7/dist-packages/numpy/core/shape_base.py:65: VisibleDeprecationWarning: Creating an ndarray from ragged nested sequences (which is a list-or-tuple of lists-or-tuples-or ndarrays with different lengths or shapes) is deprecated. If you meant to do this, you must specify 'dtype=object' when creating the ndarray.\n",
            "  ary = asanyarray(ary)\n"
          ]
        },
        {
          "output_type": "stream",
          "name": "stdout",
          "text": [
            "[nltk_data] Downloading package averaged_perceptron_tagger to\n",
            "[nltk_data]     /root/nltk_data...\n",
            "[nltk_data]   Package averaged_perceptron_tagger is already up-to-\n",
            "[nltk_data]       date!\n",
            "[nltk_data] Downloading package punkt to /root/nltk_data...\n",
            "[nltk_data]   Package punkt is already up-to-date!\n",
            "[nltk_data] Downloading package omw-1.4 to /root/nltk_data...\n",
            "[nltk_data]   Package omw-1.4 is already up-to-date!\n",
            "[nltk_data] Downloading package wordnet to /root/nltk_data...\n",
            "[nltk_data]   Package wordnet is already up-to-date!\n",
            "[nltk_data] Downloading package stopwords to /root/nltk_data...\n",
            "[nltk_data]   Package stopwords is already up-to-date!\n",
            "[nltk_data] Downloading package averaged_perceptron_tagger to\n",
            "[nltk_data]     /root/nltk_data...\n",
            "[nltk_data]   Package averaged_perceptron_tagger is already up-to-\n",
            "[nltk_data]       date!\n",
            "[nltk_data] Downloading package punkt to /root/nltk_data...\n",
            "[nltk_data]   Package punkt is already up-to-date!\n",
            "[nltk_data] Downloading package omw-1.4 to /root/nltk_data...\n",
            "[nltk_data]   Package omw-1.4 is already up-to-date!\n",
            "[nltk_data] Downloading package wordnet to /root/nltk_data...\n",
            "[nltk_data]   Package wordnet is already up-to-date!\n",
            "[nltk_data] Downloading package stopwords to /root/nltk_data...\n",
            "[nltk_data]   Package stopwords is already up-to-date!\n"
          ]
        }
      ],
      "source": [
        "input_vectorizer, input_corpus = text_vectorization(input_data, ['input_queries'], (1, 1))\n",
        "target_vectorizer, target_corpus = text_vectorization(target_data, ['output_queries'], (1, 1))\n",
        "target_input_vectorizer, target_input_corpus = text_vectorization(target_input_data, ['output_queries'], (1, 1))"
      ]
    },
    {
      "cell_type": "code",
      "execution_count": 99,
      "metadata": {
        "colab": {
          "base_uri": "https://localhost:8080/"
        },
        "id": "Ipwz2XAV2J4D",
        "outputId": "8a18af9c-72b5-4b91-8160-0caac3c51b82"
      },
      "outputs": [
        {
          "output_type": "stream",
          "name": "stdout",
          "text": [
            "number of input words :  849\n",
            "number of target words :  1075\n",
            "number of target input words :  1075\n"
          ]
        }
      ],
      "source": [
        "print(\"number of input words : \", len(input_vectorizer.vocabulary_.keys()))\n",
        "print(\"number of target words : \", len(target_vectorizer.vocabulary_.keys()))\n",
        "print(\"number of target input words : \", len(target_input_vectorizer.vocabulary_.keys()))"
      ]
    },
    {
      "cell_type": "code",
      "execution_count": 97,
      "metadata": {
        "colab": {
          "base_uri": "https://localhost:8080/"
        },
        "id": "p8m9QfKBkGlu",
        "outputId": "2b376ef7-2770-4dda-bfef-21a35955d984"
      },
      "outputs": [
        {
          "output_type": "stream",
          "name": "stdout",
          "text": [
            "['join', 'model_list', '.', 'maker', 'car_makers', '.', 'id']\n",
            "join model_list.maker-car_makers.id\n"
          ]
        }
      ],
      "source": [
        "print(input_corpus[3])\n",
        "print(input_data['input_queries'][3])"
      ]
    },
    {
      "cell_type": "code",
      "source": [
        "operators_input_vectorizer, operators_input_corpus = text_vectorization(operators_input_data, ['input_queries'], (1, 1))\n",
        "operators_target_vectorizer, operators_target_corpus = text_vectorization(operators_target_data, ['output_queries'], (1, 1))\n",
        "operators_target_input_vectorizer, operators_target_input_corpus = text_vectorization(operators_target_input_data, ['output_queries'], (1, 1))"
      ],
      "metadata": {
        "colab": {
          "base_uri": "https://localhost:8080/"
        },
        "id": "Z5ed003r6_jA",
        "outputId": "2a805462-f61c-46cb-a21e-ce0a36692b58"
      },
      "execution_count": 87,
      "outputs": [
        {
          "output_type": "stream",
          "name": "stdout",
          "text": [
            "[nltk_data] Downloading package averaged_perceptron_tagger to\n",
            "[nltk_data]     /root/nltk_data...\n",
            "[nltk_data]   Package averaged_perceptron_tagger is already up-to-\n",
            "[nltk_data]       date!\n",
            "[nltk_data] Downloading package punkt to /root/nltk_data...\n",
            "[nltk_data]   Package punkt is already up-to-date!\n",
            "[nltk_data] Downloading package omw-1.4 to /root/nltk_data...\n",
            "[nltk_data]   Package omw-1.4 is already up-to-date!\n",
            "[nltk_data] Downloading package wordnet to /root/nltk_data...\n",
            "[nltk_data]   Package wordnet is already up-to-date!\n",
            "[nltk_data] Downloading package stopwords to /root/nltk_data...\n",
            "[nltk_data]   Package stopwords is already up-to-date!\n"
          ]
        },
        {
          "output_type": "stream",
          "name": "stderr",
          "text": [
            "/usr/local/lib/python3.7/dist-packages/sklearn/feature_extraction/text.py:517: UserWarning: The parameter 'token_pattern' will not be used since 'tokenizer' is not None'\n",
            "  \"The parameter 'token_pattern' will not be used\"\n",
            "/usr/local/lib/python3.7/dist-packages/numpy/core/shape_base.py:65: VisibleDeprecationWarning: Creating an ndarray from ragged nested sequences (which is a list-or-tuple of lists-or-tuples-or ndarrays with different lengths or shapes) is deprecated. If you meant to do this, you must specify 'dtype=object' when creating the ndarray.\n",
            "  ary = asanyarray(ary)\n"
          ]
        },
        {
          "output_type": "stream",
          "name": "stdout",
          "text": [
            "[nltk_data] Downloading package averaged_perceptron_tagger to\n",
            "[nltk_data]     /root/nltk_data...\n",
            "[nltk_data]   Package averaged_perceptron_tagger is already up-to-\n",
            "[nltk_data]       date!\n",
            "[nltk_data] Downloading package punkt to /root/nltk_data...\n",
            "[nltk_data]   Package punkt is already up-to-date!\n",
            "[nltk_data] Downloading package omw-1.4 to /root/nltk_data...\n",
            "[nltk_data]   Package omw-1.4 is already up-to-date!\n",
            "[nltk_data] Downloading package wordnet to /root/nltk_data...\n",
            "[nltk_data]   Package wordnet is already up-to-date!\n",
            "[nltk_data] Downloading package stopwords to /root/nltk_data...\n",
            "[nltk_data]   Package stopwords is already up-to-date!\n",
            "[nltk_data] Downloading package averaged_perceptron_tagger to\n",
            "[nltk_data]     /root/nltk_data...\n",
            "[nltk_data]   Package averaged_perceptron_tagger is already up-to-\n",
            "[nltk_data]       date!\n",
            "[nltk_data] Downloading package punkt to /root/nltk_data...\n",
            "[nltk_data]   Package punkt is already up-to-date!\n",
            "[nltk_data] Downloading package omw-1.4 to /root/nltk_data...\n",
            "[nltk_data]   Package omw-1.4 is already up-to-date!\n",
            "[nltk_data] Downloading package wordnet to /root/nltk_data...\n",
            "[nltk_data]   Package wordnet is already up-to-date!\n",
            "[nltk_data] Downloading package stopwords to /root/nltk_data...\n",
            "[nltk_data]   Package stopwords is already up-to-date!\n"
          ]
        }
      ]
    },
    {
      "cell_type": "code",
      "source": [
        "print(\"number of input words : \", len(operators_input_vectorizer.vocabulary_.keys()))\n",
        "print(\"number of target words : \", len(operators_target_vectorizer.vocabulary_.keys()))\n",
        "print(\"number of target input words : \", len(operators_target_input_vectorizer.vocabulary_.keys()))\n",
        "\n",
        "print(operators_input_data['input_queries'][3])\n",
        "print(operators_input_corpus[3])\n",
        "print(operators_target_input_corpus[3])\n",
        "print(operators_target_corpus[3])"
      ],
      "metadata": {
        "colab": {
          "base_uri": "https://localhost:8080/"
        },
        "id": "MqjjvRAZ-gRN",
        "outputId": "054fa70b-5eff-4d4c-a963-deba44183273"
      },
      "execution_count": 102,
      "outputs": [
        {
          "output_type": "stream",
          "name": "stdout",
          "text": [
            "number of input words :  784\n",
            "number of target words :  9\n",
            "number of target input words :  9\n",
            "join model_list.maker-car_makers.id\n",
            "['join', 'model_list', '.', 'maker', 'car_makers', '.', 'id']\n",
            "['<sos>', 'hash_join']\n",
            "['hash_join', '<eos>']\n"
          ]
        }
      ]
    },
    {
      "cell_type": "markdown",
      "metadata": {
        "collapsed": false,
        "id": "xcLHouLg2J4E"
      },
      "source": [
        "###Train embedding models"
      ]
    },
    {
      "cell_type": "code",
      "source": [
        "EMBEDDING_DIM = 128"
      ],
      "metadata": {
        "id": "CPNIXCm-854Y"
      },
      "execution_count": 31,
      "outputs": []
    },
    {
      "cell_type": "code",
      "execution_count": null,
      "metadata": {
        "colab": {
          "base_uri": "https://localhost:8080/"
        },
        "id": "O7nqYsFA91PC",
        "outputId": "350496ac-8d64-45c8-b458-4015009ad479"
      },
      "outputs": [
        {
          "name": "stdout",
          "output_type": "stream",
          "text": [
            "/content/gdrive/MyDrive/UNIPI/ml-query-optimization/data\n",
            "/content/gdrive/MyDrive/UNIPI/ml-query-optimization/data/glove\n",
            "--2022-02-23 16:06:27--  http://nlp.stanford.edu/data/glove.6B.zip\n",
            "Resolving nlp.stanford.edu (nlp.stanford.edu)... 171.64.67.140\n",
            "Connecting to nlp.stanford.edu (nlp.stanford.edu)|171.64.67.140|:80... connected.\n",
            "HTTP request sent, awaiting response... 302 Found\n",
            "Location: https://nlp.stanford.edu/data/glove.6B.zip [following]\n",
            "--2022-02-23 16:06:27--  https://nlp.stanford.edu/data/glove.6B.zip\n",
            "Connecting to nlp.stanford.edu (nlp.stanford.edu)|171.64.67.140|:443... connected.\n",
            "HTTP request sent, awaiting response... 301 Moved Permanently\n",
            "Location: http://downloads.cs.stanford.edu/nlp/data/glove.6B.zip [following]\n",
            "--2022-02-23 16:06:27--  http://downloads.cs.stanford.edu/nlp/data/glove.6B.zip\n",
            "Resolving downloads.cs.stanford.edu (downloads.cs.stanford.edu)... 171.64.64.22\n",
            "Connecting to downloads.cs.stanford.edu (downloads.cs.stanford.edu)|171.64.64.22|:80... connected.\n",
            "HTTP request sent, awaiting response... 200 OK\n",
            "Length: 862182613 (822M) [application/zip]\n",
            "Saving to: ‘glove.6B.zip’\n",
            "\n",
            "glove.6B.zip        100%[===================>] 822.24M  5.22MB/s    in 2m 39s  \n",
            "\n",
            "2022-02-23 16:09:06 (5.16 MB/s) - ‘glove.6B.zip’ saved [862182613/862182613]\n",
            "\n",
            "Archive:  glove.6B.zip\n",
            "  inflating: glove.6B.50d.txt        \n",
            "  inflating: glove.6B.100d.txt       \n",
            "  inflating: glove.6B.200d.txt       \n",
            "  inflating: glove.6B.300d.txt       \n",
            "/content/gdrive/MyDrive/UNIPI/ml-query-optimization\n"
          ]
        }
      ],
      "source": [
        "%cd data/\n",
        "!mkdir glove\n",
        "%cd glove/\n",
        "!wget http://nlp.stanford.edu/data/glove.6B.zip\n",
        "!unzip glove*.zip\n",
        "%cd ../../"
      ]
    },
    {
      "cell_type": "code",
      "execution_count": null,
      "metadata": {
        "colab": {
          "base_uri": "https://localhost:8080/"
        },
        "id": "dj4Ncsrn2J4F",
        "outputId": "4125f3c5-fbeb-4485-d9d1-60033f9add37"
      },
      "outputs": [
        {
          "name": "stdout",
          "output_type": "stream",
          "text": [
            "/content/gdrive/MyDrive/UNIPI/ml-query-optimization/data\n",
            "/content/gdrive/MyDrive/UNIPI/ml-query-optimization\n"
          ]
        }
      ],
      "source": [
        "%cd data\n",
        "!mkdir -p embedding_models\n",
        "%cd ../"
      ]
    },
    {
      "cell_type": "code",
      "execution_count": 32,
      "metadata": {
        "id": "txsZR-UL2J4F"
      },
      "outputs": [],
      "source": [
        "glove_vectors = get_glove_vectors()"
      ]
    },
    {
      "cell_type": "code",
      "execution_count": 34,
      "metadata": {
        "id": "-q1AGhnqHeJe"
      },
      "outputs": [],
      "source": [
        "input_encoder = EmbeddingsModel(vector_size=EMBEDDING_DIM)\n",
        "input_encoder.build(input_corpus, glove_vectors)\n",
        "output_encoder = EmbeddingsModel(vector_size=EMBEDDING_DIM)\n",
        "output_encoder.build(np.append(target_corpus, target_input_corpus, axis=0), glove_vectors)"
      ]
    },
    {
      "cell_type": "code",
      "source": [
        "raw_input_encoder = EmbeddingsModel()\n",
        "raw_input_encoder.build(raw_input_training_corpus, glove_vectors)\n",
        "raw_output_encoder = EmbeddingsModel()\n",
        "raw_output_encoder.build(raw_output_training_corpus, glove_vectors)"
      ],
      "metadata": {
        "id": "duTcr2MGNto7"
      },
      "execution_count": null,
      "outputs": []
    },
    {
      "cell_type": "code",
      "execution_count": 90,
      "metadata": {
        "id": "rRm6EuqC-jBv"
      },
      "outputs": [],
      "source": [
        "operators_input_encoder = EmbeddingsModel(vector_size=EMBEDDING_DIM)\n",
        "operators_input_encoder.build(operators_input_corpus, glove_vectors)\n",
        "operators_output_encoder = EmbeddingsModel(vector_size=EMBEDDING_DIM)\n",
        "operators_output_encoder.build(np.append(operators_target_corpus, operators_target_input_corpus, axis=0), glove_vectors)"
      ]
    },
    {
      "cell_type": "markdown",
      "metadata": {
        "id": "KrEpV36jW1cs"
      },
      "source": [
        "###Plot Input & Output Embeddings"
      ]
    },
    {
      "cell_type": "code",
      "execution_count": null,
      "metadata": {
        "id": "qL-pClpfTzDf"
      },
      "outputs": [],
      "source": [
        "def plot_embeddings(encoder: EmbeddingsModel, samples: int, title: str):\n",
        "  vocab_size, embedding_size = encoder.model.wv.vectors.shape\n",
        "  # Sample random words from model dictionary\n",
        "  random_i = random.sample(range(vocab_size), samples)\n",
        "  random_w = [encoder.model.wv.index_to_key[i] for i in random_i]\n",
        "\n",
        "  # Generate Word2Vec embeddings of each word\n",
        "  word_vecs = np.array([encoder.model.wv[w] for w in random_w])\n",
        "\n",
        "  # Apply t-SNE to Word2Vec embeddings, reducing to 2 dims\n",
        "  tsne = TSNE()\n",
        "  tsne_e = tsne.fit_transform(word_vecs)\n",
        "\n",
        "  # Plot t-SNE result\n",
        "  plt.figure(figsize=(32, 32))\n",
        "  plt.title(title)\n",
        "  plt.scatter(tsne_e[:, 0], tsne_e[:, 1], marker='o', c=range(len(random_w)), cmap=plt.get_cmap('Spectral'))\n",
        "\n",
        "  for label, x, y, in zip(random_w, tsne_e[:, 0], tsne_e[:, 1]):\n",
        "      plt.annotate(label,\n",
        "                   xy=(x, y), xytext=(0, 15),\n",
        "                   textcoords='offset points', ha='right', va='bottom',\n",
        "                   bbox=dict(boxstyle='round, pad=0.2', fc='yellow', alpha=0.1))\n",
        "  plt.show()\n"
      ]
    },
    {
      "cell_type": "code",
      "execution_count": null,
      "metadata": {
        "colab": {
          "base_uri": "https://localhost:8080/",
          "height": 1000
        },
        "id": "DSRH8B25SB80",
        "outputId": "2ce52469-8ded-441d-e59c-108da97fa3aa"
      },
      "outputs": [
        {
          "name": "stderr",
          "output_type": "stream",
          "text": [
            "/usr/local/lib/python3.7/dist-packages/sklearn/manifold/_t_sne.py:783: FutureWarning: The default initialization in TSNE will change from 'random' to 'pca' in 1.2.\n",
            "  FutureWarning,\n",
            "/usr/local/lib/python3.7/dist-packages/sklearn/manifold/_t_sne.py:793: FutureWarning: The default learning rate in TSNE will change from 200.0 to 'auto' in 1.2.\n",
            "  FutureWarning,\n"
          ]
        },
        {
          "data": {
            "image/png": "[encoded data removed]",
            "text/plain": [
              "<Figure size 2304x2304 with 1 Axes>"
            ]
          },
          "metadata": {},
          "output_type": "display_data"
        },
        {
          "name": "stderr",
          "output_type": "stream",
          "text": [
            "/usr/local/lib/python3.7/dist-packages/sklearn/manifold/_t_sne.py:783: FutureWarning: The default initialization in TSNE will change from 'random' to 'pca' in 1.2.\n",
            "  FutureWarning,\n",
            "/usr/local/lib/python3.7/dist-packages/sklearn/manifold/_t_sne.py:793: FutureWarning: The default learning rate in TSNE will change from 200.0 to 'auto' in 1.2.\n",
            "  FutureWarning,\n"
          ]
        },
        {
          "data": {
            "image/png": "[encoded data removed]",
            "text/plain": [
              "<Figure size 2304x2304 with 1 Axes>"
            ]
          },
          "metadata": {},
          "output_type": "display_data"
        }
      ],
      "source": [
        "plot_embeddings(input_encoder, 27, \"Input Encoder Embeddings\")\n",
        "plot_embeddings(output_encoder, 38, \"Output Encoder Embeddings\")"
      ]
    },
    {
      "cell_type": "markdown",
      "metadata": {
        "id": "K_a5lNnQHoyq"
      },
      "source": [
        "###Save embedding models"
      ]
    },
    {
      "cell_type": "code",
      "execution_count": 35,
      "metadata": {
        "id": "fsuOBFzgHtXm"
      },
      "outputs": [],
      "source": [
        "filename = '/content/gdrive/MyDrive/UNIPI/ml-query-optimization/data/embedding_models/input_encoder'\n",
        "input_encoder.model.save(filename)\n",
        "filename = '/content/gdrive/MyDrive/UNIPI/ml-query-optimization/data/embedding_models/output_encoder'\n",
        "output_encoder.model.save(filename)"
      ]
    },
    {
      "cell_type": "code",
      "source": [
        "filename = '/content/gdrive/MyDrive/UNIPI/ml-query-optimization/data/embedding_models/raw_input_encoder'\n",
        "raw_input_encoder.model.save(filename)\n",
        "filename = '/content/gdrive/MyDrive/UNIPI/ml-query-optimization/data/embedding_models/raw_output_encoder'\n",
        "raw_output_encoder.model.save(filename)"
      ],
      "metadata": {
        "id": "IVy4vreWORO1"
      },
      "execution_count": null,
      "outputs": []
    },
    {
      "cell_type": "code",
      "execution_count": 92,
      "metadata": {
        "id": "hZLLl3nihN8g"
      },
      "outputs": [],
      "source": [
        "filename = '/content/gdrive/MyDrive/UNIPI/ml-query-optimization/data/embedding_models/operators_input_encoder'\n",
        "operators_input_encoder.model.save(filename)\n",
        "filename = '/content/gdrive/MyDrive/UNIPI/ml-query-optimization/data/embedding_models/operators_output_encoder'\n",
        "operators_output_encoder.model.save(filename)"
      ]
    },
    {
      "cell_type": "markdown",
      "metadata": {
        "id": "Jx-Y_Mmxc8A7"
      },
      "source": [
        "###Tokenize inputs & outputs "
      ]
    },
    {
      "cell_type": "code",
      "execution_count": 36,
      "metadata": {
        "id": "SDMZBWvZjuRb"
      },
      "outputs": [],
      "source": [
        "def texts2sequences(texts: np.array, vocab: dict):\n",
        "  sequences = []\n",
        "  for i, text in enumerate(texts):\n",
        "    seq = []\n",
        "    for token in text:\n",
        "      if token in vocab.keys():\n",
        "        seq.append(vocab[token])\n",
        "      # else:\n",
        "      #   print(f\"token: {token} not found at text: {text} in position: {i}!\")\n",
        "    sequences.append(seq)\n",
        "\n",
        "  return sequences"
      ]
    },
    {
      "cell_type": "code",
      "execution_count": 37,
      "metadata": {
        "id": "3ANQkG36feRc"
      },
      "outputs": [],
      "source": [
        "def pad_tokenizer(x: np.array, vocab: dict):\n",
        "  # tokenize input\n",
        "  #tokenizer_obj = Tokenizer()\n",
        "  #tokenizer_obj.fit_on_texts(x)\n",
        "  sequences = texts2sequences(x, vocab)\n",
        "\n",
        "  # pad sequences\n",
        "  max_length = max([len(s) for s in x])\n",
        "  vocab_size = len(vocab) + 1\n",
        "  print('Found %s unique tokens.' % vocab_size)\n",
        "\n",
        "  train_pad = pad_sequences(sequences, maxlen=max_length, padding='post')\n",
        "  \n",
        "  return max_length, train_pad"
      ]
    },
    {
      "cell_type": "code",
      "source": [
        "def pad_tokenizer_bow(input_data: np.array, target_input_data=None, vocab_size=20000):\n",
        "\n",
        "  # Create a tokenizer for the input texts and fit it to them \n",
        "  tokenizer = Tokenizer(num_words=vocab_size, filters='')\n",
        "  tokenizer.fit_on_texts(input_data)\n",
        "  \n",
        "  if target_input_data is not None:\n",
        "    tokenizer.fit_on_texts(target_input_data)\n",
        "    target_input_sequences = tokenizer.texts_to_sequences(target_input_data)\n",
        "  else:\n",
        "    target_input_sequences = None\n",
        "\n",
        "  # Tokenize and transform input texts to sequence of integers\n",
        "  input_sequences = tokenizer.texts_to_sequences(input_data)\n",
        "  # Claculate the max length\n",
        "  input_max_len = max(len(s) for s in input_sequences)\n",
        "  print('Max Input Length: ', input_max_len)\n",
        "\n",
        "  # get the word to index mapping for input language\n",
        "  word2idx = tokenizer.word_index\n",
        "  print('Found %s unique input tokens.' % len(word2idx))\n",
        "\n",
        "  num_words = len(word2idx) + 1\n",
        "  idx2word = {v:k for k, v in word2idx.items()}\n",
        "\n",
        "  padded_input_sequences = pad_sequences(input_sequences, maxlen=input_max_len, padding='post')\n",
        "  if target_input_sequences is not None:\n",
        "    padded_input_target_sequences = pad_sequences(target_input_sequences, maxlen=input_max_len, padding='post')\n",
        "  else:\n",
        "    padded_input_target_sequences = None\n",
        "\n",
        "  print(\"padded sequences shape:\", padded_input_sequences.shape)\n",
        "\n",
        "  return input_max_len, padded_input_sequences, tokenizer, idx2word, padded_input_target_sequences"
      ],
      "metadata": {
        "id": "864hd2yx8gqZ"
      },
      "execution_count": 38,
      "outputs": []
    },
    {
      "cell_type": "markdown",
      "metadata": {
        "id": "I5NQceIldAR0"
      },
      "source": [
        "###Build model"
      ]
    },
    {
      "cell_type": "code",
      "execution_count": 39,
      "metadata": {
        "id": "STFI6pG2MgAA"
      },
      "outputs": [],
      "source": [
        "EMBEDDING_DIM = 128\n",
        "HIDDEN_DIM = 1024\n",
        "BATCH_SIZE = 16\n",
        "EPOCHS = 100\n",
        "LOG_EVERY = 50\n",
        "PATIENCE = 10\n",
        "WAIT = 0\n",
        "BEST = np.Inf\n",
        "ENCODER_BEST_WEIGHTS = None\n",
        "DECODER_BEST_WEIGHTS = None\n",
        "BEST_EPOCH = 0\n",
        "STOPPED_EPOCH = 0"
      ]
    },
    {
      "cell_type": "code",
      "execution_count": 40,
      "metadata": {
        "id": "aGg0N93FwIcM"
      },
      "outputs": [],
      "source": [
        "def get_embedding_matrix(vocab, embeddings_index, embedding_dim=EMBEDDING_DIM):\n",
        "  embedding_matrix = np.zeros((len(vocab) + 1, embedding_dim))\n",
        "  for word, i in vocab.items():\n",
        "    if word in embeddings_index.index_to_key:\n",
        "        # words not found in embedding index will be all-zeros.\n",
        "        embedding_matrix[i] = embeddings_index[word]\n",
        "  return embedding_matrix"
      ]
    },
    {
      "cell_type": "code",
      "execution_count": 41,
      "metadata": {
        "id": "I6HHvX-0NL6c"
      },
      "outputs": [],
      "source": [
        "class Encoder(Model):\n",
        "    def __init__(self, vocab_size, max_length, embedding_matrix=[], num_hidden=HIDDEN_DIM, num_embedding=EMBEDDING_DIM, batch_size=BATCH_SIZE, pretrained_embeddings=True):\n",
        "        super(Encoder, self).__init__()\n",
        "        self.batch_size = batch_size\n",
        "        self.num_hidden = num_hidden\n",
        "        self.num_embedding = num_embedding\n",
        "        self.embedding = Embedding(vocab_size, num_embedding, input_length=max_length, weights=[embedding_matrix], trainable=False) if pretrained_embeddings else Embedding(vocab_size, num_embedding)#, input_length=max_length)\n",
        "        self.lstm = LSTM(num_hidden, return_sequences=True,\n",
        "                                    recurrent_initializer='glorot_uniform',\n",
        "                                    return_state=True)\n",
        "        \n",
        "    def call(self, input_sequence, states):\n",
        "        embedded = self.embedding(input_sequence) #converts integer tokens into a dense representation\n",
        "        # print(f\"embedded shape = {embedded.shape}\")\n",
        "        # print(f\"hidden shape = {hidden.shape}\")\n",
        "        output, state_h, state_c = self.lstm(embedded, initial_state=states)\n",
        "        # print(f\"rnn_out shape = {rnn_out.shape}\")\n",
        "        # print(f\"hidden shape = {hidden.shape}\")\n",
        "        return output, state_h, state_c\n",
        "\n",
        "    def init_hidden(self, batch_size=16):\n",
        "        # Return a all 0s initial states\n",
        "        return (tf.zeros([batch_size, self.num_hidden]),\n",
        "                tf.zeros([batch_size, self.num_hidden]))"
      ]
    },
    {
      "cell_type": "code",
      "execution_count": 42,
      "metadata": {
        "id": "5yVozngNN_SP"
      },
      "outputs": [],
      "source": [
        "class LuongAttention(Model):\n",
        "    def __init__(self, rnn_size, attention_func):\n",
        "        super(LuongAttention, self).__init__()\n",
        "        self.attention_func = attention_func\n",
        "\n",
        "        if attention_func not in ['dot', 'general', 'concat']:\n",
        "            raise ValueError(\n",
        "                'Attention score must be either dot, general or concat.')\n",
        "\n",
        "        if attention_func == 'general':\n",
        "            # General score function\n",
        "            self.wa = tf.keras.layers.Dense(rnn_size)\n",
        "        elif attention_func == 'concat':\n",
        "            # Concat score function\n",
        "            self.wa = tf.keras.layers.Dense(rnn_size, activation='tanh')\n",
        "            self.va = tf.keras.layers.Dense(1)\n",
        "        \n",
        "    def call(self, decoder_output, encoder_output):\n",
        "        if self.attention_func == 'dot':\n",
        "            # Dot score function: decoder_output (dot) encoder_output\n",
        "            # decoder_output has shape: (batch_size, 1, rnn_size)\n",
        "            # encoder_output has shape: (batch_size, max_len, rnn_size)\n",
        "            # => score has shape: (batch_size, 1, max_len)\n",
        "            score = tf.matmul(decoder_output, encoder_output, transpose_b=True) # (batch_size, 1, max_len)\n",
        "        elif self.attention_func == 'general':\n",
        "            # General score function: decoder_output (dot) (Wa (dot) encoder_output)\n",
        "            # decoder_output has shape: (batch_size, 1, rnn_size)\n",
        "            # encoder_output has shape: (batch_size, max_len, rnn_size)\n",
        "            # => score has shape: (batch_size, 1, max_len)\n",
        "            score = tf.matmul(decoder_output, self.wa(\n",
        "                encoder_output), transpose_b=True) #(batch_size, 1, max_len)\n",
        "        elif self.attention_func == 'concat':\n",
        "            # Concat score function: va (dot) tanh(Wa (dot) concat(decoder_output + encoder_output))\n",
        "            # Decoder output must be broadcasted to encoder output's shape first\n",
        "            decoder_output = tf.tile(\n",
        "                decoder_output, [1, encoder_output.shape[1], 1]) #shape (batch size, max len,hidden_dim)\n",
        "\n",
        "            # Concat => Wa => va\n",
        "            # (batch_size, max_len, 2 * rnn_size) => (batch_size, max_len, rnn_size) => (batch_size, max_len, 1)\n",
        "            score = self.va(\n",
        "                self.wa(tf.concat((decoder_output, encoder_output), axis=-1))) # (batch_size, max len, 1)\n",
        "\n",
        "            # Transpose score vector to have the same shape as other two above\n",
        "            # (batch_size, max_len, 1) => (batch_size, 1, max_len)\n",
        "            score = tf.transpose(score, [0, 2, 1]) #(batch_size, 1, max_len)\n",
        "\n",
        "        # alignment a_t = softmax(score)\n",
        "        alignment = tf.keras.activations.softmax(score, axis=-1) #(batch_size, 1, max_len)\n",
        "        \n",
        "        # context vector c_t is the weighted average sum of encoder output\n",
        "        context = tf.matmul(alignment, encoder_output) # (batch_size, 1, hidden_dim)\n",
        "\n",
        "        return context, alignment"
      ]
    },
    {
      "cell_type": "code",
      "execution_count": 43,
      "metadata": {
        "id": "ruqcFBpGOJWp"
      },
      "outputs": [],
      "source": [
        "class Decoder(Model):\n",
        "    def __init__(self, vocab_size, max_length, embedding_matrix=[], attention_func='concat', hidden_dim=HIDDEN_DIM, num_embedding=EMBEDDING_DIM, batch_size=BATCH_SIZE, pretrained_embeddings=True):\n",
        "        super(Decoder, self).__init__()\n",
        "        \n",
        "        self.attn = LuongAttention(hidden_dim, attention_func)\n",
        "        self.embedding = Embedding(vocab_size, num_embedding, input_length=max_length, weights=[embedding_matrix], trainable=False) if pretrained_embeddings else Embedding(vocab_size, num_embedding)#, input_length=max_length)\n",
        "        self.lstm = LSTM(hidden_dim, recurrent_initializer='glorot_uniform',\n",
        "                                   return_sequences=True, return_state=True)\n",
        "        self.fc = Dense(hidden_dim, activation='tanh')\n",
        "        self.fs = Dense(vocab_size)\n",
        "        \n",
        "    def call(self, input_sequence, state, encoder_output):\n",
        "        # ipdb.set_trace()\n",
        "        # Remember that the input to the decoder\n",
        "        # is now a batch of one-word sequences,\n",
        "        # which means that its shape is (batch_size, 1)\n",
        "        embed = self.embedding(input_sequence)\n",
        "\n",
        "        # Therefore, the lstm_out has shape (batch_size, 1, hidden_dim)\n",
        "        lstm_out, state_h, state_c = self.lstm(embed, initial_state=state)\n",
        "\n",
        "        # Use self.attn to compute the context and alignment vectors\n",
        "        # context vector's shape: (batch_size, 1, hidden_dim)\n",
        "        # alignment vector's shape: (batch_size, 1, source_length)\n",
        "        context, alignment = self.attn(lstm_out, encoder_output)\n",
        "\n",
        "        # Combine the context vector and the LSTM output\n",
        "        # Before combined, both have shape of (batch_size, 1, hidden_dim),\n",
        "        # so let's squeeze the axis 1 first\n",
        "        # After combined, it will have shape of (batch_size, 2 * hidden_dim)\n",
        "        lstm_out = tf.concat(\n",
        "            [tf.squeeze(context, 1), tf.squeeze(lstm_out, 1)], 1)\n",
        "\n",
        "        # lstm_out now has shape (batch_size, hidden_dim)\n",
        "        lstm_out = self.fc(lstm_out)\n",
        "\n",
        "        # Finally, it is converted back to vocabulary space: (batch_size, vocab_size)\n",
        "        logits = self.fs(lstm_out)\n",
        "\n",
        "        return logits, state_h, state_c, alignment"
      ]
    },
    {
      "cell_type": "code",
      "execution_count": 44,
      "metadata": {
        "id": "n_7vgvEYdtMI"
      },
      "outputs": [],
      "source": [
        "# loss_fn = tf.keras.losses.SparseCategoricalCrossentropy(from_logits=True)\n",
        "# train_acc_metric = tf.keras.metrics.SparseCategoricalAccuracy()\n",
        "# # train_loss_metric = tf.keras.metrics.SparseCategoricalCrossentropy()\n",
        "# val_acc_metric = tf.keras.metrics.SparseCategoricalAccuracy()\n",
        "# #val_loss_metric = tf.keras.losses.SparseCategoricalCrossentropy(from_logits=False)"
      ]
    },
    {
      "cell_type": "code",
      "source": [
        "def loss_func(targets, logits):\n",
        "    crossentropy = tf.keras.losses.SparseCategoricalCrossentropy(\n",
        "        from_logits=True)\n",
        "    # Mask padding values, they do not have to compute for loss\n",
        "    mask = tf.math.logical_not(tf.math.equal(targets, 0))\n",
        "    mask = tf.cast(mask, dtype=tf.int64)\n",
        "    # Calculate the loss value\n",
        "    loss = crossentropy(targets, logits, sample_weight=mask)\n",
        "\n",
        "    return loss\n",
        "\n",
        "def accuracy_fn(y_true, y_pred):\n",
        "    # y_pred shape is batch_size, seq length, vocab size\n",
        "    # y_true shape is batch_size, seq length\n",
        "    pred_values = K.cast(K.argmax(y_pred, axis=-1), dtype='int32')\n",
        "    correct = K.cast(K.equal(y_true, pred_values), dtype='float32')\n",
        "\n",
        "    # 0 is padding, don't include those\n",
        "    mask = K.cast(K.greater(y_true, 0), dtype='float32')\n",
        "    n_correct = K.sum(mask * correct)\n",
        "    n_total = K.sum(mask)\n",
        "  \n",
        "    return n_correct / n_total"
      ],
      "metadata": {
        "id": "tPWlGjBzuo3c"
      },
      "execution_count": 45,
      "outputs": []
    },
    {
      "cell_type": "code",
      "execution_count": 46,
      "metadata": {
        "id": "4IwGov1ePMh2"
      },
      "outputs": [],
      "source": [
        "def train_step(input_tensor, target_seq_in, target_seq_out, enc_hidden, encoder, decoder, optimizer):\n",
        "    loss = 0.0\n",
        "    acc = 0.0\n",
        "    logits = None\n",
        "\n",
        "    with tf.GradientTape() as tape:\n",
        "        enc_output, de_state_h, de_state_c = encoder(input_tensor, enc_hidden)\n",
        "        # ipdb.set_trace()\n",
        "        for tx in range(target_seq_out.shape[1]):\n",
        "            # ipdb.set_trace()\n",
        "            decoder_in = tf.expand_dims(target_seq_in[:, tx], 1)\n",
        "            logit, de_state_h, de_state_c, _ = decoder(decoder_in, (de_state_h, de_state_c),\n",
        "                                            enc_output)\n",
        "            loss += loss_func(target_seq_out[:, tx], logit)\n",
        "            # Store the logits to calculate the accuracy\n",
        "            logit = K.expand_dims(logit, axis=1)\n",
        "            if logits is None:\n",
        "                logits = logit\n",
        "            else:\n",
        "                logits = K.concatenate((logits,logit), axis=1)\n",
        "        \n",
        "        # Calculate the accuracy for the batch data        \n",
        "        acc = accuracy_fn(target_seq_out, logits)\n",
        "\n",
        "    batch_loss = loss / target_seq_out.shape[1]\n",
        "    \n",
        "    variables = encoder.trainable_variables + decoder.trainable_variables\n",
        "    gradients = tape.gradient(loss, variables)\n",
        "    optimizer.apply_gradients(zip(gradients, variables))\n",
        "    return batch_loss, acc"
      ]
    },
    {
      "cell_type": "code",
      "execution_count": 47,
      "metadata": {
        "id": "Mrtj7Sh8eppV"
      },
      "outputs": [],
      "source": [
        "def test_step(input_tensor, target_seq_in, target_seq_out, enc_hidden, encoder, decoder): #input_tensor, target_tensor, enc_hidden, encoder, decoder \n",
        "  loss = 0.0\n",
        "  accuracy = 0.0\n",
        "  logits = None\n",
        "  enc_output, de_state_h, de_state_c = encoder(input_tensor, enc_hidden)\n",
        "  # ipdb.set_trace()\n",
        "  for tx in range(target_seq_out.shape[1]):\n",
        "      # ipdb.set_trace()\n",
        "      decoder_in = tf.expand_dims(target_seq_in[:, tx], 1)\n",
        "      logit, de_state_h, de_state_c, _ = decoder(decoder_in, (de_state_h, de_state_c),\n",
        "                                      enc_output)\n",
        "      loss += loss_func(target_seq_out[:, tx], logit)\n",
        "      # Store the logits to calculate the accuracy\n",
        "      logit = K.expand_dims(logit, axis=1)\n",
        "      if logits is None:\n",
        "          logits = logit\n",
        "      else:\n",
        "          logits = K.concatenate((logits,logit), axis=1)\n",
        "  acc = accuracy_fn(target_seq_out, logits)\n",
        "      \n",
        "\n",
        "  batch_loss = loss / target_seq_out.shape[1]\n",
        "\n",
        "  return batch_loss, acc"
      ]
    },
    {
      "cell_type": "code",
      "source": [
        "def main_train(train_encoder_inputs, train_decoder_inputs, train_decoder_outputs,\n",
        "               val_encoder_inputs, val_decoder_inputs, val_decoder_outputs,\n",
        "               input_encoder, x_max_length, output_encoder, y_max_length, checkpoint_dir, results_dir,\n",
        "               pretrained_embeddings=True, idx2word_input={}, idx2word_output={},\n",
        "               epochs=EPOCHS, log_every=LOG_EVERY, best=BEST, best_epoch=BEST_EPOCH, encoder_best_weights=ENCODER_BEST_WEIGHTS,\n",
        "               decoder_best_weights=DECODER_BEST_WEIGHTS, wait=WAIT, patience=PATIENCE, stopped_epoch=STOPPED_EPOCH,\n",
        "               num_hidden=HIDDEN_DIM, batch_size=BATCH_SIZE, attention_func='general'):\n",
        "  \n",
        "  buffer_size = len(train_encoder_inputs)\n",
        "  dataset = tf.data.Dataset.from_tensor_slices((train_encoder_inputs, train_decoder_inputs, train_decoder_outputs)).shuffle(buffer_size)\n",
        "  dataset = dataset.batch(batch_size)\n",
        "  steps_per_epoch = buffer_size // batch_size\n",
        "\n",
        "  buffer_size_val = len(val_encoder_inputs)\n",
        "  dataset_val = tf.data.Dataset.from_tensor_slices((val_encoder_inputs, val_decoder_inputs, val_decoder_outputs)).shuffle(buffer_size_val)\n",
        "  dataset_val = dataset_val.batch(batch_size)\n",
        "  steps_per_epoch_val = buffer_size_val // batch_size\n",
        "\n",
        "  if pretrained_embeddings:\n",
        "    en_vocab_size = len(input_encoder.model.wv.key_to_index) + 1\n",
        "    en_embedding_matrix = get_embedding_matrix(input_encoder.model.wv.key_to_index, input_encoder.model.wv)\n",
        "\n",
        "    dec_vocab_size = len(output_encoder.model.wv.key_to_index) + 1\n",
        "    dec_embedding_matrix = get_embedding_matrix(output_encoder.model.wv.key_to_index, output_encoder.model.wv)\n",
        "  else:\n",
        "    en_vocab_size = len(input_encoder.word_index) + 1\n",
        "    en_embedding_matrix = []\n",
        "\n",
        "    dec_vocab_size = len(output_encoder.word_index) + 1\n",
        "    dec_embedding_matrix = []\n",
        "\n",
        "  encoder = Encoder(en_vocab_size, x_max_length, en_embedding_matrix, num_hidden, EMBEDDING_DIM, batch_size, pretrained_embeddings) #embedding_matrix=[], num_hidden=256, num_embedding=EMBEDDING_DIM, batch_size=16, pretrained_embeddings=True\n",
        "  decoder = Decoder(dec_vocab_size, y_max_length, dec_embedding_matrix, 'general', num_hidden, EMBEDDING_DIM, batch_size, pretrained_embeddings)\n",
        "\n",
        "  train_losses = []\n",
        "  train_accuracies = []\n",
        "  val_losses = []\n",
        "  val_accuracies = []\n",
        "\n",
        "  optimizer = Adam(0.005)\n",
        "  checkpoint = tf.train.Checkpoint(optimizer=optimizer, encoder=encoder, decoder=decoder)\n",
        "\n",
        "  for e in range(1, epochs):\n",
        "    start_time = time.time()\n",
        "    total_loss = 0.0\n",
        "    total_accuracy = 0.0\n",
        "    enc_hidden = encoder.init_hidden(batch_size)\n",
        "\n",
        "    for idx, (input_seq, target_seq_in, target_seq_out) in enumerate(dataset.take(steps_per_epoch)):\n",
        "        # print(\"idx: {0}, input_tensor shape: {1}, target_tensor shape: {2}\".format(idx, input_tensor.shape,\n",
        "        #                                                                            output_tensor.shape))\n",
        "        batch_loss, batch_accuracy = train_step(input_seq, target_seq_in, target_seq_out, enc_hidden, encoder, decoder, optimizer)\n",
        "        total_loss += batch_loss\n",
        "        total_accuracy += batch_accuracy\n",
        "\n",
        "        if idx % log_every == 0:\n",
        "            print(\"Epochs: {} batch {}/{} | batch_accuracy: {:.4f} | batch_loss: {:.4f}\".format(e, idx, steps_per_epoch, batch_accuracy, batch_loss))\n",
        "\n",
        "    train_acc = total_accuracy / steps_per_epoch\n",
        "    train_accuracies.append(train_acc)\n",
        "    train_loss = total_loss / steps_per_epoch\n",
        "    train_losses.append(train_loss)\n",
        "    checkpoint.save(file_prefix = checkpoint_dir)\n",
        "    print(\"Epoch: {} | Training accuracy over epoch: {:.4f} | Training loss over epoch: {:.4f}\".format(e, float(train_acc), float(train_loss)))\n",
        "\n",
        "    total_loss = 0.0\n",
        "    total_accuracy = 0.0\n",
        "    for idx, (input_seq, target_seq_in, target_seq_out) in enumerate(dataset_val.take(steps_per_epoch_val)):\n",
        "      batch_loss, batch_accuracy = test_step(input_seq, target_seq_in, target_seq_out, enc_hidden, encoder, decoder)\n",
        "      total_loss += batch_loss\n",
        "      total_accuracy += batch_accuracy\n",
        "\n",
        "    val_acc = total_accuracy / steps_per_epoch_val\n",
        "    val_accuracies.append(val_acc)\n",
        "    val_loss = total_loss / steps_per_epoch_val\n",
        "    val_losses.append(val_loss)\n",
        "    print(\"Epoch: {} | Validation acc: {:.4f} | Validation loss: {:.4f}\".format(e, float(val_acc), float(val_loss)))\n",
        "    print(\"Time taken: %.2fs\" % (time.time() - start_time))\n",
        "\n",
        "    # if e % 2 == 0:\n",
        "        # print(\"Epochs: {}/{} | total_loss: {:.4f} | total_accuracy: {:.4f}\".format(\n",
        "        #     e, EPOCHS, total_loss / steps_per_epoch, total_accuracy / steps_per_epoch))\n",
        "    #    print(\"Epochs: {}/{} | total_loss: {:.4f}\".format(e, EPOCHS, total_loss / steps_per_epoch))\n",
        "    \n",
        "    # The early stopping strategy: stop the training if `val_loss` does not\n",
        "    # decrease over a certain number of epochs.\n",
        "    \n",
        "    if np.less(val_loss, best):\n",
        "      best = val_loss\n",
        "      wait = 0\n",
        "      best_epoch = e\n",
        "      # Record the best weights if current results is better (less).\n",
        "      encoder_best_weights = encoder.get_weights()\n",
        "      decoder_best_weights = decoder.get_weights()\n",
        "    else:\n",
        "      wait += 1\n",
        "      if wait >= patience:\n",
        "        stopped_epoch = e\n",
        "        encoder.stop_training = True\n",
        "        decoder.stop_training = True\n",
        "        print(f\"Early stopping activated! Restoring model weights from the end of the (best) epoch: {best_epoch}.\")\n",
        "        encoder.set_weights(encoder_best_weights)\n",
        "        decoder.set_weights(decoder_best_weights)\n",
        "        checkpoint.save(file_prefix = checkpoint_dir)\n",
        "        break\n",
        "\n",
        "  with open(results_dir, \"wb\") as f:\n",
        "    results = {\n",
        "      'train_losses': train_losses, \n",
        "      'train_accuracies': train_accuracies, \n",
        "      'val_losses': val_losses, \n",
        "      'val_accuracies': val_accuracies \n",
        "    }\n",
        "    pickle.dump(results, f)\n"
      ],
      "metadata": {
        "id": "yZ7VnKHTyfsD"
      },
      "execution_count": 48,
      "outputs": []
    },
    {
      "cell_type": "markdown",
      "metadata": {
        "id": "Rk38bQEa_FYX"
      },
      "source": [
        "###Predict - Inference model"
      ]
    },
    {
      "cell_type": "code",
      "execution_count": 23,
      "metadata": {
        "id": "3TWKLEizC6Y2"
      },
      "outputs": [],
      "source": [
        "from sklearn.metrics import accuracy_score\n",
        "\n",
        "def predict_seq2seq_att(input_text, input_max_len, input_encoder, output_encoder, encoder, decoder, output_text, output_max_len, idx2word_outputs={}, pretrained_embeddings=True):\n",
        "    print(input_text)\n",
        "    # print(output_text)\n",
        "    # Tokenize the input text\n",
        "    # print(f\"pretrained_embeddings: {pretrained_embeddings}\")\n",
        "    input_seq = texts2sequences([input_text], input_encoder.model.wv.key_to_index) if pretrained_embeddings else input_encoder.texts_to_sequences([input_text])\n",
        "    # Pad the sentence\n",
        "    input_seq = pad_sequences(input_seq, maxlen=input_max_len, padding='post')\n",
        "    # input_seq = input_text\n",
        "    # Get the encoder initial states\n",
        "    en_initial_states = encoder.init_hidden(1)\n",
        "    # Get the encoder outputs or hidden states\n",
        "    en_outputs = encoder(tf.constant(input_seq), en_initial_states)\n",
        "    # Set the decoder input to the sos token\n",
        "    idx = output_encoder.model.wv.key_to_index['<sos>'] if pretrained_embeddings else output_encoder.word_index['<sos>']\n",
        "    de_input = tf.constant([[idx]])\n",
        "    # Set the initial hidden states of the decoder to the hidden states of the encoder\n",
        "    de_state_h, de_state_c = en_outputs[1:]\n",
        "    \n",
        "    out_words = []\n",
        "    out_sequence = []\n",
        "    alignments = []\n",
        "    # ipdb.set_trace()\n",
        "    prediction_length = output_text.count('scan') + output_text.count('join')\n",
        "    while True:\n",
        "        # Get the decoder with attention output\n",
        "        # ipdb.set_trace()\n",
        "        de_output, de_state_h, de_state_c, alignment = decoder(\n",
        "            de_input, (de_state_h, de_state_c), en_outputs[0])\n",
        "        de_input = tf.expand_dims(tf.argmax(de_output, -1), 0)\n",
        "        # Detokenize the output\n",
        "        word = output_encoder.model.wv.index_to_key[de_input.numpy()[0][0]] if pretrained_embeddings else idx2word_outputs[de_input.numpy()[0][0]]\n",
        "        out_words.append(word)\n",
        "        out_sequence.append(de_input.numpy()[0][0])\n",
        "        # Save the aligment matrix\n",
        "        alignments.append(alignment.numpy())\n",
        "\n",
        "        if word == '<eos>':\n",
        "            break\n",
        "        elif len(out_words) >= prediction_length:\n",
        "          out_words.append('<eos>')\n",
        "          idx = output_encoder.model.wv.key_to_index['<eos>'] if pretrained_embeddings else output_encoder.word_index['<eos>']\n",
        "          out_sequence.append(idx)\n",
        "          break\n",
        "    # Join the output words\n",
        "    # ipdb.set_trace()\n",
        "    padded_out = pad_sequences([out_sequence], maxlen=output_max_len, padding='post')[0]\n",
        "\n",
        "    output_seq = texts2sequences([output_text], output_encoder.model.wv.key_to_index) if pretrained_embeddings else output_encoder.texts_to_sequences([output_text])\n",
        "    # Pad the sentence\n",
        "    output_seq = pad_sequences(output_seq, maxlen=output_max_len, padding='post')[0]\n",
        "    acc = accuracy_score(output_seq, padded_out)\n",
        "    \n",
        "    return np.array(alignments), input_text, out_words, acc"
      ]
    },
    {
      "cell_type": "code",
      "source": [
        "def generate_predictions(X_test, y_test, input_encoder, output_encoder, checkpoint_dir, x_test_max_length, y_test_max_length, idx2word_input=None, idx2word_output=None, pretrained_embeddings=True):\n",
        "  # tokenize input\n",
        "  print(x_test_max_length)\n",
        "  print(y_test_max_length)\n",
        "\n",
        "  predict_optimizer = tf.keras.optimizers.Adam(0.005)\n",
        "  encoder = Encoder(len(input_encoder.model.wv.key_to_index if pretrained_embeddings else idx2word_input) + 1, x_test_max_length, get_embedding_matrix(input_encoder.model.wv.key_to_index, input_encoder.model.wv) if pretrained_embeddings else [], 256, EMBEDDING_DIM, 16, pretrained_embeddings)\n",
        "  decoder = Decoder(len(output_encoder.model.wv.key_to_index if pretrained_embeddings else idx2word_output) + 1, y_test_max_length, get_embedding_matrix(output_encoder.model.wv.key_to_index, output_encoder.model.wv) if pretrained_embeddings else [], 'concat', 256, EMBEDDING_DIM, 16, pretrained_embeddings)\n",
        "\n",
        "  checkpoint = tf.train.Checkpoint(optimizer=predict_optimizer,\n",
        "                                  encoder=encoder,\n",
        "                                  decoder=decoder)\n",
        "\n",
        "  checkpoint.restore(tf.train.latest_checkpoint(checkpoint_dir))\n",
        "\n",
        "  test_sents = list(X_test)#[0:(0+n_predictions)]\n",
        "  # ipdb.set_trace()\n",
        "  # Create the figure to plot in\n",
        "  # fig = plt.figure(figsize=(10, 20))\n",
        "  total_acc = 0.0\n",
        "  for i, test_sent in enumerate(test_sents):\n",
        "      # Call the predict function to get the translation\n",
        "      alignments, source, prediction, acc = predict_seq2seq_att(test_sent, x_test_max_length, input_encoder, output_encoder, encoder, decoder, y_test[i], y_test_max_length, idx2word_output, pretrained_embeddings)\n",
        "      print(f\"prediction: {prediction}\")\n",
        "      print(f\"actual: {y_test[i]}\")\n",
        "      print(f\"Accuracy: {acc}\\n\")\n",
        "      total_acc += acc\n",
        "      # attention = np.squeeze(alignments, (1, 2))\n",
        "      # Create a subplot\n",
        "      # ax = fig.add_subplot(1, n_predictions, i+1)\n",
        "      # ax.matshow(attention[:len(prediction), :len(source)], cmap='viridis')\n",
        "      # ax.set_xticklabels([''] + source, rotation=90)\n",
        "      # ax.set_yticklabels([''] + prediction)\n",
        "\n",
        "  # plt.show()\n",
        "  print(\"Total accuracy: {:.4f}\".format(total_acc / len(test_sents)))"
      ],
      "metadata": {
        "id": "lw2d4hfhcP1n"
      },
      "execution_count": 24,
      "outputs": []
    },
    {
      "cell_type": "markdown",
      "source": [
        "###Experiments"
      ],
      "metadata": {
        "id": "uj88rTcBbAUI"
      }
    },
    {
      "cell_type": "markdown",
      "source": [
        "####1st Experiment"
      ],
      "metadata": {
        "id": "ff9dQeJSzTwf"
      }
    },
    {
      "cell_type": "code",
      "execution_count": 25,
      "metadata": {
        "id": "AjCeq5crae6o"
      },
      "outputs": [],
      "source": [
        "input_encoder = EmbeddingsModel()\n",
        "input_encoder.model = Word2Vec.load('/content/gdrive/MyDrive/UNIPI/ml-query-optimization/data/embedding_models/input_encoder')\n",
        "output_encoder = EmbeddingsModel()\n",
        "output_encoder.model = Word2Vec.load('/content/gdrive/MyDrive/UNIPI/ml-query-optimization/data/embedding_models/output_encoder')"
      ]
    },
    {
      "cell_type": "code",
      "source": [
        "input = input_corpus\n",
        "target = np.column_stack((target_input_corpus, target_corpus))\n",
        "\n",
        "print(f\"Input shape: {input.shape}, Target shape: {input.shape}\")\n",
        "\n",
        "y_train, y_test, input_train, input_test = train_test_split(target, input, test_size=0.01, random_state=42)\n",
        "target_input_train = y_train[:,0]\n",
        "target_train = y_train[:,1]\n",
        "target_input_test = y_test[:,0]\n",
        "target_test = y_test[:,1]\n",
        "\n",
        "print(f\"Input train shape: {input_train.shape}, target train shape: {target_train.shape}, target input train shape: {target_input_train.shape}\")\n",
        "print(f\"Input test shape: {input_test.shape}, target test shape: {target_test.shape}, target input test shape: {target_input_test.shape}\")\n",
        "\n",
        "x_max_length, encoder_inputs = pad_tokenizer(input_train, input_encoder.model.wv.key_to_index)\n",
        "y_max_length, decoder_targets = pad_tokenizer(target_train, output_encoder.model.wv.key_to_index)\n",
        "_, decoder_inputs = pad_tokenizer(target_input_train, output_encoder.model.wv.key_to_index)\n",
        "\n",
        "dec_inputs = np.column_stack((decoder_inputs, decoder_targets))\n",
        "dec_train, dec_val, train_encoder_inputs, val_encoder_inputs = train_test_split(dec_inputs, encoder_inputs, test_size=0.01, random_state=42)\n",
        "train_decoder_inputs = dec_train[:,:y_max_length]\n",
        "train_decoder_targets = dec_train[:,y_max_length:]\n",
        "val_decoder_inputs = dec_val[:,:y_max_length]\n",
        "val_decoder_targets = dec_val[:,y_max_length:]\n",
        "\n",
        "print(f\"Encoder Input train shape: {train_encoder_inputs.shape}, Decoder input train shape: {train_decoder_inputs.shape}, Decoder target train shape: {train_decoder_targets.shape}\")\n",
        "print(f\"Encoder Input validation shape: {val_encoder_inputs.shape}, Decoder validation train shape: {val_decoder_inputs.shape}, Decoder validation train shape: {val_decoder_targets.shape}\")"
      ],
      "metadata": {
        "colab": {
          "base_uri": "https://localhost:8080/"
        },
        "id": "cJJAXvzosSH3",
        "outputId": "1cd2e415-f464-4e5e-88c0-404fb1b41ff6"
      },
      "execution_count": 27,
      "outputs": [
        {
          "output_type": "stream",
          "name": "stdout",
          "text": [
            "Input shape: (5501,), Target shape: (5501,)\n",
            "Input train shape: (5445,), target train shape: (5445,), target input train shape: (5445,)\n",
            "Input test shape: (56,), target test shape: (56,), target input test shape: (56,)\n",
            "Found 561 unique tokens.\n",
            "Found 695 unique tokens.\n",
            "Found 695 unique tokens.\n",
            "Encoder Input train shape: (5390, 32), Decoder input train shape: (5390, 92), Decoder target train shape: (5390, 92)\n",
            "Encoder Input validation shape: (55, 32), Decoder validation train shape: (55, 92), Decoder validation train shape: (55, 92)\n"
          ]
        }
      ]
    },
    {
      "cell_type": "markdown",
      "source": [
        "#####Training"
      ],
      "metadata": {
        "id": "HKMnR461bNh8"
      }
    },
    {
      "cell_type": "code",
      "source": [
        "checkpoint_dir = '/content/gdrive/MyDrive/UNIPI/ml-query-optimization/data/weights/chkp'\n",
        "results_dir = \"/content/gdrive/MyDrive/UNIPI/ml-query-optimization/data/weights/results.pkl\""
      ],
      "metadata": {
        "id": "ib8J5PbBtg-2"
      },
      "execution_count": 28,
      "outputs": []
    },
    {
      "cell_type": "code",
      "source": [
        "main_train(train_encoder_inputs, train_decoder_inputs, train_decoder_targets,\n",
        "               val_encoder_inputs, val_decoder_inputs, val_decoder_targets,\n",
        "               input_encoder, x_max_length, output_encoder, y_max_length, checkpoint_dir, results_dir)"
      ],
      "metadata": {
        "colab": {
          "base_uri": "https://localhost:8080/",
          "height": 466
        },
        "id": "RUgdwdattsZ3",
        "outputId": "c4fe9484-59b4-4f70-e2f0-0e5136c2158e"
      },
      "execution_count": 29,
      "outputs": [
        {
          "output_type": "error",
          "ename": "ValueError",
          "evalue": "ignored",
          "traceback": [
            "\u001b[0;31m---------------------------------------------------------------------------\u001b[0m",
            "\u001b[0;31mValueError\u001b[0m                                Traceback (most recent call last)",
            "\u001b[0;32m<ipython-input-29-c8f829032f31>\u001b[0m in \u001b[0;36m<module>\u001b[0;34m()\u001b[0m\n\u001b[1;32m      1\u001b[0m main_train(train_encoder_inputs, train_decoder_inputs, train_decoder_targets,\n\u001b[1;32m      2\u001b[0m                \u001b[0mval_encoder_inputs\u001b[0m\u001b[0;34m,\u001b[0m \u001b[0mval_decoder_inputs\u001b[0m\u001b[0;34m,\u001b[0m \u001b[0mval_decoder_targets\u001b[0m\u001b[0;34m,\u001b[0m\u001b[0;34m\u001b[0m\u001b[0;34m\u001b[0m\u001b[0m\n\u001b[0;32m----> 3\u001b[0;31m                input_encoder, x_max_length, output_encoder, y_max_length, checkpoint_dir, results_dir)\n\u001b[0m",
            "\u001b[0;32m<ipython-input-22-f83af4b3e450>\u001b[0m in \u001b[0;36mmain_train\u001b[0;34m(train_encoder_inputs, train_decoder_inputs, train_decoder_outputs, val_encoder_inputs, val_decoder_inputs, val_decoder_outputs, input_encoder, x_max_length, output_encoder, y_max_length, checkpoint_dir, results_dir, pretrained_embeddings, idx2word_input, idx2word_output, epochs, log_every, best, best_epoch, encoder_best_weights, decoder_best_weights, wait, patience, stopped_epoch, num_hidden, batch_size, attention_func)\u001b[0m\n\u001b[1;32m     19\u001b[0m   \u001b[0;32mif\u001b[0m \u001b[0mpretrained_embeddings\u001b[0m\u001b[0;34m:\u001b[0m\u001b[0;34m\u001b[0m\u001b[0;34m\u001b[0m\u001b[0m\n\u001b[1;32m     20\u001b[0m     \u001b[0men_vocab_size\u001b[0m \u001b[0;34m=\u001b[0m \u001b[0mlen\u001b[0m\u001b[0;34m(\u001b[0m\u001b[0minput_encoder\u001b[0m\u001b[0;34m.\u001b[0m\u001b[0mmodel\u001b[0m\u001b[0;34m.\u001b[0m\u001b[0mwv\u001b[0m\u001b[0;34m.\u001b[0m\u001b[0mkey_to_index\u001b[0m\u001b[0;34m)\u001b[0m \u001b[0;34m+\u001b[0m \u001b[0;36m1\u001b[0m\u001b[0;34m\u001b[0m\u001b[0;34m\u001b[0m\u001b[0m\n\u001b[0;32m---> 21\u001b[0;31m     \u001b[0men_embedding_matrix\u001b[0m \u001b[0;34m=\u001b[0m \u001b[0mget_embedding_matrix\u001b[0m\u001b[0;34m(\u001b[0m\u001b[0minput_encoder\u001b[0m\u001b[0;34m.\u001b[0m\u001b[0mmodel\u001b[0m\u001b[0;34m.\u001b[0m\u001b[0mwv\u001b[0m\u001b[0;34m.\u001b[0m\u001b[0mkey_to_index\u001b[0m\u001b[0;34m,\u001b[0m \u001b[0minput_encoder\u001b[0m\u001b[0;34m.\u001b[0m\u001b[0mmodel\u001b[0m\u001b[0;34m.\u001b[0m\u001b[0mwv\u001b[0m\u001b[0;34m)\u001b[0m\u001b[0;34m\u001b[0m\u001b[0;34m\u001b[0m\u001b[0m\n\u001b[0m\u001b[1;32m     22\u001b[0m \u001b[0;34m\u001b[0m\u001b[0m\n\u001b[1;32m     23\u001b[0m     \u001b[0mdec_vocab_size\u001b[0m \u001b[0;34m=\u001b[0m \u001b[0mlen\u001b[0m\u001b[0;34m(\u001b[0m\u001b[0moutput_encoder\u001b[0m\u001b[0;34m.\u001b[0m\u001b[0mmodel\u001b[0m\u001b[0;34m.\u001b[0m\u001b[0mwv\u001b[0m\u001b[0;34m.\u001b[0m\u001b[0mkey_to_index\u001b[0m\u001b[0;34m)\u001b[0m \u001b[0;34m+\u001b[0m \u001b[0;36m1\u001b[0m\u001b[0;34m\u001b[0m\u001b[0;34m\u001b[0m\u001b[0m\n",
            "\u001b[0;32m<ipython-input-14-caf0ce635864>\u001b[0m in \u001b[0;36mget_embedding_matrix\u001b[0;34m(vocab, embeddings_index, embedding_dim)\u001b[0m\n\u001b[1;32m      4\u001b[0m     \u001b[0;32mif\u001b[0m \u001b[0mword\u001b[0m \u001b[0;32min\u001b[0m \u001b[0membeddings_index\u001b[0m\u001b[0;34m.\u001b[0m\u001b[0mindex_to_key\u001b[0m\u001b[0;34m:\u001b[0m\u001b[0;34m\u001b[0m\u001b[0;34m\u001b[0m\u001b[0m\n\u001b[1;32m      5\u001b[0m         \u001b[0;31m# words not found in embedding index will be all-zeros.\u001b[0m\u001b[0;34m\u001b[0m\u001b[0;34m\u001b[0m\u001b[0;34m\u001b[0m\u001b[0m\n\u001b[0;32m----> 6\u001b[0;31m         \u001b[0membedding_matrix\u001b[0m\u001b[0;34m[\u001b[0m\u001b[0mi\u001b[0m\u001b[0;34m]\u001b[0m \u001b[0;34m=\u001b[0m \u001b[0membeddings_index\u001b[0m\u001b[0;34m[\u001b[0m\u001b[0mword\u001b[0m\u001b[0;34m]\u001b[0m\u001b[0;34m\u001b[0m\u001b[0;34m\u001b[0m\u001b[0m\n\u001b[0m\u001b[1;32m      7\u001b[0m   \u001b[0;32mreturn\u001b[0m \u001b[0membedding_matrix\u001b[0m\u001b[0;34m\u001b[0m\u001b[0;34m\u001b[0m\u001b[0m\n",
            "\u001b[0;31mValueError\u001b[0m: could not broadcast input array from shape (300,) into shape (128,)"
          ]
        },
        {
          "name": "stdout",
          "output_type": "stream",
          "text": [
            "> \u001b[0;32m<ipython-input-14-caf0ce635864>\u001b[0m(6)\u001b[0;36mget_embedding_matrix\u001b[0;34m()\u001b[0m\n",
            "\u001b[0;32m      3 \u001b[0;31m  \u001b[0;32mfor\u001b[0m \u001b[0mword\u001b[0m\u001b[0;34m,\u001b[0m \u001b[0mi\u001b[0m \u001b[0;32min\u001b[0m \u001b[0mvocab\u001b[0m\u001b[0;34m.\u001b[0m\u001b[0mitems\u001b[0m\u001b[0;34m(\u001b[0m\u001b[0;34m)\u001b[0m\u001b[0;34m:\u001b[0m\u001b[0;34m\u001b[0m\u001b[0;34m\u001b[0m\u001b[0m\n",
            "\u001b[0m\u001b[0;32m      4 \u001b[0;31m    \u001b[0;32mif\u001b[0m \u001b[0mword\u001b[0m \u001b[0;32min\u001b[0m \u001b[0membeddings_index\u001b[0m\u001b[0;34m.\u001b[0m\u001b[0mindex_to_key\u001b[0m\u001b[0;34m:\u001b[0m\u001b[0;34m\u001b[0m\u001b[0;34m\u001b[0m\u001b[0m\n",
            "\u001b[0m\u001b[0;32m      5 \u001b[0;31m        \u001b[0;31m# words not found in embedding index will be all-zeros.\u001b[0m\u001b[0;34m\u001b[0m\u001b[0;34m\u001b[0m\u001b[0;34m\u001b[0m\u001b[0m\n",
            "\u001b[0m\u001b[0;32m----> 6 \u001b[0;31m        \u001b[0membedding_matrix\u001b[0m\u001b[0;34m[\u001b[0m\u001b[0mi\u001b[0m\u001b[0;34m]\u001b[0m \u001b[0;34m=\u001b[0m \u001b[0membeddings_index\u001b[0m\u001b[0;34m[\u001b[0m\u001b[0mword\u001b[0m\u001b[0;34m]\u001b[0m\u001b[0;34m\u001b[0m\u001b[0;34m\u001b[0m\u001b[0m\n",
            "\u001b[0m\u001b[0;32m      7 \u001b[0;31m  \u001b[0;32mreturn\u001b[0m \u001b[0membedding_matrix\u001b[0m\u001b[0;34m\u001b[0m\u001b[0;34m\u001b[0m\u001b[0m\n",
            "\u001b[0m\n",
            "ipdb> q\n"
          ]
        }
      ]
    },
    {
      "cell_type": "code",
      "source": [
        "WAIT = 0\n",
        "BEST = np.Inf\n",
        "ENCODER_BEST_WEIGHTS = None\n",
        "DECODER_BEST_WEIGHTS = None\n",
        "BEST_EPOCH = 0\n",
        "STOPPED_EPOCH = 0"
      ],
      "metadata": {
        "id": "XKOKjw-95EAQ"
      },
      "execution_count": null,
      "outputs": []
    },
    {
      "cell_type": "code",
      "source": [
        "input_tensor = tf.convert_to_tensor(X_train_pad)\n",
        "output_tensor = tf.convert_to_tensor(y_train_pad)\n",
        "\n",
        "buffer_size = len(input_tensor)\n",
        "dataset = tf.data.Dataset.from_tensor_slices((input_tensor, output_tensor)).shuffle(buffer_size)\n",
        "dataset = dataset.batch(BATCH_SIZE)\n",
        "steps_per_epoch = len(input_tensor) // BATCH_SIZE\n",
        "\n",
        "input_tensor_val = tf.convert_to_tensor(X_test_pad)\n",
        "output_tensor_val = tf.convert_to_tensor(y_test_pad)\n",
        "\n",
        "buffer_size_val = len(input_tensor_val)\n",
        "dataset_val = tf.data.Dataset.from_tensor_slices((input_tensor_val, output_tensor_val)).shuffle(buffer_size_val)\n",
        "dataset_val = dataset_val.batch(BATCH_SIZE)\n",
        "steps_per_epoch_val = len(input_tensor_val) // BATCH_SIZE\n",
        "\n",
        "#hidden = tf.zeros((16, 256))\n",
        "encoder = Encoder(len(input_encoder.model.wv.key_to_index) + 1, x_max_length, get_embedding_matrix(input_encoder.model.wv.key_to_index, input_encoder.model.wv))\n",
        "decoder = Decoder(len(output_encoder.model.wv.key_to_index) + 1, y_max_length, get_embedding_matrix(output_encoder.model.wv.key_to_index, output_encoder.model.wv))\n",
        "\n",
        "train_losses = []\n",
        "train_accuracies = []\n",
        "val_losses = []\n",
        "val_accuracies = []\n",
        "\n",
        "optimizer = Adam(0.005)\n",
        "checkpoint_dir = '/content/gdrive/MyDrive/UNIPI/ml-query-optimization/data/weights/chkp'\n",
        "checkpoint = tf.train.Checkpoint(optimizer=optimizer, encoder=encoder, decoder=decoder)\n",
        "\n",
        "for e in range(1, EPOCHS):\n",
        "  start_time = time.time()\n",
        "  total_loss = 0.0\n",
        "  total_accuracy = 0.0\n",
        "  enc_hidden = encoder.init_hidden(BATCH_SIZE)\n",
        "\n",
        "  for idx, (input_tensor, target_tensor) in enumerate(dataset.take(steps_per_epoch)):\n",
        "      # print(\"idx: {0}, input_tensor shape: {1}, target_tensor shape: {2}\".format(idx, input_tensor.shape,\n",
        "      #                                                                            output_tensor.shape))\n",
        "      batch_loss, batch_accuracy = train_step(input_tensor, target_tensor, enc_hidden, encoder, decoder, optimizer)\n",
        "      total_loss += batch_loss\n",
        "      total_accuracy += batch_accuracy\n",
        "\n",
        "      if idx % LOG_EVERY == 0:\n",
        "          print(\"Epochs: {} batch {}/{} | batch_accuracy: {:.4f} | batch_loss: {:.4f}\".format(e, idx, steps_per_epoch, batch_accuracy, batch_loss))\n",
        "\n",
        "  train_acc = total_accuracy / steps_per_epoch\n",
        "  train_accuracies.append(train_acc)\n",
        "  train_loss = total_loss / steps_per_epoch\n",
        "  train_losses.append(train_loss)\n",
        "  checkpoint.save(file_prefix = checkpoint_dir)\n",
        "  print(\"Epoch: {} | Training accuracy over epoch: {:.4f} | Training loss over epoch: {:.4f}\".format(e, float(train_acc), float(train_loss)))\n",
        "\n",
        "  total_loss = 0.0\n",
        "  total_accuracy = 0.0\n",
        "  for idx, (input_tensor_val, target_tensor_val) in enumerate(dataset_val.take(steps_per_epoch_val)):\n",
        "    batch_loss, batch_accuracy = test_step(input_tensor_val, target_tensor_val, enc_hidden, encoder, decoder)\n",
        "    total_loss += batch_loss\n",
        "    total_accuracy += batch_accuracy\n",
        "\n",
        "  val_acc = total_accuracy / steps_per_epoch_val\n",
        "  val_accuracies.append(val_acc)\n",
        "  val_loss = total_loss / steps_per_epoch_val\n",
        "  val_losses.append(val_loss)\n",
        "  print(\"Epoch: {} | Validation acc: {:.4f} | Validation loss: {:.4f}\".format(e, float(val_acc), float(val_loss)))\n",
        "  print(\"Time taken: %.2fs\" % (time.time() - start_time))\n",
        "\n",
        "  # if e % 2 == 0:\n",
        "      # print(\"Epochs: {}/{} | total_loss: {:.4f} | total_accuracy: {:.4f}\".format(\n",
        "      #     e, EPOCHS, total_loss / steps_per_epoch, total_accuracy / steps_per_epoch))\n",
        "  #    print(\"Epochs: {}/{} | total_loss: {:.4f}\".format(e, EPOCHS, total_loss / steps_per_epoch))\n",
        "  \n",
        "  # The early stopping strategy: stop the training if `val_loss` does not\n",
        "  # decrease over a certain number of epochs.\n",
        "  \n",
        "  if np.less(val_loss, BEST):\n",
        "    BEST = val_loss\n",
        "    WAIT = 0\n",
        "    BEST_EPOCH = e\n",
        "    # Record the best weights if current results is better (less).\n",
        "    ENCODER_BEST_WEIGHTS = encoder.get_weights()\n",
        "    DECODER_BEST_WEIGHTS = decoder.get_weights()\n",
        "  else:\n",
        "    WAIT += 1\n",
        "    if WAIT >= PATIENCE:\n",
        "      STOPPED_EPOCH = e\n",
        "      encoder.stop_training = True\n",
        "      decoder.stop_training = True\n",
        "      print(f\"Early stopping activated! Restoring model weights from the end of the (best) epoch: {BEST_EPOCH}.\")\n",
        "      encoder.set_weights(ENCODER_BEST_WEIGHTS)\n",
        "      decoder.set_weights(DECODER_BEST_WEIGHTS)\n",
        "      checkpoint.save(file_prefix = checkpoint_dir)\n",
        "      break\n",
        "\n",
        "with open(\"/content/gdrive/MyDrive/UNIPI/ml-query-optimization/data/weights/results.pkl\", \"wb\") as f:\n",
        "  results = {\n",
        "    'train_losses': train_losses, \n",
        "    'train_accuracies': train_accuracies, \n",
        "    'val_losses': val_losses, \n",
        "    'val_accuracies': val_accuracies \n",
        "  }\n",
        "  pickle.dump(results, f)\n"
      ],
      "metadata": {
        "colab": {
          "base_uri": "https://localhost:8080/"
        },
        "id": "SK7WFA_Rgpom",
        "outputId": "90b57c2c-18af-4a99-aaa9-098f98565786"
      },
      "execution_count": null,
      "outputs": [
        {
          "output_type": "stream",
          "name": "stdout",
          "text": [
            "Epochs: 1 batch 0/272 | batch_accuracy: 0.0000 | batch_loss: 6.4718\n",
            "Epochs: 1 batch 50/272 | batch_accuracy: 0.8784 | batch_loss: 0.9126\n",
            "Epochs: 1 batch 100/272 | batch_accuracy: 0.8956 | batch_loss: 0.7174\n",
            "Epochs: 1 batch 150/272 | batch_accuracy: 0.9052 | batch_loss: 0.4726\n",
            "Epochs: 1 batch 200/272 | batch_accuracy: 0.9451 | batch_loss: 0.3020\n",
            "Epochs: 1 batch 250/272 | batch_accuracy: 0.9348 | batch_loss: 0.4229\n",
            "Epoch: 1 | Training accuracy over epoch: 0.9095 | Training loss over epoch: 0.6245\n",
            "Epoch: 1 | Validation acc: 0.9522 | Validation loss: 0.3079\n",
            "Time taken: 1143.74s\n",
            "Epochs: 2 batch 0/272 | batch_accuracy: 0.9547 | batch_loss: 0.2966\n",
            "Epochs: 2 batch 50/272 | batch_accuracy: 0.9306 | batch_loss: 0.3665\n",
            "Epochs: 2 batch 100/272 | batch_accuracy: 0.9251 | batch_loss: 0.4185\n",
            "Epochs: 2 batch 150/272 | batch_accuracy: 0.9663 | batch_loss: 0.2039\n",
            "Epochs: 2 batch 200/272 | batch_accuracy: 0.9684 | batch_loss: 0.1754\n",
            "Epochs: 2 batch 250/272 | batch_accuracy: 0.9705 | batch_loss: 0.1683\n",
            "Epoch: 2 | Training accuracy over epoch: 0.9607 | Training loss over epoch: 0.2306\n",
            "Epoch: 2 | Validation acc: 0.9701 | Validation loss: 0.1672\n",
            "Time taken: 1104.18s\n",
            "Epochs: 3 batch 0/272 | batch_accuracy: 0.9437 | batch_loss: 0.2898\n",
            "Epochs: 3 batch 50/272 | batch_accuracy: 0.9732 | batch_loss: 0.1446\n",
            "Epochs: 3 batch 100/272 | batch_accuracy: 0.9588 | batch_loss: 0.2471\n",
            "Epochs: 3 batch 150/272 | batch_accuracy: 0.9780 | batch_loss: 0.1008\n",
            "Epochs: 3 batch 200/272 | batch_accuracy: 0.9828 | batch_loss: 0.0868\n",
            "Epochs: 3 batch 250/272 | batch_accuracy: 0.9760 | batch_loss: 0.1197\n",
            "Epoch: 3 | Training accuracy over epoch: 0.9735 | Training loss over epoch: 0.1369\n",
            "Epoch: 3 | Validation acc: 0.9772 | Validation loss: 0.1085\n",
            "Time taken: 1100.91s\n",
            "Epochs: 4 batch 0/272 | batch_accuracy: 0.9794 | batch_loss: 0.0978\n",
            "Epochs: 4 batch 50/272 | batch_accuracy: 0.9911 | batch_loss: 0.0473\n",
            "Epochs: 4 batch 100/272 | batch_accuracy: 0.9732 | batch_loss: 0.1197\n",
            "Epochs: 4 batch 150/272 | batch_accuracy: 0.9629 | batch_loss: 0.1718\n",
            "Epochs: 4 batch 200/272 | batch_accuracy: 0.9883 | batch_loss: 0.0489\n",
            "Epochs: 4 batch 250/272 | batch_accuracy: 0.9952 | batch_loss: 0.0315\n",
            "Epoch: 4 | Training accuracy over epoch: 0.9817 | Training loss over epoch: 0.0846\n",
            "Epoch: 4 | Validation acc: 0.9791 | Validation loss: 0.0946\n",
            "Time taken: 1091.98s\n",
            "Epochs: 5 batch 0/272 | batch_accuracy: 0.9712 | batch_loss: 0.1331\n",
            "Epochs: 5 batch 50/272 | batch_accuracy: 0.9959 | batch_loss: 0.0200\n",
            "Epochs: 5 batch 100/272 | batch_accuracy: 0.9897 | batch_loss: 0.0371\n",
            "Epochs: 5 batch 150/272 | batch_accuracy: 0.9828 | batch_loss: 0.0549\n",
            "Epochs: 5 batch 200/272 | batch_accuracy: 0.9931 | batch_loss: 0.0307\n",
            "Epochs: 5 batch 250/272 | batch_accuracy: 0.9924 | batch_loss: 0.0283\n",
            "Epoch: 5 | Training accuracy over epoch: 0.9873 | Training loss over epoch: 0.0545\n",
            "Epoch: 5 | Validation acc: 0.9904 | Validation loss: 0.0444\n",
            "Time taken: 1113.37s\n",
            "Epochs: 6 batch 0/272 | batch_accuracy: 0.9876 | batch_loss: 0.0479\n",
            "Epochs: 6 batch 50/272 | batch_accuracy: 0.9890 | batch_loss: 0.0494\n",
            "Epochs: 6 batch 100/272 | batch_accuracy: 0.9890 | batch_loss: 0.0450\n",
            "Epochs: 6 batch 150/272 | batch_accuracy: 0.9876 | batch_loss: 0.0611\n",
            "Epochs: 6 batch 200/272 | batch_accuracy: 0.9986 | batch_loss: 0.0080\n",
            "Epochs: 6 batch 250/272 | batch_accuracy: 0.9973 | batch_loss: 0.0151\n",
            "Epoch: 6 | Training accuracy over epoch: 0.9930 | Training loss over epoch: 0.0297\n",
            "Epoch: 6 | Validation acc: 0.9938 | Validation loss: 0.0297\n",
            "Time taken: 1073.40s\n",
            "Epochs: 7 batch 0/272 | batch_accuracy: 0.9979 | batch_loss: 0.0146\n",
            "Epochs: 7 batch 50/272 | batch_accuracy: 0.9876 | batch_loss: 0.0490\n",
            "Epochs: 7 batch 100/272 | batch_accuracy: 1.0000 | batch_loss: 0.0106\n",
            "Epochs: 7 batch 150/272 | batch_accuracy: 0.9959 | batch_loss: 0.0211\n",
            "Epochs: 7 batch 200/272 | batch_accuracy: 0.9966 | batch_loss: 0.0146\n",
            "Epochs: 7 batch 250/272 | batch_accuracy: 0.9959 | batch_loss: 0.0166\n",
            "Epoch: 7 | Training accuracy over epoch: 0.9961 | Training loss over epoch: 0.0171\n",
            "Epoch: 7 | Validation acc: 0.9959 | Validation loss: 0.0224\n",
            "Time taken: 1068.41s\n",
            "Epochs: 8 batch 0/272 | batch_accuracy: 0.9979 | batch_loss: 0.0107\n",
            "Epochs: 8 batch 50/272 | batch_accuracy: 0.9973 | batch_loss: 0.0091\n",
            "Epochs: 8 batch 100/272 | batch_accuracy: 1.0000 | batch_loss: 0.0032\n",
            "Epochs: 8 batch 150/272 | batch_accuracy: 0.9966 | batch_loss: 0.0169\n",
            "Epochs: 8 batch 200/272 | batch_accuracy: 0.9986 | batch_loss: 0.0057\n",
            "Epochs: 8 batch 250/272 | batch_accuracy: 1.0000 | batch_loss: 0.0012\n",
            "Epoch: 8 | Training accuracy over epoch: 0.9980 | Training loss over epoch: 0.0094\n",
            "Epoch: 8 | Validation acc: 0.9977 | Validation loss: 0.0154\n",
            "Time taken: 1082.46s\n",
            "Epochs: 9 batch 0/272 | batch_accuracy: 1.0000 | batch_loss: 0.0017\n",
            "Epochs: 9 batch 50/272 | batch_accuracy: 0.9986 | batch_loss: 0.0052\n",
            "Epochs: 9 batch 100/272 | batch_accuracy: 0.9979 | batch_loss: 0.0127\n",
            "Epochs: 9 batch 150/272 | batch_accuracy: 0.9924 | batch_loss: 0.0249\n",
            "Epochs: 9 batch 200/272 | batch_accuracy: 1.0000 | batch_loss: 0.0065\n",
            "Epochs: 9 batch 250/272 | batch_accuracy: 1.0000 | batch_loss: 0.0012\n",
            "Epoch: 9 | Training accuracy over epoch: 0.9988 | Training loss over epoch: 0.0056\n",
            "Epoch: 9 | Validation acc: 0.9988 | Validation loss: 0.0106\n",
            "Time taken: 1107.55s\n",
            "Epochs: 10 batch 0/272 | batch_accuracy: 0.9993 | batch_loss: 0.0018\n",
            "Epochs: 10 batch 50/272 | batch_accuracy: 1.0000 | batch_loss: 0.0007\n",
            "Epochs: 10 batch 100/272 | batch_accuracy: 1.0000 | batch_loss: 0.0013\n",
            "Epochs: 10 batch 150/272 | batch_accuracy: 1.0000 | batch_loss: 0.0025\n",
            "Epochs: 10 batch 200/272 | batch_accuracy: 1.0000 | batch_loss: 0.0019\n",
            "Epochs: 10 batch 250/272 | batch_accuracy: 1.0000 | batch_loss: 0.0013\n",
            "Epoch: 10 | Training accuracy over epoch: 0.9997 | Training loss over epoch: 0.0022\n",
            "Epoch: 10 | Validation acc: 0.9986 | Validation loss: 0.0120\n",
            "Time taken: 1097.07s\n",
            "Epochs: 11 batch 0/272 | batch_accuracy: 0.9966 | batch_loss: 0.0072\n",
            "Epochs: 11 batch 50/272 | batch_accuracy: 1.0000 | batch_loss: 0.0020\n",
            "Epochs: 11 batch 100/272 | batch_accuracy: 1.0000 | batch_loss: 0.0008\n",
            "Epochs: 11 batch 150/272 | batch_accuracy: 1.0000 | batch_loss: 0.0006\n",
            "Epochs: 11 batch 200/272 | batch_accuracy: 1.0000 | batch_loss: 0.0017\n",
            "Epochs: 11 batch 250/272 | batch_accuracy: 1.0000 | batch_loss: 0.0003\n",
            "Epoch: 11 | Training accuracy over epoch: 0.9998 | Training loss over epoch: 0.0017\n",
            "Epoch: 11 | Validation acc: 0.9995 | Validation loss: 0.0081\n",
            "Time taken: 1096.49s\n",
            "Epochs: 12 batch 0/272 | batch_accuracy: 1.0000 | batch_loss: 0.0008\n",
            "Epochs: 12 batch 50/272 | batch_accuracy: 1.0000 | batch_loss: 0.0007\n",
            "Epochs: 12 batch 100/272 | batch_accuracy: 1.0000 | batch_loss: 0.0011\n",
            "Epochs: 12 batch 150/272 | batch_accuracy: 1.0000 | batch_loss: 0.0007\n",
            "Epochs: 12 batch 200/272 | batch_accuracy: 1.0000 | batch_loss: 0.0003\n",
            "Epochs: 12 batch 250/272 | batch_accuracy: 1.0000 | batch_loss: 0.0003\n",
            "Epoch: 12 | Training accuracy over epoch: 0.9999 | Training loss over epoch: 0.0008\n",
            "Epoch: 12 | Validation acc: 0.9997 | Validation loss: 0.0071\n",
            "Time taken: 1094.75s\n",
            "Epochs: 13 batch 0/272 | batch_accuracy: 1.0000 | batch_loss: 0.0009\n",
            "Epochs: 13 batch 50/272 | batch_accuracy: 1.0000 | batch_loss: 0.0002\n",
            "Epochs: 13 batch 100/272 | batch_accuracy: 1.0000 | batch_loss: 0.0007\n",
            "Epochs: 13 batch 150/272 | batch_accuracy: 1.0000 | batch_loss: 0.0005\n",
            "Epochs: 13 batch 200/272 | batch_accuracy: 1.0000 | batch_loss: 0.0002\n",
            "Epochs: 13 batch 250/272 | batch_accuracy: 1.0000 | batch_loss: 0.0001\n",
            "Epoch: 13 | Training accuracy over epoch: 1.0000 | Training loss over epoch: 0.0003\n",
            "Epoch: 13 | Validation acc: 0.9997 | Validation loss: 0.0070\n",
            "Time taken: 1129.97s\n",
            "Epochs: 14 batch 0/272 | batch_accuracy: 1.0000 | batch_loss: 0.0001\n",
            "Epochs: 14 batch 50/272 | batch_accuracy: 1.0000 | batch_loss: 0.0002\n",
            "Epochs: 14 batch 100/272 | batch_accuracy: 1.0000 | batch_loss: 0.0001\n",
            "Epochs: 14 batch 150/272 | batch_accuracy: 1.0000 | batch_loss: 0.0002\n",
            "Epochs: 14 batch 200/272 | batch_accuracy: 1.0000 | batch_loss: 0.0001\n",
            "Epochs: 14 batch 250/272 | batch_accuracy: 1.0000 | batch_loss: 0.0001\n",
            "Epoch: 14 | Training accuracy over epoch: 1.0000 | Training loss over epoch: 0.0002\n",
            "Epoch: 14 | Validation acc: 0.9997 | Validation loss: 0.0071\n",
            "Time taken: 1161.56s\n",
            "Epochs: 15 batch 0/272 | batch_accuracy: 1.0000 | batch_loss: 0.0001\n",
            "Epochs: 15 batch 50/272 | batch_accuracy: 1.0000 | batch_loss: 0.0003\n",
            "Epochs: 15 batch 100/272 | batch_accuracy: 1.0000 | batch_loss: 0.0001\n",
            "Epochs: 15 batch 150/272 | batch_accuracy: 1.0000 | batch_loss: 0.0001\n",
            "Epochs: 15 batch 200/272 | batch_accuracy: 1.0000 | batch_loss: 0.0002\n",
            "Epochs: 15 batch 250/272 | batch_accuracy: 1.0000 | batch_loss: 0.0001\n",
            "Epoch: 15 | Training accuracy over epoch: 1.0000 | Training loss over epoch: 0.0002\n",
            "Epoch: 15 | Validation acc: 0.9997 | Validation loss: 0.0070\n",
            "Time taken: 1150.45s\n",
            "Epochs: 16 batch 0/272 | batch_accuracy: 1.0000 | batch_loss: 0.0002\n",
            "Epochs: 16 batch 50/272 | batch_accuracy: 1.0000 | batch_loss: 0.0001\n",
            "Epochs: 16 batch 100/272 | batch_accuracy: 1.0000 | batch_loss: 0.0001\n",
            "Epochs: 16 batch 150/272 | batch_accuracy: 1.0000 | batch_loss: 0.0002\n",
            "Epochs: 16 batch 200/272 | batch_accuracy: 1.0000 | batch_loss: 0.0001\n",
            "Epochs: 16 batch 250/272 | batch_accuracy: 1.0000 | batch_loss: 0.0000\n",
            "Epoch: 16 | Training accuracy over epoch: 1.0000 | Training loss over epoch: 0.0001\n",
            "Epoch: 16 | Validation acc: 0.9997 | Validation loss: 0.0072\n",
            "Time taken: 1122.18s\n",
            "Epochs: 17 batch 0/272 | batch_accuracy: 1.0000 | batch_loss: 0.0001\n",
            "Epochs: 17 batch 50/272 | batch_accuracy: 1.0000 | batch_loss: 0.0002\n",
            "Epochs: 17 batch 100/272 | batch_accuracy: 1.0000 | batch_loss: 0.0000\n",
            "Epochs: 17 batch 150/272 | batch_accuracy: 1.0000 | batch_loss: 0.0001\n",
            "Epochs: 17 batch 200/272 | batch_accuracy: 1.0000 | batch_loss: 0.0001\n",
            "Epochs: 17 batch 250/272 | batch_accuracy: 1.0000 | batch_loss: 0.0001\n",
            "Epoch: 17 | Training accuracy over epoch: 1.0000 | Training loss over epoch: 0.0001\n",
            "Epoch: 17 | Validation acc: 0.9997 | Validation loss: 0.0071\n",
            "Time taken: 1093.69s\n",
            "Epochs: 18 batch 0/272 | batch_accuracy: 1.0000 | batch_loss: 0.0001\n",
            "Epochs: 18 batch 50/272 | batch_accuracy: 1.0000 | batch_loss: 0.0001\n",
            "Epochs: 18 batch 100/272 | batch_accuracy: 1.0000 | batch_loss: 0.0000\n",
            "Epochs: 18 batch 150/272 | batch_accuracy: 1.0000 | batch_loss: 0.0000\n",
            "Epochs: 18 batch 200/272 | batch_accuracy: 1.0000 | batch_loss: 0.0001\n",
            "Epochs: 18 batch 250/272 | batch_accuracy: 1.0000 | batch_loss: 0.0001\n",
            "Epoch: 18 | Training accuracy over epoch: 1.0000 | Training loss over epoch: 0.0001\n",
            "Epoch: 18 | Validation acc: 0.9997 | Validation loss: 0.0071\n",
            "Time taken: 1121.42s\n",
            "Early stopping activated! Restoring model weights from the end of the (best) epoch: 13.\n"
          ]
        }
      ]
    },
    {
      "cell_type": "markdown",
      "source": [
        "#####Results"
      ],
      "metadata": {
        "id": "a4VdXcdhbUIL"
      }
    },
    {
      "cell_type": "code",
      "execution_count": 1,
      "metadata": {
        "colab": {
          "base_uri": "https://localhost:8080/",
          "height": 234
        },
        "id": "ggNWa1z8mtw_",
        "outputId": "8bdf2d77-0b35-4685-8799-16b5272f3853"
      },
      "outputs": [
        {
          "output_type": "error",
          "ename": "NameError",
          "evalue": "ignored",
          "traceback": [
            "\u001b[0;31m---------------------------------------------------------------------------\u001b[0m",
            "\u001b[0;31mNameError\u001b[0m                                 Traceback (most recent call last)",
            "\u001b[0;32m<ipython-input-1-6e53fdae7e41>\u001b[0m in \u001b[0;36m<module>\u001b[0;34m()\u001b[0m\n\u001b[0;32m----> 1\u001b[0;31m \u001b[0;32mwith\u001b[0m \u001b[0mopen\u001b[0m\u001b[0;34m(\u001b[0m\u001b[0mresults_dir\u001b[0m\u001b[0;34m,\u001b[0m \u001b[0;34m\"rb\"\u001b[0m\u001b[0;34m)\u001b[0m \u001b[0;32mas\u001b[0m \u001b[0mf\u001b[0m\u001b[0;34m:\u001b[0m\u001b[0;34m\u001b[0m\u001b[0;34m\u001b[0m\u001b[0m\n\u001b[0m\u001b[1;32m      2\u001b[0m   \u001b[0mresults\u001b[0m \u001b[0;34m=\u001b[0m \u001b[0mpickle\u001b[0m\u001b[0;34m.\u001b[0m\u001b[0mload\u001b[0m\u001b[0;34m(\u001b[0m\u001b[0mf\u001b[0m\u001b[0;34m)\u001b[0m\u001b[0;34m\u001b[0m\u001b[0;34m\u001b[0m\u001b[0m\n\u001b[1;32m      3\u001b[0m \u001b[0;34m\u001b[0m\u001b[0m\n\u001b[1;32m      4\u001b[0m \u001b[0mtrain_losses\u001b[0m \u001b[0;34m=\u001b[0m \u001b[0;34m[\u001b[0m\u001b[0mfloat\u001b[0m\u001b[0;34m(\u001b[0m\u001b[0mloss\u001b[0m\u001b[0;34m)\u001b[0m \u001b[0;32mfor\u001b[0m \u001b[0mloss\u001b[0m \u001b[0;32min\u001b[0m \u001b[0mresults\u001b[0m\u001b[0;34m[\u001b[0m\u001b[0;34m'train_losses'\u001b[0m\u001b[0;34m]\u001b[0m\u001b[0;34m]\u001b[0m\u001b[0;34m\u001b[0m\u001b[0;34m\u001b[0m\u001b[0m\n\u001b[1;32m      5\u001b[0m \u001b[0mtrain_accuracies\u001b[0m \u001b[0;34m=\u001b[0m \u001b[0;34m[\u001b[0m\u001b[0mfloat\u001b[0m\u001b[0;34m(\u001b[0m\u001b[0mloss\u001b[0m\u001b[0;34m)\u001b[0m \u001b[0;32mfor\u001b[0m \u001b[0mloss\u001b[0m \u001b[0;32min\u001b[0m \u001b[0mresults\u001b[0m\u001b[0;34m[\u001b[0m\u001b[0;34m'train_accuracies'\u001b[0m\u001b[0;34m]\u001b[0m\u001b[0;34m]\u001b[0m\u001b[0;34m\u001b[0m\u001b[0;34m\u001b[0m\u001b[0m\n",
            "\u001b[0;31mNameError\u001b[0m: name 'results_dir' is not defined"
          ]
        }
      ],
      "source": [
        "with open(results_dir, \"rb\") as f:\n",
        "  results = pickle.load(f)\n",
        "\n",
        "train_losses = [float(loss) for loss in results['train_losses']]\n",
        "train_accuracies = [float(loss) for loss in results['train_accuracies']]\n",
        "val_losses = [float(loss) for loss in results['val_losses']]\n",
        "val_accuracies = [float(loss) for loss in results['val_accuracies']]"
      ]
    },
    {
      "cell_type": "code",
      "execution_count": null,
      "metadata": {
        "colab": {
          "base_uri": "https://localhost:8080/",
          "height": 573
        },
        "id": "3VLqoD5xePj-",
        "outputId": "07456757-6f1c-4b7b-c246-27b612da5512"
      },
      "outputs": [
        {
          "output_type": "display_data",
          "data": {
            "text/plain": [
              "<Figure size 432x288 with 1 Axes>"
            ],
            "image/png": "[encoded data removed]"
          },
          "metadata": {
            "needs_background": "light"
          }
        },
        {
          "output_type": "display_data",
          "data": {
            "text/plain": [
              "<Figure size 432x288 with 1 Axes>"
            ],
            "image/png": "[encoded data removed]"
          },
          "metadata": {
            "needs_background": "light"
          }
        }
      ],
      "source": [
        "fig1, ax1 = plt.subplots()\n",
        "\n",
        "ax1.plot(train_losses, color=\"C0\", label='train')\n",
        "ax1.plot(val_losses, color=\"C1\", label='validation')\n",
        "\n",
        "ax1.grid(which=\"major\", axis=\"both\")\n",
        "ax1.set_ylabel(\"loss\")\n",
        "ax1.set_xlabel(\"epoch\")\n",
        "ax1.set_title('Loss')\n",
        "ax1.legend()\n",
        "\n",
        "fig1.show()\n",
        "\n",
        "fig2, ax2 = plt.subplots()\n",
        "\n",
        "ax2.plot(train_accuracies, color=\"C0\", label='train')\n",
        "ax2.plot(val_accuracies, color=\"C1\", label='validation')\n",
        "\n",
        "ax2.grid(which=\"major\", axis=\"both\")\n",
        "ax2.set_ylabel(\"accuracy\")\n",
        "ax2.set_xlabel(\"epoch\")\n",
        "ax2.set_title('Accuracy')\n",
        "ax2.legend()\n",
        "\n",
        "fig2.show()"
      ]
    },
    {
      "cell_type": "markdown",
      "source": [
        "#####Testing"
      ],
      "metadata": {
        "id": "8t5E9or9c87X"
      }
    },
    {
      "cell_type": "code",
      "source": [
        "generate_predictions(X_test, y_test, input_encoder, output_encoder, '/content/gdrive/MyDrive/UNIPI/ml-query-optimization/data/weights/chkp', x_max_length, y_max_length)"
      ],
      "metadata": {
        "colab": {
          "base_uri": "https://localhost:8080/"
        },
        "id": "GudpbtP2c_T4",
        "outputId": "b07354c0-ee76-4b82-dd35-1ddaf569ff4b"
      },
      "execution_count": null,
      "outputs": [
        {
          "output_type": "stream",
          "name": "stdout",
          "text": [
            "33\n",
            "92\n",
            "prediction: ['music_festival', 'music_festival', 'music_festival', 'people', 'music_festival', 'dog_id', 'dog_id', 'dog_id', 'dog_id', 'dog_id', 'dog_id', 'dog_id', 'dog_id', 'dog_id', 'dog_id', 'dog_id', 'dog_id', 'dog_id', 'dog_id', 'dog_id', 'dog_id', 'dog_id', 'dog_id', 'dog_id', 'dog_id', 'dog_id', 'dog_id', 'dog_id', 'dog_id', 'dog_id', 'dog_id', 'dog_id', 'dog_id', 'dog_id', 'dog_id', 'dog_id', 'dog_id', 'dog_id', 'dog_id', 'dog_id', 'dog_id', 'dog_id', 'dog_id', 'dog_id', 'dog_id', 'dog_id', 'dog_id', 'dog_id', 'dog_id', 'dog_id', 'dog_id', 'dog_id', 'dog_id', 'dog_id', 'dog_id', 'dog_id', 'dog_id', 'dog_id', 'dog_id', 'dog_id', 'dog_id', 'dog_id', 'dog_id', 'dog_id', 'dog_id', 'dog_id', 'dog_id', 'dog_id', 'dog_id', 'dog_id', 'dog_id', 'dog_id', 'dog_id', 'dog_id', 'dog_id', 'dog_id', 'dog_id', 'dog_id', 'dog_id', 'dog_id', 'dog_id', 'dog_id', 'dog_id', 'dog_id', 'dog_id', 'dog_id', 'dog_id', 'dog_id', 'dog_id', 'dog_id', 'dog_id', 'dog_id']\n",
            "actual: ['inner', 'hash', 'join', 'entrepreneur', '.', 'people_id', 'people', '.', 'people_id', 'seq', 'scan', 'entrepreneur', 'hash', 'seq', 'scan', 'people', '<eos>']\n",
            "Accuracy: 0.0\n",
            "prediction: ['music_festival', 'music_festival', 'music_festival', 'music_festival', 'people', 'music_festival', 'people', 'music_festival', 'people', 'branch_id', 'music_festival', 'people', 'degree_summary_name', 'people', 'degree_summary_name', 'people', 'breed_code', 'people', 'employee_id', 'employee_id', 'clubid', 'degree_summary_name', 'breed_code', 'employee_id', 'employee_id', 'clubid', 'degree_summary_name', 'breed_code', 'breed_code', 'people', 'competition', 'book_club', 'apartments', 'music_festival', 'music_festival', 'music_festival', 'music_festival', 'people', 'music_festival', 'people', 'music_festival', 'people', 'airlines', 'music_festival', 'people', 'airlines', 'music_festival', 'music_festival', 'people', 'airlines', 'music_festival', 'music_festival', 'people', 'airlines', 'music_festival', 'music_festival', 'people', 'music_festival', 'people', 'airlines', 'music_festival', 'music_festival', 'people', 'airlines', 'music_festival', 'music_festival', 'people', 'airlines', 'music_festival', 'music_festival', 'people', 'setop', 'festival_detail', 'setop', 'part_fault_id', 'setop', 'festival_detail', 'part_fault_id', 'setop', 'festival_detail', 'setop', 'festival_detail', 'college', 'years_working', 'apartments', 'mountain', 'mountain', 'document_description', 'problem_log', 'problem_log', 'problem_log', 'problem_log']\n",
            "actual: ['seq', 'scan', 'table', 'scan', 'ship', '.', 'name', '<eos>']\n",
            "Accuracy: 0.0\n",
            "prediction: ['laptimes', 'laptimes', 'player', 'catalog_contents', 'catalog_contents', 'poker_player', 'activity', 'activity', 'bedroom_count', 'activity', 'conductor', 'conductor', 'conductor', 'conductor', 'conductor', 'degrees', 'degrees', 'bookings', 'bookings', 'bookings', 'bookings', 'bookings', 'bookings', 'bookings', 'bookings', 'bookings', 'campus', 'campus', 'mountain', 'game_id', 'game_id', 'storm', 'laptimes', 'crs_code', 'circulation_history', 'dog_id', 'dog_id', 'dog_id', 'dog_id', 'dog_id', 'dog_id', 'dog_id', 'dog_id', 'dog_id', 'dog_id', 'dog_id', 'dog_id', 'dog_id', 'dog_id', 'dog_id', 'dog_id', 'dog_id', 'dog_id', 'dog_id', 'dog_id', 'dog_id', 'dog_id', 'dog_id', 'dog_id', 'dog_id', 'dog_id', 'dog_id', 'dog_id', 'dog_id', 'dog_id', 'dog_id', 'dog_id', 'dog_id', 'dog_id', 'dog_id', 'dog_id', 'dog_id', 'dog_id', 'dog_id', 'dog_id', 'dog_id', 'dog_id', 'dog_id', 'dog_id', 'dog_id', 'dog_id', 'dog_id', 'dog_id', 'dog_id', 'dog_id', 'dog_id', 'dog_id', 'dog_id', 'dog_id', 'dog_id', 'dog_id', 'dog_id']\n",
            "actual: ['inner', 'nested', 'loop', 'inner', 'hash', 'join', 'playlist_tracks', '.', 'playlist_id', 'playlists', '.', 'id', 'seq', 'scan', 'playlist_tracks', 'hash', 'seq', 'scan', 'table', 'scan', 'playlists', '.', 'name', 'index', 'scan', 'tracks', '.', 'id', 'playlist_tracks', '.', 'track_id', '<eos>']\n",
            "Accuracy: 0.0\n",
            "prediction: ['music_festival', 'music_festival', 'music_festival', 'music_festival', 'people', 'music_festival', 'people', 'music_festival', 'people', 'people', 'browser', 'airlines', 'airlines', 'clubid', 'music_festival', 'music_festival', 'people', 'mountain', 'setop', 'master_customer_id', 'part_fault_id', 'part_fault_id', 'setop', 'festival_detail', 'setop', 'festival_detail', 'setop', 'part_fault_id', 'festival_detail', 'setop', 'festival_detail', 'setop', 'college', 'apartments', 'apartments', 'mountain', 'museum', 'apartments', 'customer_orders', 'music_festival', 'music_festival', 'music_festival', 'music_festival', 'music_festival', 'music_festival', 'people', 'music_festival', 'people', 'music_festival', 'people', 'airlines', 'music_festival', 'people', 'airlines', 'music_festival', 'music_festival', 'people', 'airlines', 'music_festival', 'music_festival', 'people', 'setop', 'festival_detail', 'setop', 'college', 'setop', 'part_fault_id', 'setop', 'employee_id', 'festival_detail', 'employee_id', 'festival_detail', 'book_club', 'apartments', 'apartments', 'music_festival', 'music_festival', 'music_festival', 'music_festival', 'music_festival', 'people', 'music_festival', 'people', 'master_customer_id', 'years_working', 'mountain', 'setop', 'master_customer_id', 'part_fault_id', 'setop', 'employee_id', 'employee_id']\n",
            "actual: ['seq', 'scan', 'table', 'scan', 'lots', '.', 'lot_details', '<eos>']\n",
            "Accuracy: 0.0\n",
            "prediction: ['laptimes', 'laptimes', 'medicine_enzyme_interaction', 'medicine_enzyme_interaction', 'bitmap', 'medicine_enzyme_interaction', 'bitmap', 'location_id', 'capacity', 'seq', 'seq', '.', 'seq', '.', 'temperature', 'seq', 'seq', '.', 'seq', '.', 'investors', 'investors', 'festival_detail', 'origin', 'origin', 'origin', 'browser', 'activity', 'activity', 'market_id', 'transactions', 'storm', 'storm', 'circulation_history', 'circulation_history', 'years_working', 'transactions', 'bitmap', 'materialize', 'materialize', 'merge', 'state_province_county', 'students', 'individual_id', 'individual_id', 'results', 'airlines', 'temperature', 'owner_id', 'owner_id', 'people', 'students', 'rank', 'rank', 'rank', 'drivers', 'temperature', 'temperature', 'death', 'death', 'students', 'sales', 'rank', 'rank', 'rank', 'temperature', 'death', 'death', 'people', 'death', 'sales', 'people', 'paperid', 'game_id', 'game_id', 'laptimes', 'laptimes', 'laptimes', 'individual_id', 'individual_id', 'individual_id', 'results', 'airlines', 'airlines', 'temperature', 'temperature', 'train_id', 'owner_id', 'owner_id', 'area_code_state', 'mountain_id', 'mountain_id']\n",
            "actual: ['inner', 'nested', 'loop', 'inner', 'hash', 'join', 'medicine_enzyme_interaction', '.', 'medicine_id', 'medicine', '.', 'id', 'seq', 'scan', 'medicine_enzyme_interaction', 'hash', 'seq', 'scan', 'table', 'scan', 'medicine', '.', 'name', 'index', 'scan', 'enzyme', '.', 'id', 'medicine_enzyme_interaction', '.', 'enzyme_id', '<eos>']\n",
            "Accuracy: 0.021739130434782608\n",
            "prediction: ['music_festival', 'music_festival', 'music_festival', 'people', 'music_festival', 'people', 'music_festival', 'people', 'airlines', 'music_festival', 'people', 'airlines', 'music_festival', 'music_festival', 'people', 'airlines', 'music_festival', 'music_festival', 'people', 'airlines', 'music_festival', 'music_festival', 'people', 'airlines', 'music_festival', 'music_festival', 'people', 'mountain', 'setop', 'setop', 'part_fault_id', 'setop', 'employee_id', 'festival_detail', 'employee_id', 'festival_detail', 'part_fault_id', 'festival_detail', 'laptimes', 'laptimes', 'grade', 'grade', 'setop', 'grade', 'music_festival', 'music_festival', 'mountain', 'setop', 'master_customer_id', 'mountain', 'document_description', 'master_customer_id', 'master_customer_id', 'customer_orders', 'mountain', 'museum', 'mountain', 'document_description', 'master_customer_id', 'master_customer_id', 'years_working', 'transactions', 'college', 'years_working', 'materialize', 'materialize', 'materialize', 'materialize', 'master_customer_id', 'people', 'master_customer_id', 'people', 'years_working', 'transactions', 'materialize', 'materialize', 'materialize', 'materialize', 'master_customer_id', 'materialize', 'materialize', 'master_customer_id', 'festival_detail', 'materialize', 'materialize', 'master_customer_id', 'festival_detail', 'materialize', 'materialize', 'materialize', 'master_customer_id', 'festival_detail']\n",
            "actual: ['aggregate', 'seq', 'scan', 'storm', '<eos>']\n",
            "Accuracy: 0.0\n",
            "prediction: ['music_festival', 'music_festival', 'music_festival', 'music_festival', 'people', 'music_festival', 'people', 'music_festival', 'people', 'people', 'browser', 'airlines', 'clubid', 'degree_summary_name', 'breed_code', 'people', 'breed_code', 'people', 'mountain', 'part_fault_id', 'setop', 'employee_id', 'employee_id', 'employee_id', 'festival_detail', 'festival_detail', 'laptimes', 'laptimes', 'laptimes', 'grade', 'grade', 'music_festival', 'music_festival', 'people', 'music_festival', 'people', 'master_customer_id', 'mountain', 'master_customer_id', 'people', 'years_working', 'mountain', 'master_customer_id', 'part_fault_id', 'master_customer_id', 'years_working', 'materialize', 'materialize', 'materialize', 'master_customer_id', 'materialize', 'materialize', 'master_customer_id', 'people', 'master_customer_id', 'people', 'master_customer_id', 'years_working', 'transactions', 'college', 'apartments', 'seq', 'seq', 'seq', 'products_for_hire', 'seq', 'products_for_hire', 'seq', 'products_for_hire', 'seq', 'products_for_hire', 'seq', 'products_for_hire', 'seq', 'products_for_hire', 'seq', 'products_for_hire', 'seq', 'products_for_hire', 'seq', 'products_for_hire', 'seq', 'products_for_hire', 'seq', 'products_for_hire', 'seq', 'products_for_hire', 'seq', 'products_for_hire', 'seq', 'products_for_hire', 'seq']\n",
            "actual: ['index', 'scan', 'players', '.', 'player_id', '<eos>']\n",
            "Accuracy: 0.0\n",
            "prediction: ['music_festival', 'music_festival', 'music_festival', 'people', 'music_festival', 'people', 'music_festival', 'people', 'airlines', 'music_festival', 'people', 'airlines', 'music_festival', 'people', 'music_festival', 'people', 'airlines', 'music_festival', 'people', 'airlines', 'music_festival', 'music_festival', 'people', 'airlines', 'music_festival', 'music_festival', 'people', 'mountain', 'setop', 'part_fault_id', 'setop', 'employee_id', 'employee_id', 'festival_detail', 'festival_detail', 'part_fault_id', 'setop', 'festival_detail', 'setop', 'festival_detail', 'college', 'years_working', 'grade', 'grade', 'mountain', 'amount_of_transaction', 'music_festival', 'music_festival', 'document_description', 'music_festival', 'music_festival', 'people', 'music_festival', 'people', 'master_customer_id', 'branch_id', 'years_working', 'mountain', 'problem_log', 'problem_log', 'problem_log', 'problem_log', 'clubid', 'problem_log', 'clubid', 'problem_log', 'clubid', 'breed_code', 'clubid', 'music_festival', 'music_festival', 'music_festival', 'people', 'music_festival', 'people', 'mountain', 'airlines', 'music_festival', 'people', 'music_festival', 'people', 'airlines', 'music_festival', 'people', 'music_festival', 'people', 'airlines', 'music_festival', 'people', 'airlines', 'music_festival', 'music_festival']\n",
            "actual: ['limit', 'sort', 'seq', 'scan', 'shop', '<eos>']\n",
            "Accuracy: 0.0\n",
            "prediction: ['music_festival', 'music_festival', 'music_festival', 'music_festival', 'people', 'music_festival', 'people', 'music_festival', 'people', 'airlines', 'music_festival', 'people', 'airlines', 'music_festival', 'music_festival', 'people', 'airlines', 'music_festival', 'music_festival', 'people', 'airlines', 'music_festival', 'music_festival', 'people', 'mountain', 'setop', 'setop', 'part_fault_id', 'setop', 'employee_id', 'employee_id', 'festival_detail', 'festival_detail', 'part_fault_id', 'setop', 'festival_detail', 'part_fault_id', 'setop', 'festival_detail', 'setop', 'festival_detail', 'college', 'years_working', 'apartments', 'mountain', 'mountain', 'document_description', 'master_customer_id', 'mountain', 'document_description', 'master_customer_id', 'master_customer_id', 'years_working', 'mountain', 'master_customer_id', 'years_working', 'transactions', 'college', 'years_working', 'materialize', 'materialize', 'materialize', 'materialize', 'master_customer_id', 'materialize', 'materialize', 'master_customer_id', 'people', 'master_customer_id', 'transactions', 'employee_id', 'employee_id', 'clubid', 'clubid', 'clubid', 'seq', 'seq', 'breed_code', 'seq', 'products_for_hire', 'seq', 'products_for_hire', 'seq', 'products_for_hire', 'seq', 'products_for_hire', 'seq', 'products_for_hire', 'seq', 'products_for_hire', 'seq', 'festival_detail']\n",
            "actual: ['aggregate', 'seq', 'scan', 'professor', '<eos>']\n",
            "Accuracy: 0.0\n",
            "prediction: ['music_festival', 'music_festival', 'music_festival', 'music_festival', 'people', 'music_festival', 'people', 'music_festival', 'people', 'airlines', 'music_festival', 'people', 'airlines', 'music_festival', 'music_festival', 'people', 'airlines', 'music_festival', 'music_festival', 'people', 'airlines', 'music_festival', 'music_festival', 'people', 'setop', 'setop', 'festival_detail', 'college', 'setop', 'part_fault_id', 'setop', 'employee_id', 'festival_detail', 'employee_id', 'festival_detail', 'book_club', 'apartments', 'music_festival', 'music_festival', 'music_festival', 'music_festival', 'music_festival', 'people', 'music_festival', 'people', 'airlines', 'music_festival', 'music_festival', 'people', 'airlines', 'music_festival', 'music_festival', 'people', 'airlines', 'music_festival', 'music_festival', 'people', 'airlines', 'music_festival', 'music_festival', 'people', 'airlines', 'music_festival', 'music_festival', 'people', 'setop', 'festival_detail', 'setop', 'college', 'setop', 'part_fault_id', 'setop', 'employee_id', 'festival_detail', 'employee_id', 'festival_detail', 'book_club', 'apartments', 'music_festival', 'music_festival', 'music_festival', 'music_festival', 'music_festival', 'people', 'music_festival', 'people', 'airlines', 'music_festival', 'music_festival', 'people', 'airlines', 'music_festival']\n",
            "actual: ['seq', 'scan', 'table', 'scan', 'institution', '.', 'institution', '<eos>']\n",
            "Accuracy: 0.0\n",
            "prediction: ['music_festival', 'music_festival', 'music_festival', 'people', 'music_festival', 'people', 'music_festival', 'people', 'people', 'browser', 'airlines', 'airlines', 'music_festival', 'people', 'airlines', 'music_festival', 'music_festival', 'people', 'mountain', 'setop', 'part_fault_id', 'setop', 'employee_id', 'employee_id', 'festival_detail', 'employee_id', 'festival_detail', 'part_fault_id', 'festival_detail', 'laptimes', 'laptimes', 'laptimes', 'grade', 'grade', 'music_festival', 'music_festival', 'music_festival', 'people', 'music_festival', 'people', 'master_customer_id', 'people', 'years_working', 'mountain', 'master_customer_id', 'years_working', 'materialize', 'materialize', 'materialize', 'materialize', 'master_customer_id', 'materialize', 'master_customer_id', 'people', 'master_customer_id', 'people', 'years_working', 'transactions', 'materialize', 'materialize', 'materialize', 'materialize', 'master_customer_id', 'materialize', 'materialize', 'master_customer_id', 'people', 'master_customer_id', 'people', 'transactions', 'employee_id', 'employee_id', 'employee_id', 'clubid', 'clubid', 'seq', 'seq', 'breed_code', 'seq', 'faculty_participates_in', 'faculty_participates_in', 'document_description', 'weekly_weather', 'weekly_weather', 'seq', 'seq', 'products_for_hire', 'seq', 'products_for_hire', 'seq', 'products_for_hire', 'seq']\n",
            "actual: ['seq', 'scan', 'documents', '<eos>']\n",
            "Accuracy: 0.0\n",
            "prediction: ['music_festival', 'music_festival', 'music_festival', 'music_festival', 'people', 'music_festival', 'people', 'music_festival', 'people', 'airlines', 'music_festival', 'people', 'music_festival', 'people', 'airlines', 'music_festival', 'people', 'airlines', 'music_festival', 'music_festival', 'people', 'mountain', 'setop', 'part_fault_id', 'setop', 'part_fault_id', 'setop', 'festival_detail', 'setop', 'employee_id', 'festival_detail', 'part_fault_id', 'festival_detail', 'setop', 'festival_detail', 'setop', 'festival_detail', 'college', 'years_working', 'apartments', 'mountain', 'mountain', 'document_description', 'problem_log', 'problem_log', 'problem_log', 'problem_log', 'problem_log', 'problem_log', 'clubid', 'problem_log', 'clubid', 'breed_code', 'music_festival', 'music_festival', 'music_festival', 'music_festival', 'people', 'music_festival', 'people', 'music_festival', 'people', 'teachers', 'teachers', 'teachers', 'teachers', 'teachers', 'winery', 'part_fault_id', 'materialize', 'materialize', 'materialize', 'materialize', 'materialize', 'materialize', 'materialize', 'festival_detail', 'materialize', 'materialize', 'master_customer_id', 'festival_detail', 'materialize', 'materialize', 'materialize', 'master_customer_id', 'festival_detail', 'materialize', 'materialize', 'master_customer_id', 'festival_detail', 'materialize', 'materialize']\n",
            "actual: ['seq', 'scan', 'table', 'scan', 'university', '.', 'enrollment', '<eos>']\n",
            "Accuracy: 0.0\n",
            "prediction: ['music_festival', 'music_festival', 'music_festival', 'people', 'music_festival', 'people', 'music_festival', 'people', 'people', 'years_working', 'browser', 'airlines', 'clubid', 'clubid', 'degree_summary_name', 'breed_code', 'people', 'breed_code', 'mountain', 'people', 'document_description', 'master_customer_id', 'mountain', 'part_fault_id', 'master_customer_id', 'part_fault_id', 'setop', 'festival_detail', 'setop', 'employee_id', 'festival_detail', 'college', 'years_working', 'apartments', 'mountain', 'mountain', 'document_description', 'master_customer_id', 'part_fault_id', 'master_customer_id', 'years_working', 'transactions', 'college', 'years_working', 'materialize', 'materialize', 'materialize', 'materialize', 'materialize', 'master_customer_id', 'materialize', 'materialize', 'master_customer_id', 'festival_detail', 'materialize', 'materialize', 'materialize', 'master_customer_id', 'festival_detail', 'materialize', 'materialize', 'materialize', 'master_customer_id', 'festival_detail', 'materialize', 'materialize', 'master_customer_id', 'festival_detail', 'materialize', 'materialize', 'materialize', 'master_customer_id', 'festival_detail', 'materialize', 'materialize', 'master_customer_id', 'festival_detail', 'materialize', 'materialize', 'materialize', 'master_customer_id', 'festival_detail', 'materialize', 'materialize', 'master_customer_id', 'festival_detail', 'materialize', 'materialize', 'materialize', 'master_customer_id', 'festival_detail', 'materialize']\n",
            "actual: ['index', 'scan', 'airports', '.', 'airportcode', '<eos>']\n",
            "Accuracy: 0.0\n",
            "prediction: ['laptimes', 'laptimes', 'medicine_enzyme_interaction', 'zip_postcode', 'bitmap', 'rank', 'rank', 'drivers', 'drivers', 'visitor', 'branch_id', 'music_festival', 'music_festival', 'music_festival', 'accelerator_compatible_browser', 'music_festival', 'dog_id', 'dog_id', 'dog_id', 'dog_id', 'dog_id', 'dog_id', 'dog_id', 'dog_id', 'dog_id', 'dog_id', 'dog_id', 'dog_id', 'dog_id', 'dog_id', 'dog_id', 'dog_id', 'dog_id', 'dog_id', 'dog_id', 'dog_id', 'dog_id', 'dog_id', 'dog_id', 'dog_id', 'dog_id', 'dog_id', 'dog_id', 'dog_id', 'complaints', 'dog_id', 'dog_id', 'dog_id', 'dog_id', 'dog_id', 'dog_id', 'dog_id', 'dog_id', 'dog_id', 'dog_id', 'dog_id', 'dog_id', 'dog_id', 'dog_id', 'complaints', 'dog_id', 'dog_id', 'dog_id', 'dog_id', 'dog_id', 'dog_id', 'dog_id', 'dog_id', 'dog_id', 'dog_id', 'dog_id', 'dog_id', 'dog_id', 'dog_id', 'complaints', 'dog_id', 'dog_id', 'dog_id', 'dog_id', 'dog_id', 'dog_id', 'dog_id', 'dog_id', 'dog_id', 'dog_id', 'dog_id', 'dog_id', 'dog_id', 'dog_id', 'complaints', 'dog_id', 'dog_id']\n",
            "actual: ['inner', 'hash', 'join', 'car_makers', '.', 'country', 'countries', '.', 'country_id', ':', ':', 'text', 'seq', 'scan', 'car_makers', 'hash', 'inner', 'hash', 'join', 'countries', '.', 'continent', 'continents', '.', 'contid', 'seq', 'scan', 'countries', 'hash', 'seq', 'scan', 'table', 'scan', 'continents', '.', 'continent', '<eos>']\n",
            "Accuracy: 0.0\n",
            "prediction: ['music_festival', 'music_festival', 'music_festival', 'music_festival', 'people', 'music_festival', 'people', 'music_festival', 'people', 'airlines', 'music_festival', 'people', 'airlines', 'music_festival', 'music_festival', 'people', 'airlines', 'music_festival', 'music_festival', 'people', 'airlines', 'music_festival', 'music_festival', 'people', 'airlines', 'music_festival', 'music_festival', 'people', 'mountain', 'setop', 'setop', 'employee_id', 'employee_id', 'employee_id', 'festival_detail', 'festival_detail', 'part_fault_id', 'setop', 'festival_detail', 'part_fault_id', 'setop', 'festival_detail', 'setop', 'festival_detail', 'college', 'years_working', 'apartments', 'mountain', 'mountain', 'document_description', 'master_customer_id', 'mountain', 'document_description', 'master_customer_id', 'museum', 'years_working', 'mountain', 'master_customer_id', 'years_working', 'transactions', 'college', 'years_working', 'materialize', 'materialize', 'materialize', 'materialize', 'master_customer_id', 'materialize', 'materialize', 'master_customer_id', 'festival_detail', 'materialize', 'materialize', 'materialize', 'master_customer_id', 'festival_detail', 'materialize', 'materialize', 'master_customer_id', 'festival_detail', 'materialize', 'materialize', 'materialize', 'master_customer_id', 'festival_detail', 'materialize', 'materialize', 'master_customer_id', 'festival_detail', 'materialize', 'materialize', 'materialize']\n",
            "actual: ['inner', 'hash', 'join', 'match_season', '.', 'draft_class', 'match_season_1', '.', 'draft_class', 'seq', 'scan', 'match_season', 'hash', 'unique', 'sort', 'seq', 'scan', 'table', 'scan', 'match_season', '.', 'college', '<eos>']\n",
            "Accuracy: 0.0\n",
            "prediction: ['laptimes', 'laptimes', 'medicine_enzyme_interaction', 'medicine_enzyme_interaction', 'bitmap', 'people', 'player', 'catalog_contents', 'catalog_contents', 'poker_player', 'transactions', 'employee_id', 'employee_id', 'employee_id', 'employee_id', 'clubid', 'clubid', 'outcome_code', 'outcome_code', 'outcome_code', 'outcome_code', 'outcome_code', 'rank', 'rank', 'rank', 'drivers', 'pilot', 'rank', 'rank', 'drivers', 'temperature', 'death', 'death', 'death', 'people', 'death', 'sales', 'people', 'rid', 'rank', 'rank', 'rank', 'drivers', 'temperature', 'death', 'death', 'death', 'people', 'death', 'sales', 'people', 'rid', 'death', 'rank', 'rank', 'rank', 'drivers', 'death', 'death', 'death', 'people', 'death', 'sales', 'rid', 'death', 'people', 'rid', 'part_faults', 'payment_method_code', 'competition', 'apartments', 'competition', 'apartments', 'maintenance_engineers', 'competition', 'apartments', 'maintenance_engineers', 'competition', 'apartments', 'competition', 'apartments', 'maintenance_engineers', 'competition', 'apartments', 'maintenance_engineers', 'competition', 'apartments', 'maintenance_engineers', 'competition', 'apartments', 'apartments', 'maintenance_engineers']\n",
            "actual: ['limit', 'sort', 'inner', 'nested', 'loop', 'inner', 'hash', 'join', 'organization_contact_individuals', '.', 'organization_id', 'organizations', '.', 'organization_id', 'seq', 'scan', 'organization_contact_individuals', 'hash', 'seq', 'scan', 'table', 'scan', 'organizations', '.', 'organization_name', 'index', 'scan', 'individuals', '.', 'individual_id', 'organization_contact_individuals', '.', 'individual_id', '<eos>']\n",
            "Accuracy: 0.0\n",
            "prediction: ['music_festival', 'music_festival', 'music_festival', 'people', 'music_festival', 'people', 'music_festival', 'people', 'people', 'browser', 'airlines', 'airlines', 'music_festival', 'people', 'airlines', 'music_festival', 'music_festival', 'people', 'mountain', 'setop', 'part_fault_id', 'setop', 'employee_id', 'employee_id', 'festival_detail', 'employee_id', 'festival_detail', 'part_fault_id', 'festival_detail', 'laptimes', 'laptimes', 'laptimes', 'grade', 'grade', 'music_festival', 'music_festival', 'music_festival', 'people', 'music_festival', 'people', 'master_customer_id', 'people', 'years_working', 'mountain', 'master_customer_id', 'years_working', 'materialize', 'materialize', 'materialize', 'materialize', 'master_customer_id', 'materialize', 'master_customer_id', 'people', 'master_customer_id', 'people', 'years_working', 'transactions', 'materialize', 'materialize', 'materialize', 'materialize', 'master_customer_id', 'materialize', 'materialize', 'master_customer_id', 'people', 'master_customer_id', 'people', 'transactions', 'employee_id', 'employee_id', 'employee_id', 'clubid', 'clubid', 'seq', 'seq', 'breed_code', 'seq', 'faculty_participates_in', 'faculty_participates_in', 'document_description', 'weekly_weather', 'weekly_weather', 'seq', 'seq', 'products_for_hire', 'seq', 'products_for_hire', 'seq', 'products_for_hire', 'seq']\n",
            "actual: ['index', 'scan', 'documents', '.', 'document_id', '<eos>']\n",
            "Accuracy: 0.0\n",
            "prediction: ['music_festival', 'music_festival', 'music_festival', 'music_festival', 'people', 'music_festival', 'people', 'music_festival', 'people', 'airlines', 'music_festival', 'people', 'music_festival', 'people', 'airlines', 'music_festival', 'people', 'airlines', 'music_festival', 'music_festival', 'people', 'airlines', 'music_festival', 'music_festival', 'people', 'airlines', 'music_festival', 'music_festival', 'people', 'mountain', 'setop', 'setop', 'part_fault_id', 'setop', 'employee_id', 'employee_id', 'festival_detail', 'festival_detail', 'part_fault_id', 'setop', 'festival_detail', 'part_fault_id', 'setop', 'festival_detail', 'setop', 'festival_detail', 'college', 'years_working', 'apartments', 'mountain', 'mountain', 'document_description', 'master_customer_id', 'mountain', 'part_fault_id', 'master_customer_id', 'years_working', 'music_festival', 'music_festival', 'document_description', 'master_customer_id', 'music_festival', 'people', 'master_customer_id', 'years_working', 'transactions', 'college', 'years_working', 'materialize', 'materialize', 'materialize', 'materialize', 'materialize', 'materialize', 'master_customer_id', 'materialize', 'materialize', 'master_customer_id', 'festival_detail', 'materialize', 'materialize', 'materialize', 'master_customer_id', 'festival_detail', 'materialize', 'materialize', 'materialize', 'master_customer_id', 'festival_detail', 'materialize', 'materialize', 'master_customer_id']\n",
            "actual: ['seq', 'scan', 'table', 'scan', 'student', '.', 'fname', '<eos>']\n",
            "Accuracy: 0.0\n",
            "prediction: ['music_festival', 'music_festival', 'music_festival', 'people', 'music_festival', 'people', 'music_festival', 'people', 'people', 'browser', 'airlines', 'airlines', 'music_festival', 'people', 'airlines', 'music_festival', 'music_festival', 'people', 'mountain', 'setop', 'part_fault_id', 'setop', 'employee_id', 'employee_id', 'festival_detail', 'employee_id', 'festival_detail', 'part_fault_id', 'festival_detail', 'laptimes', 'laptimes', 'laptimes', 'grade', 'grade', 'music_festival', 'music_festival', 'music_festival', 'people', 'music_festival', 'people', 'master_customer_id', 'people', 'years_working', 'mountain', 'master_customer_id', 'years_working', 'materialize', 'materialize', 'materialize', 'materialize', 'master_customer_id', 'materialize', 'master_customer_id', 'people', 'master_customer_id', 'people', 'years_working', 'transactions', 'materialize', 'materialize', 'materialize', 'materialize', 'master_customer_id', 'materialize', 'materialize', 'master_customer_id', 'people', 'master_customer_id', 'people', 'transactions', 'employee_id', 'employee_id', 'employee_id', 'clubid', 'clubid', 'seq', 'seq', 'breed_code', 'seq', 'faculty_participates_in', 'faculty_participates_in', 'document_description', 'weekly_weather', 'weekly_weather', 'seq', 'seq', 'products_for_hire', 'seq', 'products_for_hire', 'seq', 'products_for_hire', 'seq']\n",
            "actual: ['aggregate', 'seq', 'scan', 'documents', '<eos>']\n",
            "Accuracy: 0.0\n",
            "prediction: ['music_festival', 'music_festival', 'music_festival', 'music_festival', 'people', 'music_festival', 'people', 'music_festival', 'people', 'people', 'browser', 'airlines', 'airlines', 'clubid', 'music_festival', 'music_festival', 'people', 'mountain', 'setop', 'part_fault_id', 'setop', 'employee_id', 'festival_detail', 'part_fault_id', 'setop', 'festival_detail', 'setop', 'festival_detail', 'college', 'years_working', 'apartments', 'mountain', 'mountain', 'document_description', 'master_customer_id', 'mountain', 'document_description', 'master_customer_id', 'master_customer_id', 'years_working', 'mountain', 'master_customer_id', 'part_fault_id', 'master_customer_id', 'years_working', 'transactions', 'college', 'years_working', 'materialize', 'materialize', 'materialize', 'materialize', 'materialize', 'master_customer_id', 'materialize', 'materialize', 'master_customer_id', 'people', 'festival_detail', 'materialize', 'materialize', 'master_customer_id', 'festival_detail', 'materialize', 'materialize', 'materialize', 'master_customer_id', 'festival_detail', 'materialize', 'materialize', 'master_customer_id', 'festival_detail', 'materialize', 'materialize', 'master_customer_id', 'festival_detail', 'materialize', 'materialize', 'materialize', 'master_customer_id', 'festival_detail', 'materialize', 'materialize', 'master_customer_id', 'festival_detail', 'materialize', 'materialize', 'master_customer_id', 'festival_detail', 'materialize', 'materialize', 'materialize']\n",
            "actual: ['limit', 'sort', 'seq', 'scan', 'branch', '<eos>']\n",
            "Accuracy: 0.0\n",
            "prediction: ['music_festival', 'music_festival', 'music_festival', 'music_festival', 'people', 'music_festival', 'people', 'music_festival', 'people', 'airlines', 'music_festival', 'people', 'music_festival', 'people', 'airlines', 'music_festival', 'people', 'airlines', 'music_festival', 'music_festival', 'people', 'airlines', 'music_festival', 'music_festival', 'people', 'airlines', 'music_festival', 'music_festival', 'people', 'mountain', 'setop', 'setop', 'part_fault_id', 'setop', 'employee_id', 'employee_id', 'festival_detail', 'festival_detail', 'part_fault_id', 'setop', 'festival_detail', 'part_fault_id', 'setop', 'festival_detail', 'festival_detail', 'laptimes', 'laptimes', 'grade', 'grade', 'music_festival', 'music_festival', 'music_festival', 'music_festival', 'people', 'music_festival', 'people', 'mountain', 'master_customer_id', 'people', 'years_working', 'mountain', 'master_customer_id', 'part_fault_id', 'master_customer_id', 'years_working', 'materialize', 'materialize', 'materialize', 'materialize', 'master_customer_id', 'materialize', 'materialize', 'master_customer_id', 'people', 'master_customer_id', 'people', 'transactions', 'employee_id', 'employee_id', 'clubid', 'clubid', 'seq', 'seq', 'breed_code', 'seq', 'products_for_hire', 'seq', 'products_for_hire', 'seq', 'products_for_hire', 'seq', 'products_for_hire']\n",
            "actual: ['aggregate', 'seq', 'scan', 'claims_processing', '<eos>']\n",
            "Accuracy: 0.0\n",
            "prediction: ['music_festival', 'music_festival', 'music_festival', 'people', 'music_festival', 'people', 'music_festival', 'people', 'people', 'browser', 'airlines', 'clubid', 'clubid', 'degree_summary_name', 'breed_code', 'people', 'breed_code', 'clubid', 'mountain', 'document_description', 'master_customer_id', 'mountain', 'master_customer_id', 'mountain', 'document_description', 'master_customer_id', 'master_customer_id', 'transactions', 'college', 'years_working', 'transactions', 'college', 'seq', 'seq', 'seq', 'products_for_hire', 'seq', 'products_for_hire', 'seq', 'products_for_hire', 'seq', 'products_for_hire', 'seq', 'products_for_hire', 'seq', 'products_for_hire', 'seq', 'products_for_hire', 'seq', 'products_for_hire', 'seq', 'seq', 'products_for_hire', 'seq', 'products_for_hire', 'seq', 'products_for_hire', 'seq', 'products_for_hire', 'seq', 'products_for_hire', 'seq', 'seq', 'products_for_hire', 'seq', 'products_for_hire', 'seq', 'products_for_hire', 'seq', 'products_for_hire', 'seq', 'products_for_hire', 'seq', 'seq', 'products_for_hire', 'seq', 'products_for_hire', 'seq', 'products_for_hire', 'seq', 'products_for_hire', 'seq', 'seq', 'products_for_hire', 'seq', 'products_for_hire', 'seq', 'products_for_hire', 'seq', 'products_for_hire', 'seq', 'seq']\n",
            "actual: ['sort', 'aggregate', 'seq', 'scan', 'gas_station', '<eos>']\n",
            "Accuracy: 0.0\n",
            "prediction: ['music_festival', 'music_festival', 'music_festival', 'people', 'music_festival', 'people', 'music_festival', 'people', 'people', 'browser', 'airlines', 'airlines', 'clubid', 'music_festival', 'music_festival', 'people', 'mountain', 'setop', 'part_fault_id', 'setop', 'part_fault_id', 'certificate', 'festival_detail', 'years_working', 'amount_of_transaction', 'music_festival', 'document_description', 'music_festival', 'music_festival', 'people', 'music_festival', 'people', 'airlines', 'music_festival', 'music_festival', 'people', 'airlines', 'music_festival', 'music_festival', 'people', 'airlines', 'music_festival', 'music_festival', 'people', 'airlines', 'music_festival', 'music_festival', 'people', 'airlines', 'music_festival', 'music_festival', 'people', 'setop', 'festival_detail', 'setop', 'college', 'setop', 'part_fault_id', 'employee_id', 'employee_id', 'festival_detail', 'festival_detail', 'setop', 'part_fault_id', 'festival_detail', 'setop', 'festival_detail', 'college', 'years_working', 'apartments', 'mountain', 'mountain', 'document_description', 'master_customer_id', 'mountain', 'document_description', 'master_customer_id', 'master_customer_id', 'years_working', 'mountain', 'master_customer_id', 'formats', 'weekly_weather', 'weekly_weather', 'weekly_weather', 'music_festival', 'music_festival', 'music_festival', 'music_festival', 'music_festival', 'city', 'music_festival']\n",
            "actual: ['seq', 'scan', 'table', 'scan', 'company', '.', 'market_value', '<eos>']\n",
            "Accuracy: 0.0\n",
            "prediction: ['music_festival', 'music_festival', 'music_festival', 'people', 'music_festival', 'people', 'music_festival', 'people', 'people', 'browser', 'airlines', 'airlines', 'clubid', 'music_festival', 'music_festival', 'people', 'mountain', 'setop', 'master_customer_id', 'part_fault_id', 'part_fault_id', 'setop', 'festival_detail', 'setop', 'festival_detail', 'setop', 'festival_detail', 'college', 'years_working', 'apartments', 'mountain', 'mountain', 'document_description', 'master_customer_id', 'mountain', 'document_description', 'master_customer_id', 'master_customer_id', 'years_working', 'mountain', 'master_customer_id', 'transactions', 'college', 'years_working', 'transactions', 'college', 'seq', 'seq', 'seq', 'products_for_hire', 'seq', 'products_for_hire', 'seq', 'products_for_hire', 'seq', 'products_for_hire', 'seq', 'products_for_hire', 'seq', 'products_for_hire', 'seq', 'products_for_hire', 'seq', 'products_for_hire', 'seq', 'products_for_hire', 'seq', 'products_for_hire', 'seq', 'products_for_hire', 'seq', 'products_for_hire', 'seq', 'products_for_hire', 'seq', 'products_for_hire', 'seq', 'products_for_hire', 'seq', 'festival_detail', 'years_working', 'years_working', 'years_working', 'materialize', 'materialize', 'materialize', 'materialize', 'materialize', 'materialize', 'materialize', 'master_customer_id', 'festival_detail']\n",
            "actual: ['sort', 'seq', 'scan', 'orchestra', '<eos>']\n",
            "Accuracy: 0.0\n",
            "prediction: ['music_festival', 'music_festival', 'music_festival', 'music_festival', 'people', 'music_festival', 'people', 'music_festival', 'people', 'airlines', 'music_festival', 'people', 'music_festival', 'people', 'airlines', 'music_festival', 'people', 'airlines', 'music_festival', 'music_festival', 'people', 'mountain', 'setop', 'part_fault_id', 'setop', 'employee_id', 'employee_id', 'festival_detail', 'part_fault_id', 'festival_detail', 'setop', 'festival_detail', 'setop', 'part_fault_id', 'festival_detail', 'setop', 'festival_detail', 'college', 'years_working', 'apartments', 'mountain', 'mountain', 'document_description', 'master_customer_id', 'mountain', 'document_description', 'master_customer_id', 'master_customer_id', 'years_working', 'mountain', 'master_customer_id', 'formats', 'weekly_weather', 'weekly_weather', 'weekly_weather', 'music_festival', 'music_festival', 'music_festival', 'music_festival', 'music_festival', 'music_festival', 'instid', 'music_festival', 'music_festival', 'music_festival', 'people', 'setop', 'setop', 'festival_detail', 'setop', 'college', 'setop', 'employee_id', 'employee_id', 'festival_detail', 'book_club', 'apartments', 'apartments', 'mountain', 'museum', 'apartments', 'music_festival', 'music_festival', 'music_festival', 'music_festival', 'music_festival', 'people', 'music_festival', 'people', 'master_customer_id', 'years_working', 'transactions']\n",
            "actual: ['index', 'scan', 'projects', '.', 'project_id', '<eos>']\n",
            "Accuracy: 0.0\n",
            "prediction: ['music_festival', 'music_festival', 'music_festival', 'music_festival', 'people', 'music_festival', 'people', 'music_festival', 'people', 'airlines', 'music_festival', 'people', 'airlines', 'music_festival', 'music_festival', 'people', 'airlines', 'music_festival', 'music_festival', 'people', 'airlines', 'music_festival', 'music_festival', 'people', 'mountain', 'setop', 'setop', 'part_fault_id', 'employee_id', 'employee_id', 'festival_detail', 'employee_id', 'festival_detail', 'part_fault_id', 'festival_detail', 'laptimes', 'laptimes', 'laptimes', 'grade', 'grade', 'music_festival', 'music_festival', 'music_festival', 'people', 'mountain', 'setop', 'master_customer_id', 'mountain', 'master_customer_id', 'part_fault_id', 'master_customer_id', 'customer_orders', 'customer_orders', 'mountain', 'setop', 'document_description', 'master_customer_id', 'mountain', 'document_description', 'master_customer_id', 'mountain', 'master_customer_id', 'museum', 'years_working', 'transactions', 'years_working', 'materialize', 'materialize', 'materialize', 'materialize', 'master_customer_id', 'materialize', 'master_customer_id', 'people', 'master_customer_id', 'customer_orders', 'transactions', 'employee_id', 'clubid', 'clubid', 'clubid', 'clubid', 'degree_summary_name', 'seq', 'breed_code', 'seq', 'breed_code', 'seq', 'products_for_hire', 'seq', 'products_for_hire', 'seq']\n",
            "actual: ['limit', 'sort', 'aggregate', 'seq', 'scan', 'tv_channel', '<eos>']\n",
            "Accuracy: 0.0\n",
            "prediction: ['music_festival', 'music_festival', 'music_festival', 'music_festival', 'people', 'music_festival', 'people', 'music_festival', 'people', 'airlines', 'music_festival', 'people', 'music_festival', 'people', 'airlines', 'music_festival', 'people', 'airlines', 'music_festival', 'music_festival', 'people', 'airlines', 'music_festival', 'music_festival', 'people', 'airlines', 'music_festival', 'music_festival', 'people', 'airlines', 'music_festival', 'music_festival', 'people', 'music_festival', 'people', 'airlines', 'music_festival', 'music_festival', 'people', 'airlines', 'music_festival', 'music_festival', 'people', 'airlines', 'music_festival', 'music_festival', 'people', 'airlines', 'music_festival', 'music_festival', 'people', 'airlines', 'music_festival', 'music_festival', 'people', 'airlines', 'music_festival', 'music_festival', 'people', 'music_festival', 'people', 'airlines', 'music_festival', 'people', 'airlines', 'music_festival', 'music_festival', 'people', 'airlines', 'music_festival', 'music_festival', 'people', 'airlines', 'music_festival', 'music_festival', 'people', 'airlines', 'music_festival', 'music_festival', 'people', 'music_festival', 'people', 'airlines', 'music_festival', 'people', 'airlines', 'music_festival', 'music_festival', 'people', 'airlines', 'music_festival', 'music_festival']\n",
            "actual: ['index', 'scan', 'statements', '.', 'statement_id', '<eos>']\n",
            "Accuracy: 0.0\n",
            "prediction: ['music_festival', 'music_festival', 'music_festival', 'music_festival', 'people', 'music_festival', 'people', 'music_festival', 'people', 'people', 'browser', 'airlines', 'airlines', 'music_festival', 'music_festival', 'people', 'airlines', 'music_festival', 'music_festival', 'people', 'music_festival', 'people', 'airlines', 'music_festival', 'music_festival', 'people', 'airlines', 'music_festival', 'music_festival', 'people', 'setop', 'festival_detail', 'setop', 'college', 'setop', 'part_fault_id', 'setop', 'employee_id', 'festival_detail', 'employee_id', 'festival_detail', 'book_club', 'music_festival', 'music_festival', 'music_festival', 'music_festival', 'people', 'music_festival', 'people', 'music_festival', 'people', 'browser', 'airlines', 'clubid', 'degree_summary_name', 'breed_code', 'people', 'breed_code', 'people', 'mountain', 'document_description', 'master_customer_id', 'part_fault_id', 'master_customer_id', 'part_fault_id', 'festival_detail', 'setop', 'setop', 'festival_detail', 'college', 'years_working', 'apartments', 'mountain', 'mountain', 'document_description', 'master_customer_id', 'part_fault_id', 'master_customer_id', 'years_working', 'transactions', 'college', 'years_working', 'grade', 'grade', 'music_festival', 'music_festival', 'music_festival', 'people', 'music_festival', 'people', 'college', 'clubid']\n",
            "actual: ['aggregate', 'seq', 'scan', 'customers', '<eos>']\n",
            "Accuracy: 0.0\n",
            "prediction: ['music_festival', 'music_festival', 'music_festival', 'people', 'dog_id', 'dog_id', 'dog_id', 'dog_id', 'dog_id', 'dog_id', 'dog_id', 'dog_id', 'dog_id', 'dog_id', 'dog_id', 'dog_id', 'dog_id', 'dog_id', 'dog_id', 'dog_id', 'dog_id', 'dog_id', 'dog_id', 'dog_id', 'dog_id', 'dog_id', 'dog_id', 'dog_id', 'dog_id', 'dog_id', 'dog_id', 'dog_id', 'dog_id', 'dog_id', 'dog_id', 'dog_id', 'dog_id', 'dog_id', 'dog_id', 'dog_id', 'dog_id', 'dog_id', 'dog_id', 'dog_id', 'dog_id', 'dog_id', 'dog_id', 'dog_id', 'dog_id', 'dog_id', 'dog_id', 'dog_id', 'dog_id', 'dog_id', 'dog_id', 'dog_id', 'dog_id', 'dog_id', 'dog_id', 'dog_id', 'dog_id', 'dog_id', 'dog_id', 'dog_id', 'dog_id', 'dog_id', 'dog_id', 'dog_id', 'dog_id', 'dog_id', 'dog_id', 'dog_id', 'dog_id', 'dog_id', 'dog_id', 'dog_id', 'dog_id', 'dog_id', 'dog_id', 'dog_id', 'dog_id', 'dog_id', 'dog_id', 'dog_id', 'dog_id', 'dog_id', 'dog_id', 'dog_id', 'dog_id', 'dog_id', 'dog_id', 'dog_id']\n",
            "actual: ['inner', 'nested', 'loop', 'index', 'scan', 'owners', '.', 'owner_id', 'seq', 'scan', 'table', 'scan', 'dogs', '.', 'owner_id', '<eos>']\n",
            "Accuracy: 0.0\n",
            "prediction: ['music_festival', 'music_festival', 'music_festival', 'music_festival', 'people', 'music_festival', 'people', 'music_festival', 'people', 'people', 'browser', 'airlines', 'airlines', 'music_festival', 'music_festival', 'people', 'airlines', 'music_festival', 'music_festival', 'people', 'airlines', 'music_festival', 'music_festival', 'people', 'music_festival', 'people', 'airlines', 'music_festival', 'music_festival', 'people', 'airlines', 'music_festival', 'music_festival', 'people', 'setop', 'festival_detail', 'setop', 'part_fault_id', 'setop', 'festival_detail', 'setop', 'part_fault_id', 'festival_detail', 'setop', 'festival_detail', 'setop', 'part_fault_id', 'festival_detail', 'setop', 'festival_detail', 'college', 'years_working', 'apartments', 'mountain', 'mountain', 'document_description', 'master_customer_id', 'part_fault_id', 'master_customer_id', 'years_working', 'years_working', 'materialize', 'materialize', 'materialize', 'master_customer_id', 'materialize', 'master_customer_id', 'people', 'master_customer_id', 'customer_orders', 'transactions', 'employee_id', 'clubid', 'clubid', 'clubid', 'degree_summary_name', 'seq', 'breed_code', 'seq', 'faculty_participates_in', 'faculty_participates_in', 'document_description', 'weekly_weather', 'weekly_weather', 'seq', 'seq', 'weekly_weather', 'weekly_weather', 'seq', 'seq', 'weekly_weather', 'weekly_weather']\n",
            "actual: ['limit', 'sort', 'seq', 'scan', 'classroom', '<eos>']\n",
            "Accuracy: 0.0\n",
            "prediction: ['music_festival', 'music_festival', 'music_festival', 'music_festival', 'people', 'music_festival', 'people', 'music_festival', 'people', 'people', 'browser', 'airlines', 'airlines', 'clubid', 'music_festival', 'music_festival', 'people', 'mountain', 'setop', 'part_fault_id', 'setop', 'employee_id', 'employee_id', 'festival_detail', 'festival_detail', 'part_fault_id', 'setop', 'festival_detail', 'setop', 'festival_detail', 'college', 'years_working', 'apartments', 'mountain', 'mountain', 'document_description', 'problem_log', 'problem_log', 'problem_log', 'problem_log', 'problem_log', 'clubid', 'problem_log', 'clubid', 'breed_code', 'clubid', 'music_festival', 'music_festival', 'music_festival', 'music_festival', 'people', 'music_festival', 'people', 'music_festival', 'people', 'airlines', 'music_festival', 'people', 'airlines', 'music_festival', 'music_festival', 'people', 'airlines', 'music_festival', 'music_festival', 'people', 'airlines', 'music_festival', 'music_festival', 'people', 'mountain', 'setop', 'setop', 'part_fault_id', 'setop', 'employee_id', 'employee_id', 'festival_detail', 'festival_detail', 'part_fault_id', 'setop', 'festival_detail', 'setop', 'festival_detail', 'college', 'years_working', 'apartments', 'mountain', 'mountain', 'document_description', 'master_customer_id', 'mountain']\n",
            "actual: ['aggregate', 'seq', 'scan', 'screen_mode', '<eos>']\n",
            "Accuracy: 0.0\n",
            "prediction: ['music_festival', 'music_festival', 'music_festival', 'people', 'music_festival', 'people', 'music_festival', 'people', 'people', 'browser', 'airlines', 'airlines', 'clubid', 'music_festival', 'music_festival', 'people', 'mountain', 'setop', 'part_fault_id', 'setop', 'employee_id', 'employee_id', 'festival_detail', 'festival_detail', 'setop', 'part_fault_id', 'festival_detail', 'setop', 'festival_detail', 'college', 'years_working', 'grade', 'grade', 'mountain', 'amount_of_transaction', 'music_festival', 'music_festival', 'music_festival', 'people', 'document_description', 'master_customer_id', 'mountain', 'master_customer_id', 'people', 'years_working', 'mountain', 'master_customer_id', 'part_fault_id', 'part_fault_id', 'setop', 'employee_id', 'employee_id', 'employee_id', 'festival_detail', 'seq', 'festival_detail', 'laptimes', 'laptimes', 'laptimes', 'bitmap', 'editor_id', 'editor_id', 'people', 'browser', 'years_working', 'clubid', 'mountain', 'master_customer_id', 'mountain', 'document_description', 'master_customer_id', 'master_customer_id', 'years_working', 'transactions', 'college', 'years_working', 'materialize', 'materialize', 'materialize', 'materialize', 'materialize', 'materialize', 'master_customer_id', 'people', 'master_customer_id', 'people', 'master_customer_id', 'part_fault_id', 'transactions', 'employee_id', 'employee_id', 'employee_id']\n",
            "actual: ['seq', 'scan', 'aggregate', 'seq', 'scan', 'editor', '<eos>']\n",
            "Accuracy: 0.0\n",
            "prediction: ['music_festival', 'music_festival', 'music_festival', 'people', 'music_festival', 'people', 'music_festival', 'people', 'people', 'browser', 'airlines', 'clubid', 'degree_summary_name', 'breed_code', 'people', 'breed_code', 'people', 'mountain', 'part_fault_id', 'setop', 'part_fault_id', 'setop', 'employee_id', 'employee_id', 'festival_detail', 'festival_detail', 'book_club', 'music_festival', 'music_festival', 'music_festival', 'music_festival', 'people', 'music_festival', 'people', 'browser', 'airlines', 'clubid', 'clubid', 'degree_summary_name', 'breed_code', 'breed_code', 'people', 'mountain', 'people', 'document_description', 'master_customer_id', 'mountain', 'part_fault_id', 'master_customer_id', 'part_fault_id', 'seq', 'seq', 'breed_code', 'products_for_hire', 'seq', 'products_for_hire', 'seq', 'products_for_hire', 'seq', 'products_for_hire', 'seq', 'products_for_hire', 'seq', 'products_for_hire', 'seq', 'seq', 'products_for_hire', 'seq', 'products_for_hire', 'seq', 'products_for_hire', 'seq', 'seq', 'products_for_hire', 'seq', 'products_for_hire', 'seq', 'products_for_hire', 'seq', 'seq', 'products_for_hire', 'seq', 'products_for_hire', 'seq', 'products_for_hire', 'seq', 'seq', 'products_for_hire', 'seq', 'products_for_hire', 'seq', 'products_for_hire']\n",
            "actual: ['seq', 'scan', 'table', 'scan', 'head', '.', 'name', '<eos>']\n",
            "Accuracy: 0.0\n",
            "prediction: ['music_festival', 'music_festival', 'music_festival', 'music_festival', 'people', 'music_festival', 'people', 'music_festival', 'people', 'airlines', 'music_festival', 'people', 'music_festival', 'people', 'airlines', 'music_festival', 'people', 'airlines', 'music_festival', 'music_festival', 'people', 'airlines', 'music_festival', 'music_festival', 'people', 'mountain', 'setop', 'setop', 'employee_id', 'employee_id', 'employee_id', 'festival_detail', 'festival_detail', 'part_fault_id', 'festival_detail', 'laptimes', 'laptimes', 'laptimes', 'grade', 'grade', 'setop', 'grade', 'music_festival', 'music_festival', 'mountain', 'setop', 'master_customer_id', 'mountain', 'document_description', 'master_customer_id', 'mountain', 'master_customer_id', 'museum', 'years_working', 'mountain', 'document_description', 'master_customer_id', 'master_customer_id', 'years_working', 'transactions', 'college', 'seq', 'seq', 'seq', 'products_for_hire', 'seq', 'products_for_hire', 'seq', 'products_for_hire', 'seq', 'products_for_hire', 'seq', 'products_for_hire', 'seq', 'seq', 'products_for_hire', 'seq', 'products_for_hire', 'seq', 'products_for_hire', 'seq', 'products_for_hire', 'seq', 'seq', 'products_for_hire', 'festival_detail', 'seq', 'years_working', 'years_working', 'years_working', 'materialize', 'materialize']\n",
            "actual: ['limit', 'sort', 'seq', 'scan', 'country', '<eos>']\n",
            "Accuracy: 0.0\n",
            "prediction: ['music_festival', 'music_festival', 'music_festival', 'people', 'music_festival', 'people', 'student_course_enrolment', 'branch_id', 'music_festival', 'music_festival', 'music_festival', 'people', 'setop', 'employee_id', 'employee_id', 'employee_id', 'employee_id', 'clubid', 'degree_summary_name', 'employee_id', 'time_of_day', 'clubid', 'degree_summary_name', 'degree_summary_name', 'breed_code', 'employee_id', 'clubid', 'clubid', 'degree_summary_name', 'breed_code', 'breed_code', 'clubid', 'clubid', 'clubid', 'degree_summary_name', 'breed_code', 'breed_code', 'clubid', 'clubid', 'clubid', 'degree_summary_name', 'breed_code', 'length', 'transactions', 'breed_code', 'clubid', 'clubid', 'clubid', 'degree_summary_name', 'breed_code', 'seq', 'breed_code', 'clubid', 'clubid', 'seq', 'breed_code', 'weekly_weather', 'weekly_weather', 'weekly_weather', 'weekly_weather', 'seq', 'seq', 'weekly_weather', 'weekly_weather', 'weekly_weather', 'music_festival', 'music_festival', 'music_festival', 'music_festival', 'music_festival', 'music_festival', 'music_festival', 'city', 'music_festival', 'music_festival', 'music_festival', 'music_festival', 'individual_id', 'airlines', 'music_festival', 'people', 'airlines', 'music_festival', 'music_festival', 'people', 'setop', 'festival_detail', 'setop', 'employee_id', 'employee_id', 'employee_id', 'festival_detail']\n",
            "actual: ['inner', 'nested', 'loop', 'seq', 'scan', 'table', 'scan', 'catalog_contents_additional_attributes', '.', 'catalog_level_number', 'index', 'scan', 'catalog_contents', '.', 'catalog_entry_id', 'catalog_contents_additional_attributes', '.', 'catalog_entry_id', '<eos>']\n",
            "Accuracy: 0.0\n",
            "prediction: ['music_festival', 'music_festival', 'music_festival', 'music_festival', 'people', 'music_festival', 'people', 'music_festival', 'people', 'airlines', 'music_festival', 'people', 'music_festival', 'people', 'airlines', 'music_festival', 'people', 'airlines', 'music_festival', 'music_festival', 'people', 'mountain', 'setop', 'part_fault_id', 'setop', 'employee_id', 'employee_id', 'festival_detail', 'employee_id', 'festival_detail', 'part_fault_id', 'festival_detail', 'laptimes', 'laptimes', 'laptimes', 'grade', 'grade', 'grade', 'music_festival', 'music_festival', 'music_festival', 'people', 'mountain', 'setop', 'master_customer_id', 'mountain', 'master_customer_id', 'part_fault_id', 'master_customer_id', 'customer_orders', 'customer_orders', 'mountain', 'setop', 'document_description', 'master_customer_id', 'mountain', 'museum', 'mountain', 'document_description', 'master_customer_id', 'master_customer_id', 'years_working', 'transactions', 'college', 'years_working', 'materialize', 'materialize', 'materialize', 'materialize', 'master_customer_id', 'materialize', 'materialize', 'master_customer_id', 'people', 'master_customer_id', 'people', 'transactions', 'employee_id', 'employee_id', 'clubid', 'clubid', 'seq', 'seq', 'breed_code', 'seq', 'products_for_hire', 'seq', 'products_for_hire', 'seq', 'products_for_hire', 'seq', 'products_for_hire']\n",
            "actual: ['seq', 'scan', 'seq', 'scan', 'table', 'scan', 'film', '.', 'title', '<eos>']\n",
            "Accuracy: 0.0\n",
            "prediction: ['laptimes', 'laptimes', 'laptimes', 'bitmap', 'has_pet', 'music_festival', 'people', 'music_festival', 'people', 'master_customer_id', 'people', 'years_working', 'mountain', 'master_customer_id', 'part_fault_id', 'employee_id', 'employee_id', 'employee_id', 'employee_id', 'clubid', 'degree_summary_name', 'employee_id', 'employee_id', 'time_of_day', 'clubid', 'degree_summary_name', 'breed_code', 'length', 'length', 'people', 'book_club', 'apartments', 'game_id', 'transactions', 'museum', 'apartments', 'apartments', 't1', 'results', 'results', 'results', 'browser', 'owner_id', 'owner_id', 'people', 'years_working', 'mountain', 'rank', 'rank', 'drivers', 'dog_id', 'dog_id', 'dog_id', 'dog_id', 'dog_id', 'dog_id', 'dog_id', 'dog_id', 'dog_id', 'dog_id', 'dog_id', 'dog_id', 'dog_id', 'dog_id', 'dog_id', 'dog_id', 'dog_id', 'dog_id', 'dog_id', 'dog_id', 'dog_id', 'dog_id', 'dog_id', 'dog_id', 'dog_id', 'dog_id', 'dog_id', 'dog_id', 'dog_id', 'dog_id', 'dog_id', 'dog_id', 'dog_id', 'dog_id', 'dog_id', 'dog_id', 'dog_id', 'dog_id', 'dog_id', 'dog_id', 'dog_id', 'dog_id']\n",
            "actual: ['limit', 'sort', 'inner', 'hash', 'join', 'cars_data', '.', 'id', 'car_names', '.', 'makeid', 'seq', 'scan', 'cars_data', 'hash', 'seq', 'scan', 'table', 'scan', 'car_names', '.', 'model', '<eos>']\n",
            "Accuracy: 0.0\n",
            "prediction: ['music_festival', 'music_festival', 'music_festival', 'music_festival', 'people', 'music_festival', 'people', 'music_festival', 'people', 'people', 'browser', 'airlines', 'airlines', 'music_festival', 'music_festival', 'people', 'airlines', 'music_festival', 'music_festival', 'people', 'airlines', 'music_festival', 'music_festival', 'people', 'music_festival', 'people', 'airlines', 'music_festival', 'music_festival', 'people', 'airlines', 'music_festival', 'music_festival', 'people', 'airlines', 'music_festival', 'music_festival', 'people', 'setop', 'festival_detail', 'setop', 'college', 'part_fault_id', 'setop', 'festival_detail', 'setop', 'employee_id', 'festival_detail', 'part_fault_id', 'festival_detail', 'setop', 'festival_detail', 'college', 'years_working', 'apartments', 'mountain', 'mountain', 'document_description', 'master_customer_id', 'part_fault_id', 'master_customer_id', 'years_working', 'years_working', 'materialize', 'materialize', 'materialize', 'master_customer_id', 'materialize', 'master_customer_id', 'customer_orders', 'materialize', 'materialize', 'materialize', 'master_customer_id', 'people', 'master_customer_id', 'festival_detail', 'part_fault_id', 'festival_detail', 'seq', 'seq', 'festival_detail', 'laptimes', 'bitmap', 'editor_id', 'editor_id', 'editor_id', 'editor_id', 'people', 'apartments', 'apartments', 'apartments']\n",
            "actual: ['seq', 'scan', 'orders', '<eos>']\n",
            "Accuracy: 0.0\n",
            "prediction: ['music_festival', 'music_festival', 'music_festival', 'music_festival', 'people', 'music_festival', 'people', 'music_festival', 'people', 'airlines', 'music_festival', 'people', 'airlines', 'music_festival', 'music_festival', 'people', 'airlines', 'music_festival', 'music_festival', 'people', 'airlines', 'music_festival', 'music_festival', 'people', 'airlines', 'music_festival', 'music_festival', 'people', 'mountain', 'setop', 'setop', 'part_fault_id', 'setop', 'employee_id', 'festival_detail', 'employee_id', 'festival_detail', 'part_fault_id', 'festival_detail', 'laptimes', 'laptimes', 'laptimes', 'grade', 'grade', 'setop', 'grade', 'music_festival', 'music_festival', 'mountain', 'setop', 'master_customer_id', 'mountain', 'document_description', 'master_customer_id', 'master_customer_id', 'customer_orders', 'mountain', 'museum', 'mountain', 'document_description', 'master_customer_id', 'master_customer_id', 'years_working', 'transactions', 'college', 'years_working', 'materialize', 'materialize', 'materialize', 'materialize', 'master_customer_id', 'people', 'master_customer_id', 'people', 'years_working', 'transactions', 'materialize', 'materialize', 'materialize', 'materialize', 'master_customer_id', 'materialize', 'materialize', 'master_customer_id', 'festival_detail', 'materialize', 'materialize', 'materialize', 'master_customer_id', 'festival_detail', 'materialize', 'materialize']\n",
            "actual: ['limit', 'sort', 'seq', 'scan', 'races', '<eos>']\n",
            "Accuracy: 0.0\n",
            "prediction: ['music_festival', 'music_festival', 'music_festival', 'music_festival', 'people', 'music_festival', 'people', 'music_festival', 'people', 'airlines', 'music_festival', 'people', 'music_festival', 'people', 'airlines', 'music_festival', 'people', 'airlines', 'music_festival', 'music_festival', 'people', 'airlines', 'music_festival', 'music_festival', 'people', 'airlines', 'music_festival', 'music_festival', 'people', 'mountain', 'setop', 'setop', 'part_fault_id', 'setop', 'employee_id', 'employee_id', 'festival_detail', 'festival_detail', 'part_fault_id', 'setop', 'festival_detail', 'part_fault_id', 'setop', 'festival_detail', 'setop', 'festival_detail', 'college', 'years_working', 'apartments', 'mountain', 'mountain', 'document_description', 'master_customer_id', 'mountain', 'part_fault_id', 'master_customer_id', 'years_working', 'music_festival', 'music_festival', 'document_description', 'master_customer_id', 'music_festival', 'people', 'master_customer_id', 'years_working', 'transactions', 'college', 'years_working', 'materialize', 'materialize', 'materialize', 'materialize', 'materialize', 'materialize', 'master_customer_id', 'materialize', 'materialize', 'master_customer_id', 'festival_detail', 'materialize', 'materialize', 'materialize', 'master_customer_id', 'festival_detail', 'materialize', 'materialize', 'materialize', 'master_customer_id', 'festival_detail', 'materialize', 'materialize', 'master_customer_id']\n",
            "actual: ['aggregate', 'seq', 'scan', 'student', '<eos>']\n",
            "Accuracy: 0.0\n",
            "prediction: ['music_festival', 'music_festival', 'people', 'music_festival', 'people', 'dog_id', 'dog_id', 'dog_id', 'dog_id', 'dog_id', 'dog_id', 'dog_id', 'dog_id', 'dog_id', 'dog_id', 'dog_id', 'dog_id', 'dog_id', 'dog_id', 'dog_id', 'dog_id', 'dog_id', 'dog_id', 'dog_id', 'dog_id', 'dog_id', 'dog_id', 'dog_id', 'dog_id', 'dog_id', 'dog_id', 'dog_id', 'dog_id', 'dog_id', 'dog_id', 'dog_id', 'dog_id', 'dog_id', 'dog_id', 'dog_id', 'dog_id', 'dog_id', 'dog_id', 'dog_id', 'dog_id', 'dog_id', 'dog_id', 'dog_id', 'dog_id', 'dog_id', 'dog_id', 'dog_id', 'dog_id', 'dog_id', 'dog_id', 'dog_id', 'dog_id', 'dog_id', 'dog_id', 'dog_id', 'dog_id', 'dog_id', 'dog_id', 'dog_id', 'dog_id', 'dog_id', 'dog_id', 'dog_id', 'dog_id', 'dog_id', 'dog_id', 'dog_id', 'dog_id', 'dog_id', 'dog_id', 'dog_id', 'dog_id', 'dog_id', 'dog_id', 'dog_id', 'dog_id', 'dog_id', 'dog_id', 'dog_id', 'dog_id', 'dog_id', 'dog_id', 'dog_id', 'dog_id', 'dog_id', 'dog_id', 'dog_id']\n",
            "actual: ['inner', 'hash', 'join', 'student', '.', 'stuid', 'voting_record', '.', 'stuid', 'seq', 'scan', 'student', 'hash', 'seq', 'scan', 'table', 'scan', 'voting_record', '.', 'president_vote', '<eos>']\n",
            "Accuracy: 0.0\n",
            "prediction: ['music_festival', 'music_festival', 'music_festival', 'music_festival', 'people', 'music_festival', 'people', 'music_festival', 'people', 'airlines', 'music_festival', 'people', 'music_festival', 'people', 'airlines', 'music_festival', 'people', 'airlines', 'music_festival', 'music_festival', 'people', 'airlines', 'music_festival', 'music_festival', 'people', 'airlines', 'music_festival', 'music_festival', 'people', 'airlines', 'music_festival', 'music_festival', 'people', 'airlines', 'music_festival', 'music_festival', 'people', 'airlines', 'music_festival', 'music_festival', 'people', 'airlines', 'music_festival', 'music_festival', 'people', 'airlines', 'music_festival', 'music_festival', 'people', 'airlines', 'music_festival', 'music_festival', 'people', 'airlines', 'music_festival', 'music_festival', 'people', 'airlines', 'music_festival', 'music_festival', 'people', 'airlines', 'music_festival', 'music_festival', 'people', 'airlines', 'music_festival', 'music_festival', 'people', 'airlines', 'music_festival', 'music_festival', 'people', 'airlines', 'music_festival', 'music_festival', 'people', 'airlines', 'music_festival', 'music_festival', 'people', 'airlines', 'music_festival', 'music_festival', 'people', 'airlines', 'music_festival', 'music_festival', 'people', 'airlines', 'music_festival', 'music_festival']\n",
            "actual: ['aggregate', 'seq', 'scan', 'medicine_enzyme_interaction', '<eos>']\n",
            "Accuracy: 0.0\n",
            "prediction: ['music_festival', 'music_festival', 'music_festival', 'music_festival', 'people', 'music_festival', 'people', 'music_festival', 'people', 'airlines', 'music_festival', 'people', 'music_festival', 'people', 'airlines', 'music_festival', 'people', 'airlines', 'music_festival', 'music_festival', 'people', 'mountain', 'setop', 'part_fault_id', 'setop', 'employee_id', 'employee_id', 'festival_detail', 'part_fault_id', 'festival_detail', 'setop', 'festival_detail', 'setop', 'part_fault_id', 'festival_detail', 'setop', 'festival_detail', 'college', 'years_working', 'apartments', 'mountain', 'mountain', 'document_description', 'master_customer_id', 'mountain', 'document_description', 'master_customer_id', 'master_customer_id', 'years_working', 'mountain', 'master_customer_id', 'formats', 'weekly_weather', 'weekly_weather', 'weekly_weather', 'music_festival', 'music_festival', 'music_festival', 'music_festival', 'music_festival', 'music_festival', 'instid', 'music_festival', 'music_festival', 'music_festival', 'people', 'setop', 'setop', 'festival_detail', 'setop', 'college', 'setop', 'employee_id', 'employee_id', 'festival_detail', 'book_club', 'apartments', 'apartments', 'mountain', 'museum', 'apartments', 'music_festival', 'music_festival', 'music_festival', 'music_festival', 'music_festival', 'people', 'music_festival', 'people', 'master_customer_id', 'years_working', 'transactions']\n",
            "actual: ['aggregate', 'seq', 'scan', 'seq', 'scan', 'table', 'scan', 'project_staff', '.', 'role_code', '<eos>']\n",
            "Accuracy: 0.0\n",
            "prediction: ['music_festival', 'music_festival', 'music_festival', 'people', 'music_festival', 'people', 'music_festival', 'people', 'airlines', 'music_festival', 'people', 'airlines', 'music_festival', 'people', 'music_festival', 'people', 'airlines', 'music_festival', 'people', 'airlines', 'music_festival', 'music_festival', 'people', 'airlines', 'music_festival', 'music_festival', 'people', 'mountain', 'setop', 'part_fault_id', 'setop', 'employee_id', 'employee_id', 'festival_detail', 'festival_detail', 'part_fault_id', 'setop', 'festival_detail', 'setop', 'festival_detail', 'college', 'years_working', 'grade', 'grade', 'mountain', 'amount_of_transaction', 'music_festival', 'music_festival', 'document_description', 'music_festival', 'music_festival', 'people', 'music_festival', 'people', 'master_customer_id', 'branch_id', 'years_working', 'mountain', 'problem_log', 'problem_log', 'problem_log', 'problem_log', 'clubid', 'problem_log', 'clubid', 'problem_log', 'clubid', 'breed_code', 'clubid', 'music_festival', 'music_festival', 'music_festival', 'people', 'music_festival', 'people', 'mountain', 'airlines', 'music_festival', 'people', 'music_festival', 'people', 'airlines', 'music_festival', 'people', 'music_festival', 'people', 'airlines', 'music_festival', 'people', 'airlines', 'music_festival', 'music_festival']\n",
            "actual: ['aggregate', 'index', 'scan', 'shop', '.', 'shop_id', 'seq', 'scan', 'table', 'scan', 'shop', '.', 'num_of_staff', '<eos>']\n",
            "Accuracy: 0.0\n",
            "prediction: ['music_festival', 'music_festival', 'music_festival', 'music_festival', 'people', 'music_festival', 'people', 'music_festival', 'people', 'airlines', 'music_festival', 'people', 'airlines', 'music_festival', 'music_festival', 'people', 'airlines', 'music_festival', 'music_festival', 'people', 'mountain', 'setop', 'setop', 'part_fault_id', 'employee_id', 'employee_id', 'festival_detail', 'employee_id', 'festival_detail', 'part_fault_id', 'festival_detail', 'laptimes', 'laptimes', 'laptimes', 'grade', 'grade', 'setop', 'grade', 'music_festival', 'music_festival', 'mountain', 'setop', 'master_customer_id', 'mountain', 'document_description', 'master_customer_id', 'mountain', 'master_customer_id', 'museum', 'years_working', 'mountain', 'document_description', 'master_customer_id', 'master_customer_id', 'years_working', 'transactions', 'college', 'years_working', 'materialize', 'materialize', 'materialize', 'materialize', 'materialize', 'master_customer_id', 'materialize', 'materialize', 'master_customer_id', 'people', 'master_customer_id', 'people', 'transactions', 'employee_id', 'employee_id', 'clubid', 'clubid', 'seq', 'seq', 'breed_code', 'seq', 'products_for_hire', 'seq', 'products_for_hire', 'seq', 'products_for_hire', 'seq', 'products_for_hire', 'seq', 'products_for_hire', 'seq', 'products_for_hire', 'seq', 'products_for_hire']\n",
            "actual: ['limit', 'sort', 'aggregate', 'seq', 'scan', 'documents_with_expenses', '<eos>']\n",
            "Accuracy: 0.0\n",
            "prediction: ['music_festival', 'music_festival', 'people', 'music_festival', 'dog_id', 'dog_id', 'dog_id', 'dog_id', 'dog_id', 'dog_id', 'dog_id', 'dog_id', 'dog_id', 'dog_id', 'dog_id', 'dog_id', 'dog_id', 'dog_id', 'dog_id', 'dog_id', 'dog_id', 'dog_id', 'dog_id', 'dog_id', 'dog_id', 'dog_id', 'dog_id', 'dog_id', 'dog_id', 'dog_id', 'dog_id', 'dog_id', 'dog_id', 'dog_id', 'dog_id', 'dog_id', 'dog_id', 'dog_id', 'dog_id', 'dog_id', 'dog_id', 'dog_id', 'dog_id', 'dog_id', 'dog_id', 'dog_id', 'dog_id', 'dog_id', 'dog_id', 'dog_id', 'dog_id', 'dog_id', 'dog_id', 'dog_id', 'dog_id', 'dog_id', 'dog_id', 'dog_id', 'dog_id', 'dog_id', 'dog_id', 'dog_id', 'dog_id', 'dog_id', 'dog_id', 'dog_id', 'dog_id', 'dog_id', 'dog_id', 'dog_id', 'dog_id', 'dog_id', 'dog_id', 'dog_id', 'dog_id', 'dog_id', 'dog_id', 'dog_id', 'dog_id', 'dog_id', 'dog_id', 'dog_id', 'dog_id', 'dog_id', 'dog_id', 'dog_id', 'dog_id', 'dog_id', 'dog_id', 'dog_id', 'dog_id', 'dog_id']\n",
            "actual: ['inner', 'hash', 'join', 'course', '.', 'dept_code', ':', ':', 'text', 'department', '.', 'dept_code', ':', ':', 'text', 'seq', 'scan', 'course', 'hash', 'seq', 'scan', 'table', 'scan', 'department', '.', 'dept_name', '<eos>']\n",
            "Accuracy: 0.0\n",
            "prediction: ['music_festival', 'music_festival', 'music_festival', 'people', 'music_festival', 'people', 'student_course_enrolment', 'branch_id', 'music_festival', 'music_festival', 'music_festival', 'people', 'setop', 'region_id', 'employee_id', 'employee_id', 'employee_id', 'clubid', 'employee_id', 'clubid', 'degree_summary_name', 'breed_code', 'employee_id', 'employee_id', 'clubid', 'clubid', 'degree_summary_name', 'breed_code', 'game_id', 'transactions', 'faculty_participates_in', 'faculty_participates_in', 'faculty_participates_in', 'employee_id', 'document_description', 'apartments', 'apartments', 't1', 'weekly_weather', 'weekly_weather', 'music_festival', 'music_festival', 'music_festival', 'music_festival', 'music_festival', 'people', 'music_festival', 'people', 'color', 'order_id', 'color', 'years_working', 'browser', 'clubid', 'clubid', 'degree_summary_name', 'faculty_participates_in', 'faculty_participates_in', 'employee_id', 'employee_id', 'clubid', 'document_description', 'apartments', 'apartments', 'grapes', 'capacity', 'capacity', 'capacity', 'seq', 'seq', 'seq', 'festival_detail', 'seq', 'faculty_participates_in', 'faculty_participates_in', 'weekly_weather', 'weekly_weather', 'weekly_weather', 'weekly_weather', 'weekly_weather', 'seq', 'seq', 'seq', 'weekly_weather', 'weekly_weather', 'weekly_weather', 'seq', 'seq', 'seq', 'products_for_hire', 'seq', 'products_for_hire']\n",
            "actual: ['inner', 'hash', 'join', 'news_report', '.', 'event_id', 'event', '.', 'event_id', 'seq', 'scan', 'news_report', 'hash', 'seq', 'scan', 'event', '<eos>']\n",
            "Accuracy: 0.0\n",
            "prediction: ['music_festival', 'music_festival', 'music_festival', 'music_festival', 'people', 'music_festival', 'people', 'music_festival', 'people', 'airlines', 'music_festival', 'people', 'music_festival', 'people', 'airlines', 'music_festival', 'people', 'airlines', 'music_festival', 'music_festival', 'people', 'airlines', 'music_festival', 'music_festival', 'people', 'mountain', 'setop', 'setop', 'employee_id', 'employee_id', 'employee_id', 'festival_detail', 'festival_detail', 'part_fault_id', 'festival_detail', 'laptimes', 'laptimes', 'laptimes', 'grade', 'grade', 'setop', 'grade', 'music_festival', 'music_festival', 'mountain', 'setop', 'master_customer_id', 'mountain', 'document_description', 'master_customer_id', 'mountain', 'master_customer_id', 'museum', 'years_working', 'mountain', 'document_description', 'master_customer_id', 'master_customer_id', 'years_working', 'transactions', 'college', 'seq', 'seq', 'seq', 'products_for_hire', 'seq', 'products_for_hire', 'seq', 'products_for_hire', 'seq', 'products_for_hire', 'seq', 'products_for_hire', 'seq', 'seq', 'products_for_hire', 'seq', 'products_for_hire', 'seq', 'products_for_hire', 'seq', 'products_for_hire', 'seq', 'seq', 'products_for_hire', 'festival_detail', 'seq', 'years_working', 'years_working', 'years_working', 'materialize', 'materialize']\n",
            "actual: ['seq', 'scan', 'table', 'scan', 'country', '.', 'name', '<eos>']\n",
            "Accuracy: 0.0\n",
            "prediction: ['music_festival', 'music_festival', 'music_festival', 'music_festival', 'people', 'music_festival', 'people', 'music_festival', 'people', 'airlines', 'music_festival', 'people', 'airlines', 'music_festival', 'music_festival', 'people', 'airlines', 'music_festival', 'music_festival', 'people', 'airlines', 'music_festival', 'music_festival', 'people', 'airlines', 'music_festival', 'music_festival', 'people', 'airlines', 'music_festival', 'music_festival', 'people', 'airlines', 'music_festival', 'music_festival', 'people', 'airlines', 'music_festival', 'music_festival', 'people', 'airlines', 'music_festival', 'music_festival', 'people', 'airlines', 'music_festival', 'music_festival', 'people', 'airlines', 'music_festival', 'music_festival', 'people', 'mountain', 'setop', 'setop', 'part_fault_id', 'setop', 'employee_id', 'employee_id', 'festival_detail', 'festival_detail', 'part_fault_id', 'setop', 'festival_detail', 'setop', 'festival_detail', 'college', 'years_working', 'apartments', 'mountain', 'mountain', 'document_description', 'master_customer_id', 'mountain', 'part_fault_id', 'master_customer_id', 'years_working', 'years_working', 'transactions', 'grade', 'grade', 'music_festival', 'music_festival', 'music_festival', 'people', 'college', 'clubid', 'clubid', 'degree_summary_name', 'customer_orders', 'clubid', 'clubid']\n",
            "actual: ['aggregate', 'seq', 'scan', 'event', '<eos>']\n",
            "Accuracy: 0.0\n",
            "prediction: ['music_festival', 'music_festival', 'music_festival', 'music_festival', 'people', 'music_festival', 'people', 'music_festival', 'people', 'people', 'browser', 'airlines', 'airlines', 'music_festival', 'people', 'mountain', 'setop', 'part_fault_id', 'setop', 'part_fault_id', 'setop', 'festival_detail', 'setop', 'employee_id', 'festival_detail', 'part_fault_id', 'festival_detail', 'setop', 'festival_detail', 'setop', 'festival_detail', 'college', 'years_working', 'apartments', 'mountain', 'mountain', 'document_description', 'problem_log', 'problem_log', 'problem_log', 'problem_log', 'problem_log', 'problem_log', 'clubid', 'problem_log', 'clubid', 'breed_code', 'music_festival', 'music_festival', 'music_festival', 'music_festival', 'people', 'music_festival', 'people', 'music_festival', 'people', 'teachers', 'teachers', 'teachers', 'teachers', 'teachers', 'winery', 'materialize', 'materialize', 'materialize', 'materialize', 'materialize', 'materialize', 'materialize', 'materialize', 'materialize', 'master_customer_id', 'festival_detail', 'materialize', 'materialize', 'materialize', 'festival_detail', 'materialize', 'materialize', 'master_customer_id', 'festival_detail', 'materialize', 'materialize', 'materialize', 'master_customer_id', 'festival_detail', 'materialize', 'materialize', 'materialize', 'master_customer_id', 'festival_detail', 'materialize']\n",
            "actual: ['limit', 'sort', 'seq', 'scan', 'manager', '<eos>']\n",
            "Accuracy: 0.0\n",
            "prediction: ['music_festival', 'music_festival', 'music_festival', 'music_festival', 'people', 'music_festival', 'people', 'music_festival', 'people', 'airlines', 'music_festival', 'people', 'airlines', 'music_festival', 'music_festival', 'people', 'airlines', 'music_festival', 'music_festival', 'people', 'airlines', 'music_festival', 'music_festival', 'people', 'airlines', 'music_festival', 'music_festival', 'people', 'airlines', 'music_festival', 'music_festival', 'people', 'mountain', 'setop', 'setop', 'part_fault_id', 'setop', 'employee_id', 'festival_detail', 'employee_id', 'festival_detail', 'part_fault_id', 'festival_detail', 'laptimes', 'laptimes', 'laptimes', 'grade', 'grade', 'setop', 'grade', 'music_festival', 'music_festival', 'mountain', 'setop', 'master_customer_id', 'mountain', 'document_description', 'master_customer_id', 'master_customer_id', 'mountain', 'museum', 'part_fault_id', 'master_customer_id', 'years_working', 'transactions', 'years_working', 'materialize', 'materialize', 'materialize', 'materialize', 'master_customer_id', 'materialize', 'materialize', 'master_customer_id', 'festival_detail', 'materialize', 'materialize', 'master_customer_id', 'festival_detail', 'materialize', 'materialize', 'master_customer_id', 'festival_detail', 'materialize', 'materialize', 'master_customer_id', 'festival_detail', 'materialize', 'materialize', 'master_customer_id', 'festival_detail', 'materialize']\n",
            "actual: ['aggregate', 'seq', 'scan', 'market', '<eos>']\n",
            "Accuracy: 0.0\n",
            "prediction: ['music_festival', 'music_festival', 'music_festival', 'music_festival', 'people', 'music_festival', 'people', 'music_festival', 'people', 'airlines', 'music_festival', 'people', 'airlines', 'music_festival', 'music_festival', 'people', 'airlines', 'music_festival', 'music_festival', 'people', 'airlines', 'music_festival', 'music_festival', 'people', 'airlines', 'music_festival', 'music_festival', 'people', 'airlines', 'music_festival', 'music_festival', 'people', 'airlines', 'music_festival', 'music_festival', 'people', 'airlines', 'music_festival', 'music_festival', 'people', 'airlines', 'music_festival', 'music_festival', 'people', 'airlines', 'music_festival', 'music_festival', 'people', 'airlines', 'music_festival', 'music_festival', 'people', 'airlines', 'music_festival', 'music_festival', 'people', 'airlines', 'music_festival', 'music_festival', 'people', 'airlines', 'music_festival', 'music_festival', 'people', 'airlines', 'music_festival', 'music_festival', 'people', 'airlines', 'music_festival', 'music_festival', 'people', 'airlines', 'music_festival', 'music_festival', 'people', 'airlines', 'music_festival', 'music_festival', 'people', 'airlines', 'music_festival', 'music_festival', 'people', 'airlines', 'music_festival', 'music_festival', 'people', 'airlines', 'music_festival', 'music_festival', 'people']\n",
            "actual: ['aggregate', 'seq', 'scan', 'drivers', '<eos>']\n",
            "Accuracy: 0.0\n",
            "prediction: ['music_festival', 'music_festival', 'music_festival', 'music_festival', 'people', 'music_festival', 'people', 'music_festival', 'people', 'people', 'browser', 'airlines', 'airlines', 'clubid', 'music_festival', 'music_festival', 'people', 'mountain', 'setop', 'part_fault_id', 'setop', 'employee_id', 'festival_detail', 'part_fault_id', 'setop', 'festival_detail', 'setop', 'festival_detail', 'college', 'years_working', 'apartments', 'mountain', 'mountain', 'document_description', 'master_customer_id', 'mountain', 'document_description', 'master_customer_id', 'master_customer_id', 'years_working', 'mountain', 'master_customer_id', 'part_fault_id', 'master_customer_id', 'years_working', 'transactions', 'college', 'years_working', 'materialize', 'materialize', 'materialize', 'materialize', 'materialize', 'master_customer_id', 'materialize', 'materialize', 'master_customer_id', 'people', 'festival_detail', 'materialize', 'materialize', 'master_customer_id', 'festival_detail', 'materialize', 'materialize', 'materialize', 'master_customer_id', 'festival_detail', 'materialize', 'materialize', 'master_customer_id', 'festival_detail', 'materialize', 'materialize', 'master_customer_id', 'festival_detail', 'materialize', 'materialize', 'materialize', 'master_customer_id', 'festival_detail', 'materialize', 'materialize', 'master_customer_id', 'festival_detail', 'materialize', 'materialize', 'master_customer_id', 'festival_detail', 'materialize', 'materialize', 'materialize']\n",
            "actual: ['aggregate', 'seq', 'scan', 'branch', '<eos>']\n",
            "Accuracy: 0.0\n",
            "prediction: ['music_festival', 'music_festival', 'music_festival', 'music_festival', 'people', 'music_festival', 'people', 'music_festival', 'people', 'airlines', 'music_festival', 'people', 'airlines', 'music_festival', 'music_festival', 'people', 'airlines', 'music_festival', 'music_festival', 'people', 'airlines', 'music_festival', 'music_festival', 'people', 'airlines', 'music_festival', 'music_festival', 'people', 'airlines', 'music_festival', 'music_festival', 'people', 'airlines', 'music_festival', 'music_festival', 'people', 'airlines', 'music_festival', 'music_festival', 'people', 'airlines', 'music_festival', 'music_festival', 'people', 'airlines', 'music_festival', 'music_festival', 'people', 'airlines', 'music_festival', 'music_festival', 'people', 'airlines', 'music_festival', 'music_festival', 'people', 'airlines', 'music_festival', 'music_festival', 'people', 'airlines', 'music_festival', 'music_festival', 'people', 'airlines', 'music_festival', 'music_festival', 'people', 'airlines', 'music_festival', 'music_festival', 'people', 'airlines', 'music_festival', 'music_festival', 'people', 'airlines', 'music_festival', 'music_festival', 'people', 'airlines', 'music_festival', 'music_festival', 'people', 'airlines', 'music_festival', 'music_festival', 'people', 'airlines', 'music_festival', 'music_festival', 'people']\n",
            "actual: ['seq', 'scan', 'table', 'scan', 'elimination', '.', 'eliminated_by', '<eos>']\n",
            "Accuracy: 0.0\n",
            "prediction: ['music_festival', 'music_festival', 'music_festival', 'people', 'music_festival', 'people', 'branch_id', 'music_festival', 'people', 'student_course_enrolment', 'branch_id', 'degree_summary_name', 'degree_summary_name', 'employee_id', 'employee_id', 'employee_id', 'clubid', 'degree_summary_name', 'breed_code', 'professionals', 'transactions', 'employee_id', 'employee_id', 'clubid', 'clubid', 'degree_summary_name', 'breed_code', 'breed_code', 'clubid', 'clubid', 'degree_summary_name', 'breed_code', 'breed_code', 'professionals', 'transactions', 'transactions', 'competition', 'book_club', 'apartments', 'apartments', 'game_id', 'transactions', 'college', 'competition', 'apartments', 'apartments', 'apartments', 'customer_orders', 'transactions', 'competition', 'apartments', 'apartments', 'music_festival', 'music_festival', 'music_festival', 'music_festival', 'music_festival', 'city', 'music_festival', 'music_festival', 'setop', 'setop', 'employee_id', 'employee_id', 'employee_id', 'employee_id', 'festival_detail', 'employee_id', 'festival_detail', 'part_fault_id', 'part_fault_id', 'festival_detail', 'laptimes', 'laptimes', 'laptimes', 'bitmap', 'editor_id', 'editor_id', 'elimination', 'apartments', 'mountain', 'has_pet', 'master_customer_id', 'mountain', 'master_customer_id', 'museum', 'years_working', 'furniture_manufacte', 'materialize', 'materialize', 'materialize', 'master_customer_id']\n",
            "actual: ['limit', 'sort', 'inner', 'hash', 'join', 'prescribes', '.', 'physician', 'physician', '.', 'employeeid', 'seq', 'scan', 'prescribes', 'hash', 'seq', 'scan', 'physician', '<eos>']\n",
            "Accuracy: 0.0\n",
            "prediction: ['music_festival', 'music_festival', 'music_festival', 'music_festival', 'people', 'music_festival', 'people', 'music_festival', 'people', 'airlines', 'music_festival', 'people', 'music_festival', 'people', 'airlines', 'music_festival', 'people', 'airlines', 'music_festival', 'music_festival', 'people', 'airlines', 'music_festival', 'music_festival', 'people', 'airlines', 'music_festival', 'music_festival', 'people', 'mountain', 'setop', 'setop', 'part_fault_id', 'setop', 'employee_id', 'employee_id', 'festival_detail', 'festival_detail', 'part_fault_id', 'setop', 'festival_detail', 'part_fault_id', 'setop', 'festival_detail', 'setop', 'festival_detail', 'college', 'years_working', 'apartments', 'mountain', 'mountain', 'document_description', 'master_customer_id', 'mountain', 'part_fault_id', 'master_customer_id', 'years_working', 'music_festival', 'music_festival', 'document_description', 'master_customer_id', 'music_festival', 'people', 'master_customer_id', 'years_working', 'transactions', 'college', 'years_working', 'materialize', 'materialize', 'materialize', 'materialize', 'materialize', 'materialize', 'master_customer_id', 'materialize', 'materialize', 'master_customer_id', 'festival_detail', 'materialize', 'materialize', 'materialize', 'master_customer_id', 'festival_detail', 'materialize', 'materialize', 'materialize', 'master_customer_id', 'festival_detail', 'materialize', 'materialize', 'master_customer_id']\n",
            "actual: ['seq', 'scan', 'student', '<eos>']\n",
            "Accuracy: 0.0\n",
            "Total accuracy: 0.0004\n"
          ]
        }
      ]
    },
    {
      "cell_type": "markdown",
      "source": [
        "####2nd experiment"
      ],
      "metadata": {
        "id": "8vrKnz60gab6"
      }
    },
    {
      "cell_type": "code",
      "execution_count": null,
      "metadata": {
        "id": "8swcMwP0QFr9"
      },
      "outputs": [],
      "source": [
        "raw_input_encoder = EmbeddingsModel()\n",
        "raw_input_encoder.model = Word2Vec.load('/content/gdrive/MyDrive/UNIPI/ml-query-optimization/data/embedding_models/raw_input_encoder')\n",
        "raw_output_encoder = EmbeddingsModel()\n",
        "raw_output_encoder.model = Word2Vec.load('/content/gdrive/MyDrive/UNIPI/ml-query-optimization/data/embedding_models/raw_output_encoder')"
      ]
    },
    {
      "cell_type": "code",
      "execution_count": null,
      "metadata": {
        "colab": {
          "base_uri": "https://localhost:8080/"
        },
        "id": "EX6vM8xAZzdD",
        "outputId": "ff1a97b2-e726-4b79-de74-b66a4c98b8e0"
      },
      "outputs": [
        {
          "output_type": "stream",
          "name": "stdout",
          "text": [
            "X shape: (5595,), y shape: (5595,)\n",
            "X_train shape: (5539,), y_train shape: (5539,), X_test shape: (56,), y_test shape: (56,)\n",
            "Found 1153 unique tokens.\n",
            "Found 1388 unique tokens.\n"
          ]
        }
      ],
      "source": [
        "X = raw_input_training_corpus\n",
        "y = raw_output_training_corpus\n",
        "\n",
        "print(f\"X shape: {X.shape}, y shape: {y.shape}\")\n",
        "\n",
        "X_train, X_test, y_train, y_test = train_test_split(X, y, test_size=0.01, random_state=42)\n",
        "\n",
        "print(f\"X_train shape: {X_train.shape}, y_train shape: {y_train.shape}, X_test shape: {X_test.shape}, y_test shape: {y_test.shape}\")\n",
        "\n",
        "# X = raw_input_training_texts['input_queries'].values\n",
        "# y = raw_output_training_texts['output_queries'].values\n",
        "\n",
        "# tokenize input\n",
        "x_max_length, X_pad = pad_tokenizer(X_train, raw_input_encoder.model.wv.key_to_index)\n",
        "\n",
        "# tokenize output\n",
        "y_max_length, y_pad = pad_tokenizer(y_train, raw_output_encoder.model.wv.key_to_index)\n",
        "\n",
        "X_train_pad, X_test_pad, y_train_pad, y_test_pad = train_test_split(X_pad, y_pad, test_size=0.2, random_state=42)"
      ]
    },
    {
      "cell_type": "code",
      "source": [
        "WAIT = 0\n",
        "BEST = np.Inf\n",
        "ENCODER_BEST_WEIGHTS = None\n",
        "DECODER_BEST_WEIGHTS = None\n",
        "BEST_EPOCH = 0\n",
        "STOPPED_EPOCH = 0"
      ],
      "metadata": {
        "id": "QSGQ4dOF5HVk"
      },
      "execution_count": null,
      "outputs": []
    },
    {
      "cell_type": "code",
      "execution_count": null,
      "metadata": {
        "colab": {
          "base_uri": "https://localhost:8080/",
          "height": 530
        },
        "id": "L4gUwFqOQ0EV",
        "outputId": "20fd95b2-ce45-4537-b528-fca6380d6148"
      },
      "outputs": [
        {
          "output_type": "stream",
          "name": "stdout",
          "text": [
            "Epochs: 1 batch 0/276 | batch_accuracy: 0.0000 | batch_loss: 7.2301\n",
            "Epochs: 1 batch 50/276 | batch_accuracy: 0.9269 | batch_loss: 0.5631\n",
            "Epochs: 1 batch 100/276 | batch_accuracy: 0.9063 | batch_loss: 0.7036\n",
            "Epochs: 1 batch 150/276 | batch_accuracy: 0.9031 | batch_loss: 0.7212\n",
            "Epochs: 1 batch 200/276 | batch_accuracy: 0.9162 | batch_loss: 0.6337\n",
            "Epochs: 1 batch 250/276 | batch_accuracy: 0.8848 | batch_loss: 0.8422\n",
            "Epoch: 1 | Training accuracy over epoch: 0.9063 | Training loss over epoch: 0.7316\n",
            "Epoch: 1 | Validation acc: 0.9091 | Validation loss: 0.6829\n",
            "Time taken: 23718.94s\n",
            "Early stopping activated! Restoring model weights from the end of the (best) epoch: 13.\n"
          ]
        },
        {
          "output_type": "error",
          "ename": "ValueError",
          "evalue": "ignored",
          "traceback": [
            "\u001b[0;31m---------------------------------------------------------------------------\u001b[0m",
            "\u001b[0;31mValueError\u001b[0m                                Traceback (most recent call last)",
            "\u001b[0;32m<ipython-input-40-7e30b9853c46>\u001b[0m in \u001b[0;36m<module>\u001b[0;34m()\u001b[0m\n\u001b[1;32m     87\u001b[0m       \u001b[0mdecoder\u001b[0m\u001b[0;34m.\u001b[0m\u001b[0mstop_training\u001b[0m \u001b[0;34m=\u001b[0m \u001b[0;32mTrue\u001b[0m\u001b[0;34m\u001b[0m\u001b[0;34m\u001b[0m\u001b[0m\n\u001b[1;32m     88\u001b[0m       \u001b[0mprint\u001b[0m\u001b[0;34m(\u001b[0m\u001b[0;34mf\"Early stopping activated! Restoring model weights from the end of the (best) epoch: {BEST_EPOCH}.\"\u001b[0m\u001b[0;34m)\u001b[0m\u001b[0;34m\u001b[0m\u001b[0;34m\u001b[0m\u001b[0m\n\u001b[0;32m---> 89\u001b[0;31m       \u001b[0mencoder\u001b[0m\u001b[0;34m.\u001b[0m\u001b[0mset_weights\u001b[0m\u001b[0;34m(\u001b[0m\u001b[0mENCODER_BEST_WEIGHTS\u001b[0m\u001b[0;34m)\u001b[0m\u001b[0;34m\u001b[0m\u001b[0;34m\u001b[0m\u001b[0m\n\u001b[0m\u001b[1;32m     90\u001b[0m       \u001b[0mdecoder\u001b[0m\u001b[0;34m.\u001b[0m\u001b[0mset_weights\u001b[0m\u001b[0;34m(\u001b[0m\u001b[0mDECODER_BEST_WEIGHTS\u001b[0m\u001b[0;34m)\u001b[0m\u001b[0;34m\u001b[0m\u001b[0;34m\u001b[0m\u001b[0m\n\u001b[1;32m     91\u001b[0m       \u001b[0mcheckpoint\u001b[0m\u001b[0;34m.\u001b[0m\u001b[0msave\u001b[0m\u001b[0;34m(\u001b[0m\u001b[0mfile_prefix\u001b[0m \u001b[0;34m=\u001b[0m \u001b[0mcheckpoint_dir\u001b[0m\u001b[0;34m)\u001b[0m\u001b[0;34m\u001b[0m\u001b[0;34m\u001b[0m\u001b[0m\n",
            "\u001b[0;32m/usr/local/lib/python3.7/dist-packages/keras/engine/base_layer.py\u001b[0m in \u001b[0;36mset_weights\u001b[0;34m(self, weights)\u001b[0m\n\u001b[1;32m   1863\u001b[0m         \u001b[0;32mif\u001b[0m \u001b[0;32mnot\u001b[0m \u001b[0mref_shape\u001b[0m\u001b[0;34m.\u001b[0m\u001b[0mis_compatible_with\u001b[0m\u001b[0;34m(\u001b[0m\u001b[0mweight_shape\u001b[0m\u001b[0;34m)\u001b[0m\u001b[0;34m:\u001b[0m\u001b[0;34m\u001b[0m\u001b[0;34m\u001b[0m\u001b[0m\n\u001b[1;32m   1864\u001b[0m           raise ValueError(\n\u001b[0;32m-> 1865\u001b[0;31m               \u001b[0;34mf'Layer {self.name} weight shape {ref_shape} '\u001b[0m\u001b[0;34m\u001b[0m\u001b[0;34m\u001b[0m\u001b[0m\n\u001b[0m\u001b[1;32m   1866\u001b[0m               \u001b[0;34m'is not compatible with provided weight '\u001b[0m\u001b[0;34m\u001b[0m\u001b[0;34m\u001b[0m\u001b[0m\n\u001b[1;32m   1867\u001b[0m               f'shape {weight_shape}.')\n",
            "\u001b[0;31mValueError\u001b[0m: Layer encoder_4 weight shape (1153, 300) is not compatible with provided weight shape (561, 300)."
          ]
        }
      ],
      "source": [
        "input_tensor = tf.convert_to_tensor(X_train_pad)\n",
        "output_tensor = tf.convert_to_tensor(y_train_pad)\n",
        "\n",
        "buffer_size = len(input_tensor)\n",
        "dataset = tf.data.Dataset.from_tensor_slices((input_tensor, output_tensor)).shuffle(buffer_size)\n",
        "dataset = dataset.batch(BATCH_SIZE)\n",
        "steps_per_epoch = len(input_tensor) // BATCH_SIZE\n",
        "\n",
        "input_tensor_val = tf.convert_to_tensor(X_test_pad)\n",
        "output_tensor_val = tf.convert_to_tensor(y_test_pad)\n",
        "\n",
        "buffer_size_val = len(input_tensor_val)\n",
        "dataset_val = tf.data.Dataset.from_tensor_slices((input_tensor_val, output_tensor_val)).shuffle(buffer_size_val)\n",
        "dataset_val = dataset_val.batch(BATCH_SIZE)\n",
        "steps_per_epoch_val = len(input_tensor_val) // BATCH_SIZE\n",
        "\n",
        "#hidden = tf.zeros((16, 256))\n",
        "encoder = Encoder(len(raw_input_encoder.model.wv.key_to_index) + 1, get_embedding_matrix(raw_input_encoder.model.wv.key_to_index, raw_input_encoder.model.wv), x_max_length)\n",
        "decoder = Decoder(len(raw_output_encoder.model.wv.key_to_index) + 1, get_embedding_matrix(raw_output_encoder.model.wv.key_to_index, raw_output_encoder.model.wv), y_max_length, 'concat')\n",
        "\n",
        "train_losses = []\n",
        "train_accuracies = []\n",
        "val_losses = []\n",
        "val_accuracies = []\n",
        "\n",
        "optimizer = Adam(0.005)\n",
        "checkpoint_dir = '/content/gdrive/MyDrive/UNIPI/ml-query-optimization/data/weights/raw-chkp'\n",
        "checkpoint = tf.train.Checkpoint(optimizer=optimizer, encoder=encoder, decoder=decoder)\n",
        "\n",
        "for e in range(1, EPOCHS):\n",
        "  start_time = time.time()\n",
        "  total_loss = 0.0\n",
        "  total_accuracy = 0.0\n",
        "  enc_hidden = encoder.init_hidden(BATCH_SIZE)\n",
        "\n",
        "  for idx, (input_tensor, target_tensor) in enumerate(dataset.take(steps_per_epoch)):\n",
        "      # print(\"idx: {0}, input_tensor shape: {1}, target_tensor shape: {2}\".format(idx, input_tensor.shape,\n",
        "      #                                                                            output_tensor.shape))\n",
        "      batch_loss, batch_accuracy = train_step(input_tensor, target_tensor, enc_hidden, encoder, decoder, optimizer)\n",
        "      total_loss += batch_loss\n",
        "      total_accuracy += batch_accuracy\n",
        "\n",
        "      if idx % LOG_EVERY == 0:\n",
        "          print(\"Epochs: {} batch {}/{} | batch_accuracy: {:.4f} | batch_loss: {:.4f}\".format(e, idx, steps_per_epoch, batch_accuracy, batch_loss))\n",
        "\n",
        "  train_acc = total_accuracy / steps_per_epoch\n",
        "  train_accuracies.append(train_acc)\n",
        "  train_loss = total_loss / steps_per_epoch\n",
        "  train_losses.append(train_loss)\n",
        "  checkpoint.save(file_prefix = checkpoint_dir)\n",
        "  print(\"Epoch: {} | Training accuracy over epoch: {:.4f} | Training loss over epoch: {:.4f}\".format(e, float(train_acc), float(train_loss)))\n",
        "\n",
        "  total_loss = 0.0\n",
        "  total_accuracy = 0.0\n",
        "  for idx, (input_tensor_val, target_tensor_val) in enumerate(dataset_val.take(steps_per_epoch_val)):\n",
        "    batch_loss, batch_accuracy = test_step(input_tensor_val, target_tensor_val, enc_hidden, encoder, decoder)\n",
        "    total_loss += batch_loss\n",
        "    total_accuracy += batch_accuracy\n",
        "\n",
        "  val_acc = total_accuracy / steps_per_epoch_val\n",
        "  val_accuracies.append(val_acc)\n",
        "  val_loss = total_loss / steps_per_epoch_val\n",
        "  val_losses.append(val_loss)\n",
        "  print(\"Epoch: {} | Validation acc: {:.4f} | Validation loss: {:.4f}\".format(e, float(val_acc), float(val_loss)))\n",
        "  print(\"Time taken: %.2fs\" % (time.time() - start_time))\n",
        "\n",
        "  # if e % 2 == 0:\n",
        "      # print(\"Epochs: {}/{} | total_loss: {:.4f} | total_accuracy: {:.4f}\".format(\n",
        "      #     e, EPOCHS, total_loss / steps_per_epoch, total_accuracy / steps_per_epoch))\n",
        "  #    print(\"Epochs: {}/{} | total_loss: {:.4f}\".format(e, EPOCHS, total_loss / steps_per_epoch))\n",
        "  \n",
        "  # The early stopping strategy: stop the training if `val_loss` does not\n",
        "  # decrease over a certain number of epochs.\n",
        "  \n",
        "  if np.less(val_loss, BEST):\n",
        "    BEST = val_loss\n",
        "    WAIT = 0\n",
        "    BEST_EPOCH = e\n",
        "    # Record the best weights if current results is better (less).\n",
        "    ENCODER_BEST_WEIGHTS = encoder.get_weights()\n",
        "    DECODER_BEST_WEIGHTS = decoder.get_weights()\n",
        "  else:\n",
        "    WAIT += 1\n",
        "    if WAIT >= PATIENCE:\n",
        "      STOPPED_EPOCH = e\n",
        "      encoder.stop_training = True\n",
        "      decoder.stop_training = True\n",
        "      print(f\"Early stopping activated! Restoring model weights from the end of the (best) epoch: {BEST_EPOCH}.\")\n",
        "      encoder.set_weights(ENCODER_BEST_WEIGHTS)\n",
        "      decoder.set_weights(DECODER_BEST_WEIGHTS)\n",
        "      checkpoint.save(file_prefix = checkpoint_dir)\n",
        "      break\n",
        "\n",
        "with open(\"/content/gdrive/MyDrive/UNIPI/ml-query-optimization/data/weights/raw_results.pkl\", \"wb\") as f:\n",
        "  results = {\n",
        "    'train_losses': train_losses, \n",
        "    'train_accuracies': train_accuracies, \n",
        "    'val_losses': val_losses, \n",
        "    'val_accuracies': val_accuracies \n",
        "  }\n",
        "  pickle.dump(results, f)\n"
      ]
    },
    {
      "cell_type": "markdown",
      "source": [
        "####3rd Experiment"
      ],
      "metadata": {
        "id": "zpzseDz_5dFP"
      }
    },
    {
      "cell_type": "code",
      "source": [
        "input_operators_impl_encoder = EmbeddingsModel()\n",
        "input_operators_impl_encoder.model = Word2Vec.load('/content/gdrive/MyDrive/UNIPI/ml-query-optimization/data/embedding_models/operators_impl_input_encoder')\n",
        "output_operators_impl_encoder = EmbeddingsModel()\n",
        "output_operators_impl_encoder.model = Word2Vec.load('/content/gdrive/MyDrive/UNIPI/ml-query-optimization/data/embedding_models/operators_impl_output_encoder')"
      ],
      "metadata": {
        "id": "NdiI0XCH5gWB"
      },
      "execution_count": null,
      "outputs": []
    },
    {
      "cell_type": "code",
      "source": [
        "X = input_operators_impl_training_corpus\n",
        "y = output_operators_impl_training_corpus\n",
        "\n",
        "print(f\"X shape: {X.shape}, y shape: {y.shape}\")\n",
        "\n",
        "X_train, X_test, y_train, y_test = train_test_split(X, y, test_size=0.01, random_state=42)\n",
        "\n",
        "print(f\"X_train shape: {X_train.shape}, y_train shape: {y_train.shape}, X_test shape: {X_test.shape}, y_test shape: {y_test.shape}\")\n",
        "\n",
        "# X = raw_input_training_texts['input_queries'].values\n",
        "# y = raw_output_training_texts['output_queries'].values\n",
        "\n",
        "# tokenize input\n",
        "x_max_length, X_pad = pad_tokenizer(X_train, input_operators_impl_encoder.model.wv.key_to_index)\n",
        "\n",
        "# tokenize output\n",
        "y_max_length, y_pad = pad_tokenizer(y_train, output_operators_impl_encoder.model.wv.key_to_index)\n",
        "\n",
        "X_train_pad, X_test_pad, y_train_pad, y_test_pad = train_test_split(X_pad, y_pad, test_size=0.2, random_state=42)"
      ],
      "metadata": {
        "colab": {
          "base_uri": "https://localhost:8080/"
        },
        "id": "QpzHAkHs8WOu",
        "outputId": "712fa351-cdbe-4e9d-cc1c-52794ddc0703"
      },
      "execution_count": null,
      "outputs": [
        {
          "output_type": "stream",
          "name": "stdout",
          "text": [
            "X shape: (5328,), y shape: (5328,)\n",
            "X_train shape: (5274,), y_train shape: (5274,), X_test shape: (54,), y_test shape: (54,)\n",
            "Found 517 unique tokens.\n",
            "Found 9 unique tokens.\n"
          ]
        }
      ]
    },
    {
      "cell_type": "markdown",
      "source": [
        "#####Training"
      ],
      "metadata": {
        "id": "N1VDAKUt-97N"
      }
    },
    {
      "cell_type": "code",
      "source": [
        "WAIT = 0\n",
        "BEST = np.Inf\n",
        "ENCODER_BEST_WEIGHTS = None\n",
        "DECODER_BEST_WEIGHTS = None\n",
        "BEST_EPOCH = 0\n",
        "STOPPED_EPOCH = 0"
      ],
      "metadata": {
        "id": "QZEQcNdh-IlD"
      },
      "execution_count": null,
      "outputs": []
    },
    {
      "cell_type": "code",
      "source": [
        "input_tensor = tf.convert_to_tensor(X_train_pad)\n",
        "output_tensor = tf.convert_to_tensor(y_train_pad)\n",
        "\n",
        "buffer_size = len(input_tensor)\n",
        "dataset = tf.data.Dataset.from_tensor_slices((input_tensor, output_tensor)).shuffle(buffer_size)\n",
        "dataset = dataset.batch(BATCH_SIZE)\n",
        "steps_per_epoch = len(input_tensor) // BATCH_SIZE\n",
        "\n",
        "input_tensor_val = tf.convert_to_tensor(X_test_pad)\n",
        "output_tensor_val = tf.convert_to_tensor(y_test_pad)\n",
        "\n",
        "buffer_size_val = len(input_tensor_val)\n",
        "dataset_val = tf.data.Dataset.from_tensor_slices((input_tensor_val, output_tensor_val)).shuffle(buffer_size_val)\n",
        "dataset_val = dataset_val.batch(BATCH_SIZE)\n",
        "steps_per_epoch_val = len(input_tensor_val) // BATCH_SIZE\n",
        "\n",
        "#hidden = tf.zeros((16, 256))\n",
        "encoder = Encoder(len(input_operators_impl_encoder.model.wv.key_to_index) + 1, get_embedding_matrix(input_operators_impl_encoder.model.wv.key_to_index, input_operators_impl_encoder.model.wv), x_max_length)\n",
        "decoder = Decoder(len(output_operators_impl_encoder.model.wv.key_to_index) + 1, get_embedding_matrix(output_operators_impl_encoder.model.wv.key_to_index, output_operators_impl_encoder.model.wv), y_max_length, 'concat')\n",
        "\n",
        "train_losses = []\n",
        "train_accuracies = []\n",
        "val_losses = []\n",
        "val_accuracies = []\n",
        "\n",
        "optimizer = Adam(0.005)\n",
        "checkpoint_dir = '/content/gdrive/MyDrive/UNIPI/ml-query-optimization/data/weights/operators-impl-chkp'\n",
        "checkpoint = tf.train.Checkpoint(optimizer=optimizer, encoder=encoder, decoder=decoder)\n",
        "\n",
        "for e in range(1, EPOCHS):\n",
        "  start_time = time.time()\n",
        "  total_loss = 0.0\n",
        "  total_accuracy = 0.0\n",
        "  enc_hidden = encoder.init_hidden(BATCH_SIZE)\n",
        "\n",
        "  for idx, (input_tensor, target_tensor) in enumerate(dataset.take(steps_per_epoch)):\n",
        "      # print(\"idx: {0}, input_tensor shape: {1}, target_tensor shape: {2}\".format(idx, input_tensor.shape,\n",
        "      #                                                                            output_tensor.shape))\n",
        "      batch_loss, batch_accuracy = train_step(input_tensor, target_tensor, enc_hidden, encoder, decoder, optimizer)\n",
        "      total_loss += batch_loss\n",
        "      total_accuracy += batch_accuracy\n",
        "\n",
        "      if idx % LOG_EVERY == 0:\n",
        "          print(\"Epochs: {} batch {}/{} | batch_accuracy: {:.4f} | batch_loss: {:.4f}\".format(e, idx, steps_per_epoch, batch_accuracy, batch_loss))\n",
        "\n",
        "  train_acc = total_accuracy / steps_per_epoch\n",
        "  train_accuracies.append(train_acc)\n",
        "  train_loss = total_loss / steps_per_epoch\n",
        "  train_losses.append(train_loss)\n",
        "  checkpoint.save(file_prefix = checkpoint_dir)\n",
        "  print(\"Epoch: {} | Training accuracy over epoch: {:.4f} | Training loss over epoch: {:.4f}\".format(e, float(train_acc), float(train_loss)))\n",
        "\n",
        "  total_loss = 0.0\n",
        "  total_accuracy = 0.0\n",
        "  for idx, (input_tensor_val, target_tensor_val) in enumerate(dataset_val.take(steps_per_epoch_val)):\n",
        "    batch_loss, batch_accuracy = test_step(input_tensor_val, target_tensor_val, enc_hidden, encoder, decoder)\n",
        "    total_loss += batch_loss\n",
        "    total_accuracy += batch_accuracy\n",
        "\n",
        "  val_acc = total_accuracy / steps_per_epoch_val\n",
        "  val_accuracies.append(val_acc)\n",
        "  val_loss = total_loss / steps_per_epoch_val\n",
        "  val_losses.append(val_loss)\n",
        "  print(\"Epoch: {} | Validation acc: {:.4f} | Validation loss: {:.4f}\".format(e, float(val_acc), float(val_loss)))\n",
        "  print(\"Time taken: %.2fs\" % (time.time() - start_time))\n",
        "\n",
        "  # if e % 2 == 0:\n",
        "      # print(\"Epochs: {}/{} | total_loss: {:.4f} | total_accuracy: {:.4f}\".format(\n",
        "      #     e, EPOCHS, total_loss / steps_per_epoch, total_accuracy / steps_per_epoch))\n",
        "  #    print(\"Epochs: {}/{} | total_loss: {:.4f}\".format(e, EPOCHS, total_loss / steps_per_epoch))\n",
        "  \n",
        "  # The early stopping strategy: stop the training if `val_loss` does not\n",
        "  # decrease over a certain number of epochs.\n",
        "  \n",
        "  if np.less(val_loss, BEST):\n",
        "    BEST = val_loss\n",
        "    WAIT = 0\n",
        "    BEST_EPOCH = e\n",
        "    # Record the best weights if current results is better (less).\n",
        "    ENCODER_BEST_WEIGHTS = encoder.get_weights()\n",
        "    DECODER_BEST_WEIGHTS = decoder.get_weights()\n",
        "  else:\n",
        "    WAIT += 1\n",
        "    if WAIT >= PATIENCE:\n",
        "      STOPPED_EPOCH = e\n",
        "      encoder.stop_training = True\n",
        "      decoder.stop_training = True\n",
        "      print(f\"Early stopping activated! Restoring model weights from the end of the (best) epoch: {BEST_EPOCH}.\")\n",
        "      encoder.set_weights(ENCODER_BEST_WEIGHTS)\n",
        "      decoder.set_weights(DECODER_BEST_WEIGHTS)\n",
        "      checkpoint.save(file_prefix = checkpoint_dir)\n",
        "      break\n",
        "\n",
        "with open(\"/content/gdrive/MyDrive/UNIPI/ml-query-optimization/data/weights/operators-impl-results.pkl\", \"wb\") as f:\n",
        "  results = {\n",
        "    'train_losses': train_losses, \n",
        "    'train_accuracies': train_accuracies, \n",
        "    'val_losses': val_losses, \n",
        "    'val_accuracies': val_accuracies \n",
        "  }\n",
        "  pickle.dump(results, f)\n"
      ],
      "metadata": {
        "colab": {
          "base_uri": "https://localhost:8080/"
        },
        "id": "HtN5P0rZ-NMk",
        "outputId": "e3b21869-b550-4b9d-8e23-c4ab0e4f8592"
      },
      "execution_count": null,
      "outputs": [
        {
          "output_type": "stream",
          "name": "stdout",
          "text": [
            "Epochs: 1 batch 0/263 | batch_accuracy: 0.7875 | batch_loss: 1.8296\n",
            "Epochs: 1 batch 50/263 | batch_accuracy: 0.8375 | batch_loss: 0.3638\n",
            "Epochs: 1 batch 100/263 | batch_accuracy: 1.0000 | batch_loss: 0.0204\n",
            "Epochs: 1 batch 150/263 | batch_accuracy: 1.0000 | batch_loss: 0.0023\n",
            "Epochs: 1 batch 200/263 | batch_accuracy: 1.0000 | batch_loss: 0.0099\n",
            "Epochs: 1 batch 250/263 | batch_accuracy: 1.0000 | batch_loss: 0.0104\n",
            "Epoch: 1 | Training accuracy over epoch: 0.9567 | Training loss over epoch: 0.1388\n",
            "Epoch: 1 | Validation acc: 0.9967 | Validation loss: 0.0078\n",
            "Time taken: 108.59s\n",
            "Epochs: 2 batch 0/263 | batch_accuracy: 1.0000 | batch_loss: 0.0004\n",
            "Epochs: 2 batch 50/263 | batch_accuracy: 1.0000 | batch_loss: 0.0003\n",
            "Epochs: 2 batch 100/263 | batch_accuracy: 1.0000 | batch_loss: 0.0051\n",
            "Epochs: 2 batch 150/263 | batch_accuracy: 1.0000 | batch_loss: 0.0009\n",
            "Epochs: 2 batch 200/263 | batch_accuracy: 1.0000 | batch_loss: 0.0013\n",
            "Epochs: 2 batch 250/263 | batch_accuracy: 1.0000 | batch_loss: 0.0005\n",
            "Epoch: 2 | Training accuracy over epoch: 0.9992 | Training loss over epoch: 0.0031\n",
            "Epoch: 2 | Validation acc: 0.9994 | Validation loss: 0.0011\n",
            "Time taken: 152.20s\n",
            "Epochs: 3 batch 0/263 | batch_accuracy: 1.0000 | batch_loss: 0.0007\n",
            "Epochs: 3 batch 50/263 | batch_accuracy: 1.0000 | batch_loss: 0.0000\n",
            "Epochs: 3 batch 100/263 | batch_accuracy: 1.0000 | batch_loss: 0.0003\n",
            "Epochs: 3 batch 150/263 | batch_accuracy: 1.0000 | batch_loss: 0.0002\n",
            "Epochs: 3 batch 200/263 | batch_accuracy: 1.0000 | batch_loss: 0.0000\n",
            "Epochs: 3 batch 250/263 | batch_accuracy: 1.0000 | batch_loss: 0.0000\n",
            "Epoch: 3 | Training accuracy over epoch: 0.9997 | Training loss over epoch: 0.0010\n",
            "Epoch: 3 | Validation acc: 1.0000 | Validation loss: 0.0002\n",
            "Time taken: 105.66s\n",
            "Epochs: 4 batch 0/263 | batch_accuracy: 1.0000 | batch_loss: 0.0000\n",
            "Epochs: 4 batch 50/263 | batch_accuracy: 1.0000 | batch_loss: 0.0000\n",
            "Epochs: 4 batch 100/263 | batch_accuracy: 1.0000 | batch_loss: 0.0000\n",
            "Epochs: 4 batch 150/263 | batch_accuracy: 1.0000 | batch_loss: 0.0000\n",
            "Epochs: 4 batch 200/263 | batch_accuracy: 1.0000 | batch_loss: 0.0000\n",
            "Epochs: 4 batch 250/263 | batch_accuracy: 1.0000 | batch_loss: 0.0000\n",
            "Epoch: 4 | Training accuracy over epoch: 1.0000 | Training loss over epoch: 0.0001\n",
            "Epoch: 4 | Validation acc: 1.0000 | Validation loss: 0.0001\n",
            "Time taken: 105.50s\n",
            "Epochs: 5 batch 0/263 | batch_accuracy: 1.0000 | batch_loss: 0.0000\n",
            "Epochs: 5 batch 50/263 | batch_accuracy: 1.0000 | batch_loss: 0.0000\n",
            "Epochs: 5 batch 100/263 | batch_accuracy: 1.0000 | batch_loss: 0.0000\n",
            "Epochs: 5 batch 150/263 | batch_accuracy: 1.0000 | batch_loss: 0.0002\n",
            "Epochs: 5 batch 200/263 | batch_accuracy: 1.0000 | batch_loss: 0.0000\n",
            "Epochs: 5 batch 250/263 | batch_accuracy: 1.0000 | batch_loss: 0.0000\n",
            "Epoch: 5 | Training accuracy over epoch: 1.0000 | Training loss over epoch: 0.0000\n",
            "Epoch: 5 | Validation acc: 1.0000 | Validation loss: 0.0000\n",
            "Time taken: 105.77s\n",
            "Epochs: 6 batch 0/263 | batch_accuracy: 1.0000 | batch_loss: 0.0000\n",
            "Epochs: 6 batch 50/263 | batch_accuracy: 1.0000 | batch_loss: 0.0000\n",
            "Epochs: 6 batch 100/263 | batch_accuracy: 1.0000 | batch_loss: 0.0000\n",
            "Epochs: 6 batch 150/263 | batch_accuracy: 1.0000 | batch_loss: 0.0000\n",
            "Epochs: 6 batch 200/263 | batch_accuracy: 1.0000 | batch_loss: 0.0001\n",
            "Epochs: 6 batch 250/263 | batch_accuracy: 1.0000 | batch_loss: 0.0000\n",
            "Epoch: 6 | Training accuracy over epoch: 1.0000 | Training loss over epoch: 0.0000\n",
            "Epoch: 6 | Validation acc: 1.0000 | Validation loss: 0.0000\n",
            "Time taken: 106.55s\n",
            "Epochs: 7 batch 0/263 | batch_accuracy: 1.0000 | batch_loss: 0.0000\n",
            "Epochs: 7 batch 50/263 | batch_accuracy: 1.0000 | batch_loss: 0.0000\n",
            "Epochs: 7 batch 100/263 | batch_accuracy: 1.0000 | batch_loss: 0.0000\n",
            "Epochs: 7 batch 150/263 | batch_accuracy: 1.0000 | batch_loss: 0.0000\n",
            "Epochs: 7 batch 200/263 | batch_accuracy: 1.0000 | batch_loss: 0.0000\n",
            "Epochs: 7 batch 250/263 | batch_accuracy: 1.0000 | batch_loss: 0.0000\n",
            "Epoch: 7 | Training accuracy over epoch: 1.0000 | Training loss over epoch: 0.0000\n",
            "Epoch: 7 | Validation acc: 1.0000 | Validation loss: 0.0000\n",
            "Time taken: 106.36s\n",
            "Epochs: 8 batch 0/263 | batch_accuracy: 1.0000 | batch_loss: 0.0000\n",
            "Epochs: 8 batch 50/263 | batch_accuracy: 1.0000 | batch_loss: 0.0000\n",
            "Epochs: 8 batch 100/263 | batch_accuracy: 1.0000 | batch_loss: 0.0000\n",
            "Epochs: 8 batch 150/263 | batch_accuracy: 1.0000 | batch_loss: 0.0000\n",
            "Epochs: 8 batch 200/263 | batch_accuracy: 1.0000 | batch_loss: 0.0000\n",
            "Epochs: 8 batch 250/263 | batch_accuracy: 1.0000 | batch_loss: 0.0000\n",
            "Epoch: 8 | Training accuracy over epoch: 1.0000 | Training loss over epoch: 0.0000\n",
            "Epoch: 8 | Validation acc: 1.0000 | Validation loss: 0.0000\n",
            "Time taken: 152.40s\n",
            "Epochs: 9 batch 0/263 | batch_accuracy: 1.0000 | batch_loss: 0.0000\n",
            "Epochs: 9 batch 50/263 | batch_accuracy: 1.0000 | batch_loss: 0.0000\n",
            "Epochs: 9 batch 100/263 | batch_accuracy: 1.0000 | batch_loss: 0.0000\n",
            "Epochs: 9 batch 150/263 | batch_accuracy: 1.0000 | batch_loss: 0.0000\n",
            "Epochs: 9 batch 200/263 | batch_accuracy: 1.0000 | batch_loss: 0.0000\n",
            "Epochs: 9 batch 250/263 | batch_accuracy: 1.0000 | batch_loss: 0.0000\n",
            "Epoch: 9 | Training accuracy over epoch: 1.0000 | Training loss over epoch: 0.0000\n",
            "Epoch: 9 | Validation acc: 1.0000 | Validation loss: 0.0000\n",
            "Time taken: 104.25s\n",
            "Epochs: 10 batch 0/263 | batch_accuracy: 1.0000 | batch_loss: 0.0000\n",
            "Epochs: 10 batch 50/263 | batch_accuracy: 1.0000 | batch_loss: 0.0000\n",
            "Epochs: 10 batch 100/263 | batch_accuracy: 1.0000 | batch_loss: 0.0000\n",
            "Epochs: 10 batch 150/263 | batch_accuracy: 1.0000 | batch_loss: 0.0000\n",
            "Epochs: 10 batch 200/263 | batch_accuracy: 1.0000 | batch_loss: 0.0000\n",
            "Epochs: 10 batch 250/263 | batch_accuracy: 1.0000 | batch_loss: 0.0000\n",
            "Epoch: 10 | Training accuracy over epoch: 1.0000 | Training loss over epoch: 0.0000\n",
            "Epoch: 10 | Validation acc: 1.0000 | Validation loss: 0.0000\n",
            "Time taken: 104.18s\n",
            "Epochs: 11 batch 0/263 | batch_accuracy: 1.0000 | batch_loss: 0.0000\n",
            "Epochs: 11 batch 50/263 | batch_accuracy: 1.0000 | batch_loss: 0.0000\n",
            "Epochs: 11 batch 100/263 | batch_accuracy: 1.0000 | batch_loss: 0.0000\n",
            "Epochs: 11 batch 150/263 | batch_accuracy: 1.0000 | batch_loss: 0.0000\n",
            "Epochs: 11 batch 200/263 | batch_accuracy: 1.0000 | batch_loss: 0.0000\n",
            "Epochs: 11 batch 250/263 | batch_accuracy: 1.0000 | batch_loss: 0.0000\n",
            "Epoch: 11 | Training accuracy over epoch: 1.0000 | Training loss over epoch: 0.0000\n",
            "Epoch: 11 | Validation acc: 1.0000 | Validation loss: 0.0000\n",
            "Time taken: 104.09s\n",
            "Epochs: 12 batch 0/263 | batch_accuracy: 1.0000 | batch_loss: 0.0000\n",
            "Epochs: 12 batch 50/263 | batch_accuracy: 1.0000 | batch_loss: 0.0000\n",
            "Epochs: 12 batch 100/263 | batch_accuracy: 1.0000 | batch_loss: 0.0000\n",
            "Epochs: 12 batch 150/263 | batch_accuracy: 1.0000 | batch_loss: 0.0000\n",
            "Epochs: 12 batch 200/263 | batch_accuracy: 1.0000 | batch_loss: 0.0000\n",
            "Epochs: 12 batch 250/263 | batch_accuracy: 1.0000 | batch_loss: 0.0000\n",
            "Epoch: 12 | Training accuracy over epoch: 1.0000 | Training loss over epoch: 0.0000\n",
            "Epoch: 12 | Validation acc: 1.0000 | Validation loss: 0.0000\n",
            "Time taken: 151.83s\n",
            "Epochs: 13 batch 0/263 | batch_accuracy: 1.0000 | batch_loss: 0.0000\n",
            "Epochs: 13 batch 50/263 | batch_accuracy: 1.0000 | batch_loss: 0.0000\n",
            "Epochs: 13 batch 100/263 | batch_accuracy: 1.0000 | batch_loss: 0.0000\n",
            "Epochs: 13 batch 150/263 | batch_accuracy: 1.0000 | batch_loss: 0.0000\n",
            "Epochs: 13 batch 200/263 | batch_accuracy: 1.0000 | batch_loss: 0.0006\n",
            "Epochs: 13 batch 250/263 | batch_accuracy: 1.0000 | batch_loss: 0.0000\n",
            "Epoch: 13 | Training accuracy over epoch: 1.0000 | Training loss over epoch: 0.0000\n",
            "Epoch: 13 | Validation acc: 1.0000 | Validation loss: 0.0000\n",
            "Time taken: 151.95s\n",
            "Epochs: 14 batch 0/263 | batch_accuracy: 1.0000 | batch_loss: 0.0000\n",
            "Epochs: 14 batch 50/263 | batch_accuracy: 1.0000 | batch_loss: 0.0000\n",
            "Epochs: 14 batch 100/263 | batch_accuracy: 1.0000 | batch_loss: 0.0000\n",
            "Epochs: 14 batch 150/263 | batch_accuracy: 1.0000 | batch_loss: 0.0000\n",
            "Epochs: 14 batch 200/263 | batch_accuracy: 1.0000 | batch_loss: 0.0000\n",
            "Epochs: 14 batch 250/263 | batch_accuracy: 1.0000 | batch_loss: 0.0000\n",
            "Epoch: 14 | Training accuracy over epoch: 1.0000 | Training loss over epoch: 0.0000\n",
            "Epoch: 14 | Validation acc: 1.0000 | Validation loss: 0.0000\n",
            "Time taken: 101.89s\n",
            "Epochs: 15 batch 0/263 | batch_accuracy: 1.0000 | batch_loss: 0.0000\n",
            "Epochs: 15 batch 50/263 | batch_accuracy: 1.0000 | batch_loss: 0.0000\n",
            "Epochs: 15 batch 100/263 | batch_accuracy: 1.0000 | batch_loss: 0.0000\n",
            "Epochs: 15 batch 150/263 | batch_accuracy: 1.0000 | batch_loss: 0.0000\n",
            "Epochs: 15 batch 200/263 | batch_accuracy: 1.0000 | batch_loss: 0.0000\n",
            "Epochs: 15 batch 250/263 | batch_accuracy: 1.0000 | batch_loss: 0.0000\n",
            "Epoch: 15 | Training accuracy over epoch: 1.0000 | Training loss over epoch: 0.0000\n",
            "Epoch: 15 | Validation acc: 1.0000 | Validation loss: 0.0000\n",
            "Time taken: 106.03s\n",
            "Epochs: 16 batch 0/263 | batch_accuracy: 1.0000 | batch_loss: 0.0000\n",
            "Epochs: 16 batch 50/263 | batch_accuracy: 1.0000 | batch_loss: 0.0000\n",
            "Epochs: 16 batch 100/263 | batch_accuracy: 1.0000 | batch_loss: 0.0000\n",
            "Epochs: 16 batch 150/263 | batch_accuracy: 1.0000 | batch_loss: 0.0000\n",
            "Epochs: 16 batch 200/263 | batch_accuracy: 1.0000 | batch_loss: 0.0000\n",
            "Epochs: 16 batch 250/263 | batch_accuracy: 1.0000 | batch_loss: 0.0000\n",
            "Epoch: 16 | Training accuracy over epoch: 1.0000 | Training loss over epoch: 0.0000\n",
            "Epoch: 16 | Validation acc: 1.0000 | Validation loss: 0.0000\n",
            "Time taken: 106.94s\n",
            "Epochs: 17 batch 0/263 | batch_accuracy: 1.0000 | batch_loss: 0.0000\n",
            "Epochs: 17 batch 50/263 | batch_accuracy: 1.0000 | batch_loss: 0.0000\n",
            "Epochs: 17 batch 100/263 | batch_accuracy: 1.0000 | batch_loss: 0.0000\n",
            "Epochs: 17 batch 150/263 | batch_accuracy: 1.0000 | batch_loss: 0.0000\n",
            "Epochs: 17 batch 200/263 | batch_accuracy: 1.0000 | batch_loss: 0.0000\n",
            "Epochs: 17 batch 250/263 | batch_accuracy: 1.0000 | batch_loss: 0.0000\n",
            "Epoch: 17 | Training accuracy over epoch: 1.0000 | Training loss over epoch: 0.0000\n",
            "Epoch: 17 | Validation acc: 1.0000 | Validation loss: 0.0000\n",
            "Time taken: 152.53s\n",
            "Epochs: 18 batch 0/263 | batch_accuracy: 1.0000 | batch_loss: 0.0000\n",
            "Epochs: 18 batch 50/263 | batch_accuracy: 1.0000 | batch_loss: 0.0000\n",
            "Epochs: 18 batch 100/263 | batch_accuracy: 1.0000 | batch_loss: 0.0000\n",
            "Epochs: 18 batch 150/263 | batch_accuracy: 1.0000 | batch_loss: 0.0000\n",
            "Epochs: 18 batch 200/263 | batch_accuracy: 1.0000 | batch_loss: 0.0000\n",
            "Epochs: 18 batch 250/263 | batch_accuracy: 1.0000 | batch_loss: 0.0000\n",
            "Epoch: 18 | Training accuracy over epoch: 1.0000 | Training loss over epoch: 0.0000\n",
            "Epoch: 18 | Validation acc: 1.0000 | Validation loss: 0.0000\n",
            "Time taken: 99.13s\n",
            "Epochs: 19 batch 0/263 | batch_accuracy: 1.0000 | batch_loss: 0.0000\n",
            "Epochs: 19 batch 50/263 | batch_accuracy: 1.0000 | batch_loss: 0.0000\n",
            "Epochs: 19 batch 100/263 | batch_accuracy: 1.0000 | batch_loss: 0.0000\n",
            "Epochs: 19 batch 150/263 | batch_accuracy: 1.0000 | batch_loss: 0.0000\n",
            "Epochs: 19 batch 200/263 | batch_accuracy: 1.0000 | batch_loss: 0.0000\n",
            "Epochs: 19 batch 250/263 | batch_accuracy: 1.0000 | batch_loss: 0.0000\n",
            "Epoch: 19 | Training accuracy over epoch: 1.0000 | Training loss over epoch: 0.0000\n",
            "Epoch: 19 | Validation acc: 1.0000 | Validation loss: 0.0000\n",
            "Time taken: 98.92s\n",
            "Epochs: 20 batch 0/263 | batch_accuracy: 1.0000 | batch_loss: 0.0000\n",
            "Epochs: 20 batch 50/263 | batch_accuracy: 1.0000 | batch_loss: 0.0000\n",
            "Epochs: 20 batch 100/263 | batch_accuracy: 1.0000 | batch_loss: 0.0000\n",
            "Epochs: 20 batch 150/263 | batch_accuracy: 1.0000 | batch_loss: 0.0000\n",
            "Epochs: 20 batch 200/263 | batch_accuracy: 1.0000 | batch_loss: 0.0000\n",
            "Epochs: 20 batch 250/263 | batch_accuracy: 1.0000 | batch_loss: 0.0000\n",
            "Epoch: 20 | Training accuracy over epoch: 1.0000 | Training loss over epoch: 0.0000\n",
            "Epoch: 20 | Validation acc: 1.0000 | Validation loss: 0.0000\n",
            "Time taken: 98.27s\n",
            "Epochs: 21 batch 0/263 | batch_accuracy: 1.0000 | batch_loss: 0.0000\n",
            "Epochs: 21 batch 50/263 | batch_accuracy: 1.0000 | batch_loss: 0.0000\n",
            "Epochs: 21 batch 100/263 | batch_accuracy: 1.0000 | batch_loss: 0.0000\n",
            "Epochs: 21 batch 150/263 | batch_accuracy: 1.0000 | batch_loss: 0.0000\n",
            "Epochs: 21 batch 200/263 | batch_accuracy: 1.0000 | batch_loss: 0.0000\n",
            "Epochs: 21 batch 250/263 | batch_accuracy: 1.0000 | batch_loss: 0.0000\n",
            "Epoch: 21 | Training accuracy over epoch: 1.0000 | Training loss over epoch: 0.0000\n",
            "Epoch: 21 | Validation acc: 1.0000 | Validation loss: 0.0000\n",
            "Time taken: 98.76s\n",
            "Epochs: 22 batch 0/263 | batch_accuracy: 1.0000 | batch_loss: 0.0000\n",
            "Epochs: 22 batch 50/263 | batch_accuracy: 1.0000 | batch_loss: 0.0000\n",
            "Epochs: 22 batch 100/263 | batch_accuracy: 1.0000 | batch_loss: 0.0000\n",
            "Epochs: 22 batch 150/263 | batch_accuracy: 1.0000 | batch_loss: 0.0000\n",
            "Epochs: 22 batch 200/263 | batch_accuracy: 1.0000 | batch_loss: 0.0000\n",
            "Epochs: 22 batch 250/263 | batch_accuracy: 1.0000 | batch_loss: 0.0000\n",
            "Epoch: 22 | Training accuracy over epoch: 1.0000 | Training loss over epoch: 0.0000\n",
            "Epoch: 22 | Validation acc: 1.0000 | Validation loss: 0.0000\n",
            "Time taken: 99.88s\n",
            "Epochs: 23 batch 0/263 | batch_accuracy: 1.0000 | batch_loss: 0.0000\n",
            "Epochs: 23 batch 50/263 | batch_accuracy: 1.0000 | batch_loss: 0.0000\n",
            "Epochs: 23 batch 100/263 | batch_accuracy: 1.0000 | batch_loss: 0.0000\n",
            "Epochs: 23 batch 150/263 | batch_accuracy: 1.0000 | batch_loss: 0.0000\n",
            "Epochs: 23 batch 200/263 | batch_accuracy: 1.0000 | batch_loss: 0.0000\n",
            "Epochs: 23 batch 250/263 | batch_accuracy: 1.0000 | batch_loss: 0.0000\n",
            "Epoch: 23 | Training accuracy over epoch: 1.0000 | Training loss over epoch: 0.0000\n",
            "Epoch: 23 | Validation acc: 1.0000 | Validation loss: 0.0000\n",
            "Time taken: 99.05s\n",
            "Epochs: 24 batch 0/263 | batch_accuracy: 1.0000 | batch_loss: 0.0000\n",
            "Epochs: 24 batch 50/263 | batch_accuracy: 1.0000 | batch_loss: 0.0000\n",
            "Epochs: 24 batch 100/263 | batch_accuracy: 1.0000 | batch_loss: 0.0000\n",
            "Epochs: 24 batch 150/263 | batch_accuracy: 1.0000 | batch_loss: 0.0000\n",
            "Epochs: 24 batch 200/263 | batch_accuracy: 1.0000 | batch_loss: 0.0000\n",
            "Epochs: 24 batch 250/263 | batch_accuracy: 1.0000 | batch_loss: 0.0000\n",
            "Epoch: 24 | Training accuracy over epoch: 1.0000 | Training loss over epoch: 0.0000\n",
            "Epoch: 24 | Validation acc: 1.0000 | Validation loss: 0.0000\n",
            "Time taken: 98.79s\n",
            "Epochs: 25 batch 0/263 | batch_accuracy: 1.0000 | batch_loss: 0.0000\n",
            "Epochs: 25 batch 50/263 | batch_accuracy: 1.0000 | batch_loss: 0.0000\n",
            "Epochs: 25 batch 100/263 | batch_accuracy: 1.0000 | batch_loss: 0.0000\n",
            "Epochs: 25 batch 150/263 | batch_accuracy: 1.0000 | batch_loss: 0.0000\n",
            "Epochs: 25 batch 200/263 | batch_accuracy: 1.0000 | batch_loss: 0.0000\n",
            "Epochs: 25 batch 250/263 | batch_accuracy: 1.0000 | batch_loss: 0.0000\n",
            "Epoch: 25 | Training accuracy over epoch: 1.0000 | Training loss over epoch: 0.0000\n",
            "Epoch: 25 | Validation acc: 1.0000 | Validation loss: 0.0000\n",
            "Time taken: 151.90s\n",
            "Epochs: 26 batch 0/263 | batch_accuracy: 1.0000 | batch_loss: 0.0000\n",
            "Epochs: 26 batch 50/263 | batch_accuracy: 1.0000 | batch_loss: 0.0000\n",
            "Epochs: 26 batch 100/263 | batch_accuracy: 1.0000 | batch_loss: 0.0000\n",
            "Epochs: 26 batch 150/263 | batch_accuracy: 1.0000 | batch_loss: 0.0000\n",
            "Epochs: 26 batch 200/263 | batch_accuracy: 1.0000 | batch_loss: 0.0000\n",
            "Epochs: 26 batch 250/263 | batch_accuracy: 1.0000 | batch_loss: 0.0000\n",
            "Epoch: 26 | Training accuracy over epoch: 1.0000 | Training loss over epoch: 0.0000\n",
            "Epoch: 26 | Validation acc: 1.0000 | Validation loss: 0.0000\n",
            "Time taken: 102.62s\n",
            "Epochs: 27 batch 0/263 | batch_accuracy: 1.0000 | batch_loss: 0.0000\n",
            "Epochs: 27 batch 50/263 | batch_accuracy: 1.0000 | batch_loss: 0.0000\n",
            "Epochs: 27 batch 100/263 | batch_accuracy: 1.0000 | batch_loss: 0.0000\n",
            "Epochs: 27 batch 150/263 | batch_accuracy: 1.0000 | batch_loss: 0.0000\n",
            "Epochs: 27 batch 200/263 | batch_accuracy: 1.0000 | batch_loss: 0.0000\n",
            "Epochs: 27 batch 250/263 | batch_accuracy: 1.0000 | batch_loss: 0.0000\n",
            "Epoch: 27 | Training accuracy over epoch: 1.0000 | Training loss over epoch: 0.0000\n",
            "Epoch: 27 | Validation acc: 1.0000 | Validation loss: 0.0000\n",
            "Time taken: 102.39s\n",
            "Epochs: 28 batch 0/263 | batch_accuracy: 1.0000 | batch_loss: 0.0000\n",
            "Epochs: 28 batch 50/263 | batch_accuracy: 1.0000 | batch_loss: 0.0000\n",
            "Epochs: 28 batch 100/263 | batch_accuracy: 1.0000 | batch_loss: 0.0000\n",
            "Epochs: 28 batch 150/263 | batch_accuracy: 1.0000 | batch_loss: 0.0000\n",
            "Epochs: 28 batch 200/263 | batch_accuracy: 1.0000 | batch_loss: 0.0000\n",
            "Epochs: 28 batch 250/263 | batch_accuracy: 1.0000 | batch_loss: 0.0000\n",
            "Epoch: 28 | Training accuracy over epoch: 1.0000 | Training loss over epoch: 0.0000\n",
            "Epoch: 28 | Validation acc: 1.0000 | Validation loss: 0.0000\n",
            "Time taken: 103.16s\n",
            "Epochs: 29 batch 0/263 | batch_accuracy: 1.0000 | batch_loss: 0.0000\n",
            "Epochs: 29 batch 50/263 | batch_accuracy: 1.0000 | batch_loss: 0.0000\n",
            "Epochs: 29 batch 100/263 | batch_accuracy: 1.0000 | batch_loss: 0.0000\n",
            "Epochs: 29 batch 150/263 | batch_accuracy: 1.0000 | batch_loss: 0.0000\n",
            "Epochs: 29 batch 200/263 | batch_accuracy: 1.0000 | batch_loss: 0.0000\n",
            "Epochs: 29 batch 250/263 | batch_accuracy: 1.0000 | batch_loss: 0.0000\n",
            "Epoch: 29 | Training accuracy over epoch: 1.0000 | Training loss over epoch: 0.0000\n",
            "Epoch: 29 | Validation acc: 1.0000 | Validation loss: 0.0000\n",
            "Time taken: 100.50s\n",
            "Epochs: 30 batch 0/263 | batch_accuracy: 1.0000 | batch_loss: 0.0000\n",
            "Epochs: 30 batch 50/263 | batch_accuracy: 1.0000 | batch_loss: 0.0000\n",
            "Epochs: 30 batch 100/263 | batch_accuracy: 1.0000 | batch_loss: 0.0000\n",
            "Epochs: 30 batch 150/263 | batch_accuracy: 1.0000 | batch_loss: 0.0000\n",
            "Epochs: 30 batch 200/263 | batch_accuracy: 1.0000 | batch_loss: 0.0000\n",
            "Epochs: 30 batch 250/263 | batch_accuracy: 1.0000 | batch_loss: 0.0000\n",
            "Epoch: 30 | Training accuracy over epoch: 1.0000 | Training loss over epoch: 0.0000\n",
            "Epoch: 30 | Validation acc: 1.0000 | Validation loss: 0.0000\n",
            "Time taken: 151.75s\n",
            "Epochs: 31 batch 0/263 | batch_accuracy: 1.0000 | batch_loss: 0.0000\n",
            "Epochs: 31 batch 50/263 | batch_accuracy: 1.0000 | batch_loss: 0.0000\n",
            "Epochs: 31 batch 100/263 | batch_accuracy: 1.0000 | batch_loss: 0.0000\n",
            "Epochs: 31 batch 150/263 | batch_accuracy: 1.0000 | batch_loss: 0.0000\n",
            "Epochs: 31 batch 200/263 | batch_accuracy: 1.0000 | batch_loss: 0.0000\n",
            "Epochs: 31 batch 250/263 | batch_accuracy: 1.0000 | batch_loss: 0.0000\n",
            "Epoch: 31 | Training accuracy over epoch: 1.0000 | Training loss over epoch: 0.0000\n",
            "Epoch: 31 | Validation acc: 1.0000 | Validation loss: 0.0000\n",
            "Time taken: 101.20s\n",
            "Epochs: 32 batch 0/263 | batch_accuracy: 1.0000 | batch_loss: 0.0000\n",
            "Epochs: 32 batch 50/263 | batch_accuracy: 1.0000 | batch_loss: 0.0000\n",
            "Epochs: 32 batch 100/263 | batch_accuracy: 1.0000 | batch_loss: 0.0000\n",
            "Epochs: 32 batch 150/263 | batch_accuracy: 1.0000 | batch_loss: 0.0000\n",
            "Epochs: 32 batch 200/263 | batch_accuracy: 1.0000 | batch_loss: 0.0000\n",
            "Epochs: 32 batch 250/263 | batch_accuracy: 1.0000 | batch_loss: 0.0000\n",
            "Epoch: 32 | Training accuracy over epoch: 1.0000 | Training loss over epoch: 0.0000\n",
            "Epoch: 32 | Validation acc: 1.0000 | Validation loss: 0.0000\n",
            "Time taken: 100.49s\n",
            "Epochs: 33 batch 0/263 | batch_accuracy: 1.0000 | batch_loss: 0.0000\n",
            "Epochs: 33 batch 50/263 | batch_accuracy: 1.0000 | batch_loss: 0.0000\n",
            "Epochs: 33 batch 100/263 | batch_accuracy: 1.0000 | batch_loss: 0.0000\n",
            "Epochs: 33 batch 150/263 | batch_accuracy: 1.0000 | batch_loss: 0.0000\n",
            "Epochs: 33 batch 200/263 | batch_accuracy: 1.0000 | batch_loss: 0.0000\n",
            "Epochs: 33 batch 250/263 | batch_accuracy: 1.0000 | batch_loss: 0.0000\n",
            "Epoch: 33 | Training accuracy over epoch: 1.0000 | Training loss over epoch: 0.0000\n",
            "Epoch: 33 | Validation acc: 1.0000 | Validation loss: 0.0000\n",
            "Time taken: 101.22s\n",
            "Epochs: 34 batch 0/263 | batch_accuracy: 1.0000 | batch_loss: 0.0000\n",
            "Epochs: 34 batch 50/263 | batch_accuracy: 1.0000 | batch_loss: 0.0000\n",
            "Epochs: 34 batch 100/263 | batch_accuracy: 1.0000 | batch_loss: 0.0000\n",
            "Epochs: 34 batch 150/263 | batch_accuracy: 1.0000 | batch_loss: 0.0000\n",
            "Epochs: 34 batch 200/263 | batch_accuracy: 1.0000 | batch_loss: 0.0000\n",
            "Epochs: 34 batch 250/263 | batch_accuracy: 1.0000 | batch_loss: 0.0000\n",
            "Epoch: 34 | Training accuracy over epoch: 1.0000 | Training loss over epoch: 0.0000\n",
            "Epoch: 34 | Validation acc: 1.0000 | Validation loss: 0.0000\n",
            "Time taken: 100.30s\n",
            "Epochs: 35 batch 0/263 | batch_accuracy: 1.0000 | batch_loss: 0.0000\n",
            "Epochs: 35 batch 50/263 | batch_accuracy: 1.0000 | batch_loss: 0.0000\n",
            "Epochs: 35 batch 100/263 | batch_accuracy: 1.0000 | batch_loss: 0.0000\n",
            "Epochs: 35 batch 150/263 | batch_accuracy: 1.0000 | batch_loss: 0.0000\n",
            "Epochs: 35 batch 200/263 | batch_accuracy: 1.0000 | batch_loss: 0.0000\n",
            "Epochs: 35 batch 250/263 | batch_accuracy: 1.0000 | batch_loss: 0.0000\n",
            "Epoch: 35 | Training accuracy over epoch: 1.0000 | Training loss over epoch: 0.0000\n",
            "Epoch: 35 | Validation acc: 1.0000 | Validation loss: 0.0000\n",
            "Time taken: 100.93s\n",
            "Epochs: 36 batch 0/263 | batch_accuracy: 1.0000 | batch_loss: 0.0000\n",
            "Epochs: 36 batch 50/263 | batch_accuracy: 1.0000 | batch_loss: 0.0000\n",
            "Epochs: 36 batch 100/263 | batch_accuracy: 1.0000 | batch_loss: 0.0000\n",
            "Epochs: 36 batch 150/263 | batch_accuracy: 1.0000 | batch_loss: 0.0000\n",
            "Epochs: 36 batch 200/263 | batch_accuracy: 1.0000 | batch_loss: 0.0000\n",
            "Epochs: 36 batch 250/263 | batch_accuracy: 1.0000 | batch_loss: 0.0000\n",
            "Epoch: 36 | Training accuracy over epoch: 1.0000 | Training loss over epoch: 0.0000\n",
            "Epoch: 36 | Validation acc: 1.0000 | Validation loss: 0.0000\n",
            "Time taken: 99.68s\n",
            "Epochs: 37 batch 0/263 | batch_accuracy: 1.0000 | batch_loss: 0.0000\n",
            "Epochs: 37 batch 50/263 | batch_accuracy: 1.0000 | batch_loss: 0.0000\n",
            "Epochs: 37 batch 100/263 | batch_accuracy: 1.0000 | batch_loss: 0.0000\n",
            "Epochs: 37 batch 150/263 | batch_accuracy: 1.0000 | batch_loss: 0.0000\n",
            "Epochs: 37 batch 200/263 | batch_accuracy: 1.0000 | batch_loss: 0.0000\n",
            "Epochs: 37 batch 250/263 | batch_accuracy: 1.0000 | batch_loss: 0.0000\n",
            "Epoch: 37 | Training accuracy over epoch: 1.0000 | Training loss over epoch: 0.0000\n",
            "Epoch: 37 | Validation acc: 1.0000 | Validation loss: 0.0000\n",
            "Time taken: 100.52s\n",
            "Epochs: 38 batch 0/263 | batch_accuracy: 1.0000 | batch_loss: 0.0000\n",
            "Epochs: 38 batch 50/263 | batch_accuracy: 1.0000 | batch_loss: 0.0000\n",
            "Epochs: 38 batch 100/263 | batch_accuracy: 1.0000 | batch_loss: 0.0000\n",
            "Epochs: 38 batch 150/263 | batch_accuracy: 1.0000 | batch_loss: 0.0000\n",
            "Epochs: 38 batch 200/263 | batch_accuracy: 1.0000 | batch_loss: 0.0000\n",
            "Epochs: 38 batch 250/263 | batch_accuracy: 1.0000 | batch_loss: 0.0000\n",
            "Epoch: 38 | Training accuracy over epoch: 1.0000 | Training loss over epoch: 0.0000\n",
            "Epoch: 38 | Validation acc: 1.0000 | Validation loss: 0.0000\n",
            "Time taken: 151.49s\n",
            "Epochs: 39 batch 0/263 | batch_accuracy: 1.0000 | batch_loss: 0.0000\n",
            "Epochs: 39 batch 50/263 | batch_accuracy: 1.0000 | batch_loss: 0.0000\n",
            "Epochs: 39 batch 100/263 | batch_accuracy: 1.0000 | batch_loss: 0.0000\n",
            "Epochs: 39 batch 150/263 | batch_accuracy: 1.0000 | batch_loss: 0.0000\n",
            "Epochs: 39 batch 200/263 | batch_accuracy: 1.0000 | batch_loss: 0.0000\n",
            "Epochs: 39 batch 250/263 | batch_accuracy: 1.0000 | batch_loss: 0.0000\n",
            "Epoch: 39 | Training accuracy over epoch: 1.0000 | Training loss over epoch: 0.0000\n",
            "Epoch: 39 | Validation acc: 1.0000 | Validation loss: 0.0000\n",
            "Time taken: 104.90s\n",
            "Epochs: 40 batch 0/263 | batch_accuracy: 1.0000 | batch_loss: 0.0000\n",
            "Epochs: 40 batch 50/263 | batch_accuracy: 1.0000 | batch_loss: 0.0000\n",
            "Epochs: 40 batch 100/263 | batch_accuracy: 1.0000 | batch_loss: 0.0000\n",
            "Epochs: 40 batch 150/263 | batch_accuracy: 1.0000 | batch_loss: 0.0000\n",
            "Epochs: 40 batch 200/263 | batch_accuracy: 1.0000 | batch_loss: 0.0000\n",
            "Epochs: 40 batch 250/263 | batch_accuracy: 1.0000 | batch_loss: 0.0000\n",
            "Epoch: 40 | Training accuracy over epoch: 1.0000 | Training loss over epoch: 0.0000\n",
            "Epoch: 40 | Validation acc: 1.0000 | Validation loss: 0.0000\n",
            "Time taken: 99.71s\n",
            "Epochs: 41 batch 0/263 | batch_accuracy: 1.0000 | batch_loss: 0.0000\n",
            "Epochs: 41 batch 50/263 | batch_accuracy: 1.0000 | batch_loss: 0.0000\n",
            "Epochs: 41 batch 100/263 | batch_accuracy: 1.0000 | batch_loss: 0.0000\n",
            "Epochs: 41 batch 150/263 | batch_accuracy: 1.0000 | batch_loss: 0.0000\n",
            "Epochs: 41 batch 200/263 | batch_accuracy: 1.0000 | batch_loss: 0.0000\n",
            "Epochs: 41 batch 250/263 | batch_accuracy: 1.0000 | batch_loss: 0.0000\n",
            "Epoch: 41 | Training accuracy over epoch: 1.0000 | Training loss over epoch: 0.0000\n",
            "Epoch: 41 | Validation acc: 1.0000 | Validation loss: 0.0000\n",
            "Time taken: 152.23s\n",
            "Epochs: 42 batch 0/263 | batch_accuracy: 1.0000 | batch_loss: 0.0000\n",
            "Epochs: 42 batch 50/263 | batch_accuracy: 1.0000 | batch_loss: 0.0000\n",
            "Epochs: 42 batch 100/263 | batch_accuracy: 1.0000 | batch_loss: 0.0000\n",
            "Epochs: 42 batch 150/263 | batch_accuracy: 1.0000 | batch_loss: 0.0000\n",
            "Epochs: 42 batch 200/263 | batch_accuracy: 1.0000 | batch_loss: 0.0000\n",
            "Epochs: 42 batch 250/263 | batch_accuracy: 1.0000 | batch_loss: 0.0000\n",
            "Epoch: 42 | Training accuracy over epoch: 1.0000 | Training loss over epoch: 0.0000\n",
            "Epoch: 42 | Validation acc: 1.0000 | Validation loss: 0.0000\n",
            "Time taken: 151.15s\n",
            "Epochs: 43 batch 0/263 | batch_accuracy: 1.0000 | batch_loss: 0.0000\n",
            "Epochs: 43 batch 50/263 | batch_accuracy: 1.0000 | batch_loss: 0.0000\n",
            "Epochs: 43 batch 100/263 | batch_accuracy: 1.0000 | batch_loss: 0.0000\n",
            "Epochs: 43 batch 150/263 | batch_accuracy: 1.0000 | batch_loss: 0.0000\n",
            "Epochs: 43 batch 200/263 | batch_accuracy: 1.0000 | batch_loss: 0.0000\n",
            "Epochs: 43 batch 250/263 | batch_accuracy: 1.0000 | batch_loss: 0.0000\n",
            "Epoch: 43 | Training accuracy over epoch: 1.0000 | Training loss over epoch: 0.0000\n",
            "Epoch: 43 | Validation acc: 1.0000 | Validation loss: 0.0000\n",
            "Time taken: 151.29s\n",
            "Epochs: 44 batch 0/263 | batch_accuracy: 1.0000 | batch_loss: 0.0000\n",
            "Epochs: 44 batch 50/263 | batch_accuracy: 1.0000 | batch_loss: 0.0000\n",
            "Epochs: 44 batch 100/263 | batch_accuracy: 0.7250 | batch_loss: 1.0179\n",
            "Epochs: 44 batch 150/263 | batch_accuracy: 0.7625 | batch_loss: 0.6585\n",
            "Epochs: 44 batch 200/263 | batch_accuracy: 0.8000 | batch_loss: 0.4824\n",
            "Epochs: 44 batch 250/263 | batch_accuracy: 0.7000 | batch_loss: 0.8932\n",
            "Epoch: 44 | Training accuracy over epoch: 0.8086 | Training loss over epoch: 0.7749\n",
            "Epoch: 44 | Validation acc: 0.7665 | Validation loss: 0.6351\n",
            "Time taken: 98.77s\n",
            "Epochs: 45 batch 0/263 | batch_accuracy: 0.7000 | batch_loss: 0.7737\n",
            "Epochs: 45 batch 50/263 | batch_accuracy: 0.7500 | batch_loss: 0.7728\n",
            "Epochs: 45 batch 100/263 | batch_accuracy: 0.7750 | batch_loss: 0.6148\n",
            "Epochs: 45 batch 150/263 | batch_accuracy: 0.7750 | batch_loss: 0.6232\n",
            "Epochs: 45 batch 200/263 | batch_accuracy: 0.7500 | batch_loss: 0.6327\n",
            "Epochs: 45 batch 250/263 | batch_accuracy: 0.7750 | batch_loss: 0.6047\n",
            "Epoch: 45 | Training accuracy over epoch: 0.7652 | Training loss over epoch: 0.6472\n",
            "Epoch: 45 | Validation acc: 0.7663 | Validation loss: 0.6394\n",
            "Time taken: 98.34s\n",
            "Epochs: 46 batch 0/263 | batch_accuracy: 0.7875 | batch_loss: 0.5934\n",
            "Epochs: 46 batch 50/263 | batch_accuracy: 0.7750 | batch_loss: 0.6545\n",
            "Epochs: 46 batch 100/263 | batch_accuracy: 0.7750 | batch_loss: 0.5129\n",
            "Epochs: 46 batch 150/263 | batch_accuracy: 0.7625 | batch_loss: 0.7072\n",
            "Epochs: 46 batch 200/263 | batch_accuracy: 0.7875 | batch_loss: 0.5595\n",
            "Epochs: 46 batch 250/263 | batch_accuracy: 0.7750 | batch_loss: 0.6035\n",
            "Epoch: 46 | Training accuracy over epoch: 0.7654 | Training loss over epoch: 0.6418\n",
            "Epoch: 46 | Validation acc: 0.7671 | Validation loss: 0.6246\n",
            "Time taken: 100.84s\n",
            "Epochs: 47 batch 0/263 | batch_accuracy: 0.7875 | batch_loss: 0.5058\n",
            "Epochs: 47 batch 50/263 | batch_accuracy: 0.8000 | batch_loss: 0.5305\n",
            "Epochs: 47 batch 100/263 | batch_accuracy: 0.7625 | batch_loss: 0.7287\n",
            "Epochs: 47 batch 150/263 | batch_accuracy: 0.8000 | batch_loss: 0.5222\n",
            "Epochs: 47 batch 200/263 | batch_accuracy: 0.8000 | batch_loss: 0.6266\n",
            "Epochs: 47 batch 250/263 | batch_accuracy: 0.7750 | batch_loss: 0.6085\n",
            "Epoch: 47 | Training accuracy over epoch: 0.7651 | Training loss over epoch: 0.6371\n",
            "Epoch: 47 | Validation acc: 0.7663 | Validation loss: 0.6388\n",
            "Time taken: 99.24s\n",
            "Early stopping activated! Restoring model weights from the end of the (best) epoch: 42.\n"
          ]
        }
      ]
    },
    {
      "cell_type": "markdown",
      "source": [
        "##### Results"
      ],
      "metadata": {
        "id": "6Mx4Gc3oVTEc"
      }
    },
    {
      "cell_type": "code",
      "source": [
        "with open(\"/content/gdrive/MyDrive/UNIPI/ml-query-optimization/data/weights/operators-impl-results.pkl\", \"wb\") as f:\n",
        "  results = {\n",
        "    'train_losses': train_losses, \n",
        "    'train_accuracies': train_accuracies, \n",
        "    'val_losses': val_losses, \n",
        "    'val_accuracies': val_accuracies \n",
        "  }\n",
        "  pickle.dump(results, f)"
      ],
      "metadata": {
        "id": "Kq5HymSwBk7n"
      },
      "execution_count": null,
      "outputs": []
    },
    {
      "cell_type": "code",
      "source": [
        "fig1, ax1 = plt.subplots()\n",
        "\n",
        "ax1.plot(train_losses, color=\"C0\", label='train')\n",
        "ax1.plot(val_losses, color=\"C1\", label='validation')\n",
        "\n",
        "ax1.grid(which=\"major\", axis=\"both\")\n",
        "ax1.set_ylabel(\"loss\")\n",
        "ax1.set_xlabel(\"epoch\")\n",
        "ax1.set_title('Loss')\n",
        "ax1.legend()\n",
        "\n",
        "fig1.show()\n",
        "\n",
        "fig2, ax2 = plt.subplots()\n",
        "\n",
        "ax2.plot(train_accuracies, color=\"C0\", label='train')\n",
        "ax2.plot(val_accuracies, color=\"C1\", label='validation')\n",
        "\n",
        "ax2.grid(which=\"major\", axis=\"both\")\n",
        "ax2.set_ylabel(\"accuracy\")\n",
        "ax2.set_xlabel(\"epoch\")\n",
        "ax2.set_title('Accuracy')\n",
        "ax2.legend()\n",
        "\n",
        "fig2.show()"
      ],
      "metadata": {
        "colab": {
          "base_uri": "https://localhost:8080/",
          "height": 573
        },
        "id": "4OjmwlX0BxTS",
        "outputId": "afd4c6b8-ce26-4143-f9b2-08fdfba637c1"
      },
      "execution_count": null,
      "outputs": [
        {
          "output_type": "display_data",
          "data": {
            "text/plain": [
              "<Figure size 432x288 with 1 Axes>"
            ],
            "image/png": "[encoded data removed]"
          },
          "metadata": {
            "needs_background": "light"
          }
        },
        {
          "output_type": "display_data",
          "data": {
            "text/plain": [
              "<Figure size 432x288 with 1 Axes>"
            ],
            "image/png": "[encoded data removed]"
          },
          "metadata": {
            "needs_background": "light"
          }
        }
      ]
    },
    {
      "cell_type": "markdown",
      "source": [
        "#####Testing"
      ],
      "metadata": {
        "id": "xLqCgsW0B16b"
      }
    },
    {
      "cell_type": "code",
      "source": [
        "generate_predictions(X_test, y_test, input_operators_impl_encoder, output_operators_impl_encoder, '/content/gdrive/MyDrive/UNIPI/ml-query-optimization/data/weights/operators-impl-chkp', x_max_length, y_max_length)"
      ],
      "metadata": {
        "colab": {
          "base_uri": "https://localhost:8080/"
        },
        "id": "DVeHmV6DB5df",
        "outputId": "34932bb7-fc67-4780-ca23-8940eef8a051"
      },
      "execution_count": null,
      "outputs": [
        {
          "output_type": "stream",
          "name": "stdout",
          "text": [
            "33\n",
            "6\n",
            "prediction: ['nested_loop', 'index_only_scan', 'index_only_scan', 'index_only_scan', 'index_only_scan', 'index_only_scan']\n",
            "actual: ['seq_scan', '<eos>']\n",
            "Accuracy: 0.0\n",
            "prediction: ['nested_loop', 'index_only_scan', 'index_only_scan', 'index_only_scan', 'index_only_scan', 'index_only_scan']\n",
            "actual: ['seq_scan', '<eos>']\n",
            "Accuracy: 0.0\n",
            "prediction: ['nested_loop', 'index_only_scan', 'index_only_scan', 'index_only_scan', 'index_only_scan', 'index_only_scan']\n",
            "actual: ['seq_scan', '<eos>']\n",
            "Accuracy: 0.0\n",
            "prediction: ['nested_loop', 'index_only_scan', 'index_only_scan', 'index_only_scan', 'index_only_scan', 'index_only_scan']\n",
            "actual: ['seq_scan', '<eos>']\n",
            "Accuracy: 0.0\n",
            "prediction: ['nested_loop', 'index_only_scan', 'index_only_scan', 'index_only_scan', 'index_only_scan', 'index_only_scan']\n",
            "actual: ['seq_scan', '<eos>']\n",
            "Accuracy: 0.0\n",
            "prediction: ['nested_loop', 'index_only_scan', 'index_only_scan', 'index_only_scan', 'index_only_scan', 'index_only_scan']\n",
            "actual: ['index_scan', '<eos>']\n",
            "Accuracy: 0.0\n",
            "prediction: ['nested_loop', 'index_only_scan', 'index_only_scan', 'index_only_scan', 'index_only_scan', 'index_only_scan']\n",
            "actual: ['seq_scan', '<eos>']\n",
            "Accuracy: 0.0\n",
            "prediction: ['nested_loop', 'index_only_scan', 'index_only_scan', 'index_only_scan', 'index_only_scan', 'index_only_scan']\n",
            "actual: ['seq_scan', '<eos>']\n",
            "Accuracy: 0.0\n",
            "prediction: ['nested_loop', 'index_only_scan', 'index_only_scan', 'index_only_scan', 'index_only_scan', 'index_only_scan']\n",
            "actual: ['seq_scan', '<eos>']\n",
            "Accuracy: 0.0\n",
            "prediction: ['nested_loop', 'index_only_scan', 'index_only_scan', 'index_only_scan', 'index_only_scan', 'index_only_scan']\n",
            "actual: ['seq_scan', '<eos>']\n",
            "Accuracy: 0.0\n",
            "prediction: ['nested_loop', 'index_only_scan', 'index_only_scan', 'index_only_scan', 'index_only_scan', 'index_only_scan']\n",
            "actual: ['seq_scan', '<eos>']\n",
            "Accuracy: 0.0\n",
            "prediction: ['nested_loop', 'index_only_scan', 'index_only_scan', 'index_only_scan', 'index_only_scan', 'index_only_scan']\n",
            "actual: ['seq_scan', '<eos>']\n",
            "Accuracy: 0.0\n",
            "prediction: ['nested_loop', 'index_only_scan', 'index_only_scan', 'index_only_scan', 'index_only_scan', 'index_only_scan']\n",
            "actual: ['hash_join', 'seq_scan', '<eos>']\n",
            "Accuracy: 0.0\n",
            "prediction: ['nested_loop', 'index_only_scan', 'index_only_scan', 'index_only_scan', 'index_only_scan', 'index_only_scan']\n",
            "actual: ['seq_scan', '<eos>']\n",
            "Accuracy: 0.0\n",
            "prediction: ['nested_loop', 'index_only_scan', 'index_only_scan', 'index_only_scan', 'index_only_scan', 'index_only_scan']\n",
            "actual: ['seq_scan', '<eos>']\n",
            "Accuracy: 0.0\n",
            "prediction: ['nested_loop', 'index_only_scan', 'index_only_scan', 'index_only_scan', 'index_only_scan', 'index_only_scan']\n",
            "actual: ['seq_scan', '<eos>']\n",
            "Accuracy: 0.0\n",
            "prediction: ['nested_loop', 'index_only_scan', 'index_only_scan', 'index_only_scan', 'index_only_scan', 'index_only_scan']\n",
            "actual: ['seq_scan', '<eos>']\n",
            "Accuracy: 0.0\n",
            "prediction: ['nested_loop', 'index_only_scan', 'index_only_scan', 'index_only_scan', 'index_only_scan', 'index_only_scan']\n",
            "actual: ['seq_scan', '<eos>']\n",
            "Accuracy: 0.0\n",
            "prediction: ['nested_loop', 'index_only_scan', 'index_only_scan', 'index_only_scan', 'index_only_scan', 'index_only_scan']\n",
            "actual: ['seq_scan', '<eos>']\n",
            "Accuracy: 0.0\n",
            "prediction: ['nested_loop', 'index_only_scan', 'index_only_scan', 'index_only_scan', 'index_only_scan', 'index_only_scan']\n",
            "actual: ['hash_join', '<eos>']\n",
            "Accuracy: 0.0\n",
            "prediction: ['nested_loop', 'index_only_scan', 'index_only_scan', 'index_only_scan', 'index_only_scan', 'index_only_scan']\n",
            "actual: ['seq_scan', '<eos>']\n",
            "Accuracy: 0.0\n",
            "prediction: ['nested_loop', 'index_only_scan', 'index_only_scan', 'index_only_scan', 'index_only_scan', 'index_only_scan']\n",
            "actual: ['seq_scan', '<eos>']\n",
            "Accuracy: 0.0\n",
            "prediction: ['nested_loop', 'index_only_scan', 'index_only_scan', 'index_only_scan', 'index_only_scan', 'index_only_scan']\n",
            "actual: ['hash_join', 'seq_scan', '<eos>']\n",
            "Accuracy: 0.0\n",
            "prediction: ['nested_loop', 'index_only_scan', 'index_only_scan', 'index_only_scan', 'index_only_scan', 'index_only_scan']\n",
            "actual: ['seq_scan', '<eos>']\n",
            "Accuracy: 0.0\n",
            "prediction: ['nested_loop', 'index_only_scan', 'index_only_scan', 'index_only_scan', 'index_only_scan', 'index_only_scan']\n",
            "actual: ['seq_scan', '<eos>']\n",
            "Accuracy: 0.0\n",
            "prediction: ['nested_loop', 'index_only_scan', 'index_only_scan', 'index_only_scan', 'index_only_scan', 'index_only_scan']\n",
            "actual: ['seq_scan', '<eos>']\n",
            "Accuracy: 0.0\n",
            "prediction: ['nested_loop', 'index_only_scan', 'index_only_scan', 'index_only_scan', 'index_only_scan', 'index_only_scan']\n",
            "actual: ['seq_scan', '<eos>']\n",
            "Accuracy: 0.0\n",
            "prediction: ['nested_loop', 'index_only_scan', 'index_only_scan', 'index_only_scan', 'index_only_scan', 'index_only_scan']\n",
            "actual: ['hash_join', '<eos>']\n",
            "Accuracy: 0.0\n",
            "prediction: ['nested_loop', 'index_only_scan', 'index_only_scan', 'index_only_scan', 'index_only_scan', 'index_only_scan']\n",
            "actual: ['seq_scan', '<eos>']\n",
            "Accuracy: 0.0\n",
            "prediction: ['nested_loop', 'index_only_scan', 'index_only_scan', 'index_only_scan', 'index_only_scan', 'index_only_scan']\n",
            "actual: ['seq_scan', '<eos>']\n",
            "Accuracy: 0.0\n",
            "prediction: ['nested_loop', 'index_only_scan', 'index_only_scan', 'index_only_scan', 'index_only_scan', 'index_only_scan']\n",
            "actual: ['index_scan', '<eos>']\n",
            "Accuracy: 0.0\n",
            "prediction: ['nested_loop', 'index_only_scan', 'index_only_scan', 'index_only_scan', 'index_only_scan', 'index_only_scan']\n",
            "actual: ['seq_scan', '<eos>']\n",
            "Accuracy: 0.0\n",
            "prediction: ['nested_loop', 'index_only_scan', 'index_only_scan', 'index_only_scan', 'index_only_scan', 'index_only_scan']\n",
            "actual: ['seq_scan', '<eos>']\n",
            "Accuracy: 0.0\n",
            "prediction: ['nested_loop', 'index_only_scan', 'index_only_scan', 'index_only_scan', 'index_only_scan', 'index_only_scan']\n",
            "actual: ['seq_scan', '<eos>']\n",
            "Accuracy: 0.0\n",
            "prediction: ['nested_loop', 'index_only_scan', 'index_only_scan', 'index_only_scan', 'index_only_scan', 'index_only_scan']\n",
            "actual: ['seq_scan', '<eos>']\n",
            "Accuracy: 0.0\n",
            "prediction: ['nested_loop', 'index_only_scan', 'index_only_scan', 'index_only_scan', 'index_only_scan', 'index_only_scan']\n",
            "actual: ['seq_scan', '<eos>']\n",
            "Accuracy: 0.0\n",
            "prediction: ['nested_loop', 'index_only_scan', 'index_only_scan', 'index_only_scan', 'index_only_scan', 'index_only_scan']\n",
            "actual: ['seq_scan', '<eos>']\n",
            "Accuracy: 0.0\n",
            "prediction: ['nested_loop', 'index_only_scan', 'index_only_scan', 'index_only_scan', 'index_only_scan', 'index_only_scan']\n",
            "actual: ['seq_scan', '<eos>']\n",
            "Accuracy: 0.0\n",
            "prediction: ['nested_loop', 'index_only_scan', 'index_only_scan', 'index_only_scan', 'index_only_scan', 'index_only_scan']\n",
            "actual: ['hash_join', '<eos>']\n",
            "Accuracy: 0.0\n",
            "prediction: ['nested_loop', 'nested_loop', 'index_only_scan', 'index_only_scan', 'index_only_scan', 'index_only_scan']\n",
            "actual: ['hash_join', '<eos>']\n",
            "Accuracy: 0.0\n",
            "prediction: ['nested_loop', 'index_only_scan', 'index_only_scan', 'index_only_scan', 'index_only_scan', 'index_only_scan']\n",
            "actual: ['index_scan', 'seq_scan', '<eos>']\n",
            "Accuracy: 0.0\n",
            "prediction: ['nested_loop', 'index_only_scan', 'index_only_scan', 'index_only_scan', 'index_only_scan', 'index_only_scan']\n",
            "actual: ['seq_scan', '<eos>']\n",
            "Accuracy: 0.0\n",
            "prediction: ['nested_loop', 'index_only_scan', 'index_only_scan', 'index_only_scan', 'index_only_scan', 'index_only_scan']\n",
            "actual: ['seq_scan', '<eos>']\n",
            "Accuracy: 0.0\n",
            "prediction: ['nested_loop', 'index_only_scan', 'index_only_scan', 'index_only_scan', 'index_only_scan', 'index_only_scan']\n",
            "actual: ['hash_join', '<eos>']\n",
            "Accuracy: 0.0\n",
            "prediction: ['nested_loop', 'index_only_scan', 'index_only_scan', 'index_only_scan', 'index_only_scan', 'index_only_scan']\n",
            "actual: ['hash_join', '<eos>']\n",
            "Accuracy: 0.0\n",
            "prediction: ['nested_loop', 'index_only_scan', 'index_only_scan', 'index_only_scan', 'index_only_scan', 'index_only_scan']\n",
            "actual: ['seq_scan', '<eos>']\n",
            "Accuracy: 0.0\n",
            "prediction: ['nested_loop', 'index_only_scan', 'index_only_scan', 'index_only_scan', 'index_only_scan', 'index_only_scan']\n",
            "actual: ['seq_scan', '<eos>']\n",
            "Accuracy: 0.0\n",
            "prediction: ['nested_loop', 'index_only_scan', 'index_only_scan', 'index_only_scan', 'index_only_scan', 'index_only_scan']\n",
            "actual: ['seq_scan', '<eos>']\n",
            "Accuracy: 0.0\n",
            "prediction: ['nested_loop', 'index_only_scan', 'index_only_scan', 'index_only_scan', 'index_only_scan', 'index_only_scan']\n",
            "actual: ['seq_scan', '<eos>']\n",
            "Accuracy: 0.0\n",
            "prediction: ['nested_loop', 'index_only_scan', 'index_only_scan', 'index_only_scan', 'index_only_scan', 'index_only_scan']\n",
            "actual: ['seq_scan', '<eos>']\n",
            "Accuracy: 0.0\n",
            "prediction: ['nested_loop', 'index_only_scan', 'index_only_scan', 'index_only_scan', 'index_only_scan', 'index_only_scan']\n",
            "actual: ['seq_scan', '<eos>']\n",
            "Accuracy: 0.0\n",
            "prediction: ['nested_loop', 'index_only_scan', 'index_only_scan', 'index_only_scan', 'index_only_scan', 'index_only_scan']\n",
            "actual: ['seq_scan', '<eos>']\n",
            "Accuracy: 0.0\n",
            "prediction: ['nested_loop', 'index_only_scan', 'index_only_scan', 'index_only_scan', 'index_only_scan', 'index_only_scan']\n",
            "actual: ['index_scan', '<eos>']\n",
            "Accuracy: 0.0\n",
            "prediction: ['nested_loop', 'index_only_scan', 'index_only_scan', 'index_only_scan', 'index_only_scan', 'index_only_scan']\n",
            "actual: ['seq_scan', '<eos>']\n",
            "Accuracy: 0.0\n",
            "Total accuracy: 0.0000\n"
          ]
        }
      ]
    },
    {
      "cell_type": "markdown",
      "source": [
        "#### 4th Experiment"
      ],
      "metadata": {
        "id": "wqlna-6cXpkT"
      }
    },
    {
      "cell_type": "code",
      "source": [
        "input = operators_input_corpus\n",
        "target = np.column_stack((operators_target_input_corpus, operators_target_corpus))\n",
        "\n",
        "print(f\"Input shape: {input.shape}, Target shape: {input.shape}\")\n",
        "\n",
        "y_train, y_test, input_train, input_test = train_test_split(target, input, test_size=0.01, random_state=42)\n",
        "target_input_train = y_train[:,0]\n",
        "target_train = y_train[:,1]\n",
        "target_input_test = y_test[:,0]\n",
        "target_test = y_test[:,1]\n",
        "\n",
        "print(f\"Input train shape: {input_train.shape}, target train shape: {target_train.shape}, target input train shape: {target_input_train.shape}\")\n",
        "print(f\"Input test shape: {input_test.shape}, target test shape: {target_test.shape}, target input test shape: {target_input_test.shape}\")\n",
        "\n",
        "x_max_length, encoder_inputs, input_tokenizer, idx2word_input, _ = pad_tokenizer_bow(input_train)\n",
        "y_max_length, decoder_targets, output_tokenizer, idx2word_output, decoder_inputs = pad_tokenizer_bow(target_train, target_input_train)\n",
        "\n",
        "dec_inputs = np.column_stack((decoder_inputs, decoder_targets))\n",
        "dec_train, dec_val, train_encoder_inputs, val_encoder_inputs = train_test_split(dec_inputs, encoder_inputs, test_size=0.01, random_state=42)\n",
        "train_decoder_inputs = dec_train[:,:y_max_length]\n",
        "train_decoder_targets = dec_train[:,y_max_length:]\n",
        "val_decoder_inputs = dec_val[:,:y_max_length]\n",
        "val_decoder_targets = dec_val[:,y_max_length:]\n",
        "\n",
        "print(f\"Encoder Input train shape: {train_encoder_inputs.shape}, Decoder input train shape: {train_decoder_inputs.shape}, Decoder target train shape: {train_decoder_targets.shape}\")\n",
        "print(f\"Encoder Input validation shape: {val_encoder_inputs.shape}, Decoder validation train shape: {val_decoder_inputs.shape}, Decoder validation train shape: {val_decoder_targets.shape}\")"
      ],
      "metadata": {
        "colab": {
          "base_uri": "https://localhost:8080/"
        },
        "id": "rjtBNrPABROm",
        "outputId": "bd7e1982-33f4-45e2-a73f-cfbd32f88c0d"
      },
      "execution_count": 57,
      "outputs": [
        {
          "output_type": "stream",
          "name": "stdout",
          "text": [
            "Input shape: (5328,), Target shape: (5328,)\n",
            "Input train shape: (5274,), target train shape: (5274,), target input train shape: (5274,)\n",
            "Input test shape: (54,), target test shape: (54,), target input test shape: (54,)\n",
            "Max Input Length:  32\n",
            "Found 782 unique input tokens.\n",
            "padded sequences shape: (5274, 32)\n",
            "Max Input Length:  6\n",
            "Found 10 unique input tokens.\n",
            "padded sequences shape: (5274, 6)\n",
            "Encoder Input train shape: (5221, 32), Decoder input train shape: (5221, 6), Decoder target train shape: (5221, 6)\n",
            "Encoder Input validation shape: (53, 32), Decoder validation train shape: (53, 6), Decoder validation train shape: (53, 6)\n"
          ]
        }
      ]
    },
    {
      "cell_type": "code",
      "source": [
        "print(target_train[0])\n",
        "print(target_input_train[0])\n",
        "print(encoder_inputs[0])\n",
        "print(decoder_inputs[0])\n",
        "print(decoder_targets[0])"
      ],
      "metadata": {
        "colab": {
          "base_uri": "https://localhost:8080/"
        },
        "id": "y1ZcJky3Dhcc",
        "outputId": "a28d7924-e495-4240-b1be-e7bd62f3fedd"
      },
      "execution_count": 34,
      "outputs": [
        {
          "output_type": "stream",
          "name": "stdout",
          "text": [
            "['hash_join', 'seq_scan', '<eos>']\n",
            "['<sos>', 'hash_join', 'seq_scan']\n",
            "[  3  13   2 100   4   2 422   1  13   2 645   0   0   0   0   0   0   0\n",
            "   0   0   0   0   0   0   0   0   0   0   0   0   0   0]\n",
            "[3 4 1 0 0 0]\n",
            "[4 1 2 0 0 0]\n"
          ]
        }
      ]
    },
    {
      "cell_type": "code",
      "source": [
        ""
      ],
      "metadata": {
        "colab": {
          "base_uri": "https://localhost:8080/"
        },
        "id": "8NDuqtdQsuSZ",
        "outputId": "a1a81bf5-87dd-4f0a-a0ed-b56a1dc1260a"
      },
      "execution_count": 40,
      "outputs": [
        {
          "output_type": "execute_result",
          "data": {
            "text/plain": [
              "10"
            ]
          },
          "metadata": {},
          "execution_count": 40
        }
      ]
    },
    {
      "cell_type": "code",
      "source": [
        "print(train_encoder_inputs[0])\n",
        "print(train_decoder_inputs[0])\n",
        "print(train_decoder_targets[0])"
      ],
      "metadata": {
        "colab": {
          "base_uri": "https://localhost:8080/"
        },
        "id": "tqUTKimOJ06o",
        "outputId": "ca068dfd-5d34-45d4-d732-35ab7b7b39c7"
      },
      "execution_count": 162,
      "outputs": [
        {
          "output_type": "stream",
          "name": "stdout",
          "text": [
            "[ 1 68  0  0  0  0  0  0  0  0  0  0  0  0  0  0  0  0  0  0  0  0  0  0\n",
            "  0  0  0  0  0  0  0  0]\n",
            "[1 2 0 0 0 0]\n",
            "[3 1 0 0 0 0]\n"
          ]
        }
      ]
    },
    {
      "cell_type": "markdown",
      "source": [
        "##### Training"
      ],
      "metadata": {
        "id": "z4ELn4SPYdOU"
      }
    },
    {
      "cell_type": "code",
      "source": [
        "checkpoint_dir = '/content/gdrive/MyDrive/UNIPI/ml-query-optimization/data/weights/operators-impl-chkp-v2'\n",
        "results_dir = \"/content/gdrive/MyDrive/UNIPI/ml-query-optimization/data/weights/operators-impl-results-v2.pkl\""
      ],
      "metadata": {
        "id": "UTMiWBiwtwoq"
      },
      "execution_count": 56,
      "outputs": []
    },
    {
      "cell_type": "code",
      "source": [
        "main_train(train_encoder_inputs, train_decoder_inputs, train_decoder_targets,\n",
        "               val_encoder_inputs, val_decoder_inputs, val_decoder_targets,\n",
        "               input_tokenizer, x_max_length, output_tokenizer, y_max_length, checkpoint_dir, results_dir, False, idx2word_input, idx2word_output)"
      ],
      "metadata": {
        "colab": {
          "base_uri": "https://localhost:8080/"
        },
        "id": "Jdi4C9VTN48o",
        "outputId": "a1afdfa4-068d-43d4-9008-1af93ad07abd"
      },
      "execution_count": 58,
      "outputs": [
        {
          "output_type": "stream",
          "name": "stdout",
          "text": [
            "Epochs: 1 batch 0/326 | batch_accuracy: 0.0789 | batch_loss: 0.9480\n",
            "Epochs: 1 batch 50/326 | batch_accuracy: 0.9375 | batch_loss: 0.2192\n",
            "Epochs: 1 batch 100/326 | batch_accuracy: 0.8438 | batch_loss: 0.2444\n",
            "Epochs: 1 batch 150/326 | batch_accuracy: 0.8529 | batch_loss: 0.2020\n",
            "Epochs: 1 batch 200/326 | batch_accuracy: 0.5588 | batch_loss: 0.3584\n",
            "Epochs: 1 batch 250/326 | batch_accuracy: 0.4848 | batch_loss: 0.4300\n",
            "Epochs: 1 batch 300/326 | batch_accuracy: 0.8571 | batch_loss: 0.1838\n",
            "Epoch: 1 | Training accuracy over epoch: 0.7508 | Training loss over epoch: 0.3916\n",
            "Epoch: 1 | Validation acc: 0.3819 | Validation loss: 0.4915\n",
            "Time taken: 383.32s\n",
            "Epochs: 2 batch 0/326 | batch_accuracy: 0.3824 | batch_loss: 0.3959\n",
            "Epochs: 2 batch 50/326 | batch_accuracy: 0.8235 | batch_loss: 0.2074\n",
            "Epochs: 2 batch 100/326 | batch_accuracy: 0.7778 | batch_loss: 0.3235\n",
            "Epochs: 2 batch 150/326 | batch_accuracy: 0.8788 | batch_loss: 0.2058\n",
            "Epochs: 2 batch 200/326 | batch_accuracy: 0.8056 | batch_loss: 0.3561\n",
            "Epochs: 2 batch 250/326 | batch_accuracy: 0.8485 | batch_loss: 0.1935\n",
            "Epochs: 2 batch 300/326 | batch_accuracy: 0.7429 | batch_loss: 0.2958\n",
            "Epoch: 2 | Training accuracy over epoch: 0.7960 | Training loss over epoch: 0.3112\n",
            "Epoch: 2 | Validation acc: 0.7936 | Validation loss: 0.3088\n",
            "Time taken: 365.90s\n",
            "Epochs: 3 batch 0/326 | batch_accuracy: 0.7027 | batch_loss: 0.3662\n",
            "Epochs: 3 batch 50/326 | batch_accuracy: 0.8000 | batch_loss: 0.2896\n",
            "Epochs: 3 batch 100/326 | batch_accuracy: 0.7778 | batch_loss: 0.3458\n",
            "Epochs: 3 batch 150/326 | batch_accuracy: 0.7429 | batch_loss: 0.3541\n",
            "Epochs: 3 batch 200/326 | batch_accuracy: 0.7297 | batch_loss: 0.6524\n",
            "Epochs: 3 batch 250/326 | batch_accuracy: 0.7368 | batch_loss: 0.4300\n",
            "Epochs: 3 batch 300/326 | batch_accuracy: 0.5882 | batch_loss: 0.3236\n",
            "Epoch: 3 | Training accuracy over epoch: 0.7880 | Training loss over epoch: 0.3185\n",
            "Epoch: 3 | Validation acc: 0.7714 | Validation loss: 0.4872\n",
            "Time taken: 368.48s\n",
            "Epochs: 4 batch 0/326 | batch_accuracy: 0.8788 | batch_loss: 0.2147\n",
            "Epochs: 4 batch 50/326 | batch_accuracy: 0.7027 | batch_loss: 0.7468\n",
            "Epochs: 4 batch 100/326 | batch_accuracy: 0.6842 | batch_loss: 0.6219\n",
            "Epochs: 4 batch 150/326 | batch_accuracy: 0.5000 | batch_loss: 0.2555\n",
            "Epochs: 4 batch 200/326 | batch_accuracy: 0.8788 | batch_loss: 0.1684\n",
            "Epochs: 4 batch 250/326 | batch_accuracy: 0.5429 | batch_loss: 0.4030\n",
            "Epochs: 4 batch 300/326 | batch_accuracy: 0.9091 | batch_loss: 0.1825\n",
            "Epoch: 4 | Training accuracy over epoch: 0.7706 | Training loss over epoch: 0.3352\n",
            "Epoch: 4 | Validation acc: 0.7531 | Validation loss: 0.4401\n",
            "Time taken: 379.95s\n",
            "Epochs: 5 batch 0/326 | batch_accuracy: 0.8000 | batch_loss: 0.3665\n",
            "Epochs: 5 batch 50/326 | batch_accuracy: 0.7941 | batch_loss: 0.2641\n",
            "Epochs: 5 batch 100/326 | batch_accuracy: 0.7222 | batch_loss: 0.2901\n",
            "Epochs: 5 batch 150/326 | batch_accuracy: 0.7027 | batch_loss: 0.4153\n",
            "Epochs: 5 batch 200/326 | batch_accuracy: 0.9091 | batch_loss: 0.1490\n",
            "Epochs: 5 batch 250/326 | batch_accuracy: 0.8235 | batch_loss: 0.2532\n",
            "Epochs: 5 batch 300/326 | batch_accuracy: 0.8485 | batch_loss: 0.2231\n",
            "Epoch: 5 | Training accuracy over epoch: 0.7979 | Training loss over epoch: 0.3083\n",
            "Epoch: 5 | Validation acc: 0.7569 | Validation loss: 0.3738\n",
            "Time taken: 377.63s\n",
            "Epochs: 6 batch 0/326 | batch_accuracy: 0.7500 | batch_loss: 0.4058\n",
            "Epochs: 6 batch 50/326 | batch_accuracy: 0.4865 | batch_loss: 0.4912\n",
            "Epochs: 6 batch 100/326 | batch_accuracy: 0.7778 | batch_loss: 0.2988\n",
            "Epochs: 6 batch 150/326 | batch_accuracy: 0.7714 | batch_loss: 0.4045\n",
            "Epochs: 6 batch 200/326 | batch_accuracy: 0.8000 | batch_loss: 0.3098\n",
            "Epochs: 6 batch 250/326 | batch_accuracy: 0.8000 | batch_loss: 0.2889\n",
            "Epochs: 6 batch 300/326 | batch_accuracy: 0.7838 | batch_loss: 0.4839\n",
            "Epoch: 6 | Training accuracy over epoch: 0.7863 | Training loss over epoch: 0.3219\n",
            "Epoch: 6 | Validation acc: 0.7549 | Validation loss: 0.3862\n",
            "Time taken: 371.07s\n",
            "Epochs: 7 batch 0/326 | batch_accuracy: 0.8182 | batch_loss: 0.2186\n",
            "Epochs: 7 batch 50/326 | batch_accuracy: 0.8571 | batch_loss: 0.2729\n",
            "Epochs: 7 batch 100/326 | batch_accuracy: 0.5610 | batch_loss: 1.1579\n",
            "Epochs: 7 batch 150/326 | batch_accuracy: 0.8000 | batch_loss: 0.2414\n",
            "Epochs: 7 batch 200/326 | batch_accuracy: 0.9688 | batch_loss: 0.1195\n",
            "Epochs: 7 batch 250/326 | batch_accuracy: 0.8000 | batch_loss: 0.4285\n",
            "Epochs: 7 batch 300/326 | batch_accuracy: 0.8529 | batch_loss: 0.2880\n",
            "Epoch: 7 | Training accuracy over epoch: 0.7842 | Training loss over epoch: 0.3385\n",
            "Epoch: 7 | Validation acc: 0.7484 | Validation loss: 0.4960\n",
            "Time taken: 377.73s\n",
            "Epochs: 8 batch 0/326 | batch_accuracy: 0.6944 | batch_loss: 0.5355\n",
            "Epochs: 8 batch 50/326 | batch_accuracy: 0.8529 | batch_loss: 0.2772\n",
            "Epochs: 8 batch 100/326 | batch_accuracy: 0.8000 | batch_loss: 0.3005\n",
            "Epochs: 8 batch 150/326 | batch_accuracy: 0.3824 | batch_loss: 0.3499\n",
            "Epochs: 8 batch 200/326 | batch_accuracy: 0.8824 | batch_loss: 0.2026\n",
            "Epochs: 8 batch 250/326 | batch_accuracy: 0.7250 | batch_loss: 0.4569\n",
            "Epochs: 8 batch 300/326 | batch_accuracy: 0.7941 | batch_loss: 0.3943\n",
            "Epoch: 8 | Training accuracy over epoch: 0.7783 | Training loss over epoch: 0.3305\n",
            "Epoch: 8 | Validation acc: 0.7559 | Validation loss: 0.3126\n",
            "Time taken: 369.66s\n",
            "Epochs: 9 batch 0/326 | batch_accuracy: 0.8824 | batch_loss: 0.2374\n",
            "Epochs: 9 batch 50/326 | batch_accuracy: 0.6842 | batch_loss: 0.6412\n",
            "Epochs: 9 batch 100/326 | batch_accuracy: 0.7429 | batch_loss: 0.3564\n",
            "Epochs: 9 batch 150/326 | batch_accuracy: 0.7647 | batch_loss: 0.4108\n",
            "Epochs: 9 batch 200/326 | batch_accuracy: 0.3824 | batch_loss: 0.5401\n",
            "Epochs: 9 batch 250/326 | batch_accuracy: 0.8235 | batch_loss: 0.2291\n",
            "Epochs: 9 batch 300/326 | batch_accuracy: 0.7941 | batch_loss: 0.2291\n",
            "Epoch: 9 | Training accuracy over epoch: 0.7786 | Training loss over epoch: 0.3512\n",
            "Epoch: 9 | Validation acc: 0.7689 | Validation loss: 0.2871\n",
            "Time taken: 366.32s\n",
            "Epochs: 10 batch 0/326 | batch_accuracy: 0.8571 | batch_loss: 0.2635\n",
            "Epochs: 10 batch 50/326 | batch_accuracy: 0.7647 | batch_loss: 0.5462\n",
            "Epochs: 10 batch 100/326 | batch_accuracy: 0.7568 | batch_loss: 0.4207\n",
            "Epochs: 10 batch 150/326 | batch_accuracy: 0.7368 | batch_loss: 0.3789\n",
            "Epochs: 10 batch 200/326 | batch_accuracy: 0.5278 | batch_loss: 0.4486\n",
            "Epochs: 10 batch 250/326 | batch_accuracy: 0.7714 | batch_loss: 0.3603\n",
            "Epochs: 10 batch 300/326 | batch_accuracy: 0.8824 | batch_loss: 0.2831\n",
            "Epoch: 10 | Training accuracy over epoch: 0.7868 | Training loss over epoch: 0.3172\n",
            "Epoch: 10 | Validation acc: 0.3816 | Validation loss: 0.4827\n",
            "Time taken: 369.27s\n",
            "Epochs: 11 batch 0/326 | batch_accuracy: 0.4412 | batch_loss: 0.3580\n",
            "Epochs: 11 batch 50/326 | batch_accuracy: 0.8788 | batch_loss: 0.3240\n",
            "Epochs: 11 batch 100/326 | batch_accuracy: 0.6757 | batch_loss: 0.4284\n",
            "Epochs: 11 batch 150/326 | batch_accuracy: 0.9118 | batch_loss: 0.1972\n",
            "Epochs: 11 batch 200/326 | batch_accuracy: 0.8235 | batch_loss: 0.2004\n",
            "Epochs: 11 batch 250/326 | batch_accuracy: 0.9091 | batch_loss: 0.1933\n",
            "Epochs: 11 batch 300/326 | batch_accuracy: 0.7941 | batch_loss: 0.4173\n",
            "Epoch: 11 | Training accuracy over epoch: 0.7933 | Training loss over epoch: 0.3280\n",
            "Epoch: 11 | Validation acc: 0.7627 | Validation loss: 0.3735\n",
            "Time taken: 376.91s\n",
            "Epochs: 12 batch 0/326 | batch_accuracy: 0.7297 | batch_loss: 0.4366\n",
            "Epochs: 12 batch 50/326 | batch_accuracy: 0.8788 | batch_loss: 0.2354\n",
            "Epochs: 12 batch 100/326 | batch_accuracy: 0.5455 | batch_loss: 0.2662\n",
            "Epochs: 12 batch 150/326 | batch_accuracy: 0.7714 | batch_loss: 0.4998\n",
            "Epochs: 12 batch 200/326 | batch_accuracy: 0.7714 | batch_loss: 0.4398\n",
            "Epochs: 12 batch 250/326 | batch_accuracy: 0.9375 | batch_loss: 0.0962\n",
            "Epochs: 12 batch 300/326 | batch_accuracy: 0.8235 | batch_loss: 0.1879\n",
            "Epoch: 12 | Training accuracy over epoch: 0.7806 | Training loss over epoch: 0.3284\n",
            "Epoch: 12 | Validation acc: 0.7767 | Validation loss: 0.3134\n",
            "Time taken: 372.69s\n",
            "Epochs: 13 batch 0/326 | batch_accuracy: 0.7941 | batch_loss: 0.2766\n",
            "Epochs: 13 batch 50/326 | batch_accuracy: 0.5758 | batch_loss: 0.2148\n",
            "Epochs: 13 batch 100/326 | batch_accuracy: 0.9062 | batch_loss: 0.1776\n",
            "Epochs: 13 batch 150/326 | batch_accuracy: 0.7714 | batch_loss: 0.3373\n",
            "Epochs: 13 batch 200/326 | batch_accuracy: 0.9091 | batch_loss: 0.2391\n",
            "Epochs: 13 batch 250/326 | batch_accuracy: 0.7500 | batch_loss: 0.4078\n",
            "Epochs: 13 batch 300/326 | batch_accuracy: 0.7500 | batch_loss: 0.3100\n",
            "Epoch: 13 | Training accuracy over epoch: 0.7915 | Training loss over epoch: 0.3242\n",
            "Epoch: 13 | Validation acc: 0.7468 | Validation loss: 0.3668\n",
            "Time taken: 383.54s\n",
            "Epochs: 14 batch 0/326 | batch_accuracy: 0.8788 | batch_loss: 0.1587\n",
            "Epochs: 14 batch 50/326 | batch_accuracy: 0.8824 | batch_loss: 0.2535\n",
            "Epochs: 14 batch 100/326 | batch_accuracy: 0.7500 | batch_loss: 0.3629\n",
            "Epochs: 14 batch 150/326 | batch_accuracy: 0.4722 | batch_loss: 0.5125\n",
            "Epochs: 14 batch 200/326 | batch_accuracy: 0.8235 | batch_loss: 0.2545\n",
            "Epochs: 14 batch 250/326 | batch_accuracy: 0.9062 | batch_loss: 0.1443\n",
            "Epochs: 14 batch 300/326 | batch_accuracy: 0.9688 | batch_loss: 0.1599\n",
            "Epoch: 14 | Training accuracy over epoch: 0.7952 | Training loss over epoch: 0.3226\n",
            "Epoch: 14 | Validation acc: 0.7365 | Validation loss: 0.5259\n",
            "Time taken: 368.26s\n",
            "Epochs: 15 batch 0/326 | batch_accuracy: 0.9062 | batch_loss: 0.1144\n",
            "Epochs: 15 batch 50/326 | batch_accuracy: 0.8438 | batch_loss: 0.1938\n",
            "Epochs: 15 batch 100/326 | batch_accuracy: 0.7429 | batch_loss: 0.4974\n",
            "Epochs: 15 batch 150/326 | batch_accuracy: 0.8286 | batch_loss: 0.5616\n",
            "Epochs: 15 batch 200/326 | batch_accuracy: 0.5135 | batch_loss: 0.5984\n",
            "Epochs: 15 batch 250/326 | batch_accuracy: 0.8788 | batch_loss: 0.2355\n",
            "Epochs: 15 batch 300/326 | batch_accuracy: 0.7647 | batch_loss: 0.2512\n",
            "Epoch: 15 | Training accuracy over epoch: 0.7798 | Training loss over epoch: 0.3297\n",
            "Epoch: 15 | Validation acc: 0.7697 | Validation loss: 0.6820\n",
            "Time taken: 371.20s\n",
            "Epochs: 16 batch 0/326 | batch_accuracy: 0.8286 | batch_loss: 0.3877\n",
            "Epochs: 16 batch 50/326 | batch_accuracy: 0.9062 | batch_loss: 0.1291\n",
            "Epochs: 16 batch 100/326 | batch_accuracy: 0.7500 | batch_loss: 0.2905\n",
            "Epochs: 16 batch 150/326 | batch_accuracy: 0.6410 | batch_loss: 0.4599\n",
            "Epochs: 16 batch 200/326 | batch_accuracy: 0.8182 | batch_loss: 0.2133\n",
            "Epochs: 16 batch 250/326 | batch_accuracy: 0.8182 | batch_loss: 0.2412\n",
            "Epochs: 16 batch 300/326 | batch_accuracy: 0.6216 | batch_loss: 0.4943\n",
            "Epoch: 16 | Training accuracy over epoch: 0.7796 | Training loss over epoch: 0.3281\n",
            "Epoch: 16 | Validation acc: 0.7771 | Validation loss: 0.3908\n",
            "Time taken: 365.08s\n",
            "Epochs: 17 batch 0/326 | batch_accuracy: 0.8235 | batch_loss: 0.2815\n",
            "Epochs: 17 batch 50/326 | batch_accuracy: 0.8286 | batch_loss: 0.1802\n",
            "Epochs: 17 batch 100/326 | batch_accuracy: 0.7941 | batch_loss: 0.3056\n",
            "Epochs: 17 batch 150/326 | batch_accuracy: 0.7647 | batch_loss: 0.4312\n",
            "Epochs: 17 batch 200/326 | batch_accuracy: 0.7222 | batch_loss: 0.3467\n",
            "Epochs: 17 batch 250/326 | batch_accuracy: 0.7500 | batch_loss: 0.3805\n",
            "Epochs: 17 batch 300/326 | batch_accuracy: 0.8485 | batch_loss: 0.2115\n",
            "Epoch: 17 | Training accuracy over epoch: 0.7779 | Training loss over epoch: 0.3397\n",
            "Epoch: 17 | Validation acc: 0.7458 | Validation loss: 0.3781\n",
            "Time taken: 364.74s\n",
            "Epochs: 18 batch 0/326 | batch_accuracy: 0.6857 | batch_loss: 0.3865\n",
            "Epochs: 18 batch 50/326 | batch_accuracy: 0.8788 | batch_loss: 0.1767\n",
            "Epochs: 18 batch 100/326 | batch_accuracy: 0.9091 | batch_loss: 0.1299\n",
            "Epochs: 18 batch 150/326 | batch_accuracy: 0.7941 | batch_loss: 0.2579\n",
            "Epochs: 18 batch 200/326 | batch_accuracy: 0.8571 | batch_loss: 0.3065\n",
            "Epochs: 18 batch 250/326 | batch_accuracy: 0.6842 | batch_loss: 0.5666\n",
            "Epochs: 18 batch 300/326 | batch_accuracy: 0.8788 | batch_loss: 0.2562\n",
            "Epoch: 18 | Training accuracy over epoch: 0.7855 | Training loss over epoch: 0.3332\n",
            "Epoch: 18 | Validation acc: 0.7819 | Validation loss: 0.3819\n",
            "Time taken: 370.14s\n",
            "Epochs: 19 batch 0/326 | batch_accuracy: 0.7941 | batch_loss: 0.4680\n",
            "Epochs: 19 batch 50/326 | batch_accuracy: 0.8857 | batch_loss: 0.2736\n",
            "Epochs: 19 batch 100/326 | batch_accuracy: 0.8529 | batch_loss: 0.2190\n",
            "Epochs: 19 batch 150/326 | batch_accuracy: 0.8286 | batch_loss: 0.2745\n",
            "Epochs: 19 batch 200/326 | batch_accuracy: 0.6829 | batch_loss: 0.8275\n",
            "Epochs: 19 batch 250/326 | batch_accuracy: 0.9375 | batch_loss: 0.1013\n",
            "Epochs: 19 batch 300/326 | batch_accuracy: 0.7838 | batch_loss: 0.5060\n",
            "Epoch: 19 | Training accuracy over epoch: 0.7870 | Training loss over epoch: 0.3280\n",
            "Epoch: 19 | Validation acc: 0.7595 | Validation loss: 0.3637\n",
            "Time taken: 372.26s\n",
            "Early stopping activated! Restoring model weights from the end of the (best) epoch: 0.\n"
          ]
        }
      ]
    },
    {
      "cell_type": "markdown",
      "source": [
        "##### Results"
      ],
      "metadata": {
        "id": "8W9GBrNjzNWh"
      }
    },
    {
      "cell_type": "code",
      "source": [
        "with open(results_dir, \"rb\") as f:\n",
        "  results = pickle.load(f)\n",
        "\n",
        "train_losses = [float(loss) for loss in results['train_losses']]\n",
        "train_accuracies = [float(loss) for loss in results['train_accuracies']]\n",
        "val_losses = [float(loss) for loss in results['val_losses']]\n",
        "val_accuracies = [float(loss) for loss in results['val_accuracies']]"
      ],
      "metadata": {
        "id": "JBp9CTUgzPVn"
      },
      "execution_count": 59,
      "outputs": []
    },
    {
      "cell_type": "code",
      "source": [
        "fig1, ax1 = plt.subplots()\n",
        "\n",
        "ax1.plot(train_losses, color=\"C0\", label='train')\n",
        "ax1.plot(val_losses, color=\"C1\", label='validation')\n",
        "\n",
        "ax1.grid(which=\"major\", axis=\"both\")\n",
        "ax1.set_ylabel(\"loss\")\n",
        "ax1.set_xlabel(\"epoch\")\n",
        "ax1.set_title('Loss')\n",
        "ax1.legend()\n",
        "\n",
        "fig1.show()\n",
        "\n",
        "fig2, ax2 = plt.subplots()\n",
        "\n",
        "ax2.plot(train_accuracies, color=\"C0\", label='train')\n",
        "ax2.plot(val_accuracies, color=\"C1\", label='validation')\n",
        "\n",
        "ax2.grid(which=\"major\", axis=\"both\")\n",
        "ax2.set_ylabel(\"accuracy\")\n",
        "ax2.set_xlabel(\"epoch\")\n",
        "ax2.set_title('Accuracy')\n",
        "ax2.legend()\n",
        "\n",
        "fig2.show()"
      ],
      "metadata": {
        "colab": {
          "base_uri": "https://localhost:8080/",
          "height": 573
        },
        "id": "fb1DS7yHzZ7K",
        "outputId": "731725dc-e093-470b-e695-e8eb7df6d9da"
      },
      "execution_count": 60,
      "outputs": [
        {
          "output_type": "display_data",
          "data": {
            "text/plain": [
              "<Figure size 432x288 with 1 Axes>"
            ],
            "image/png": "[encoded data removed]"
          },
          "metadata": {
            "needs_background": "light"
          }
        },
        {
          "output_type": "display_data",
          "data": {
            "text/plain": [
              "<Figure size 432x288 with 1 Axes>"
            ],
            "image/png": "[encoded data removed]"
          },
          "metadata": {
            "needs_background": "light"
          }
        }
      ]
    },
    {
      "cell_type": "markdown",
      "source": [
        "##### Predict"
      ],
      "metadata": {
        "id": "r_YpXC27zifu"
      }
    },
    {
      "cell_type": "code",
      "source": [
        "generate_predictions(input_test, target_test, input_tokenizer, output_tokenizer, checkpoint_dir, x_max_length, y_max_length, idx2word_input, idx2word_output, False)"
      ],
      "metadata": {
        "colab": {
          "base_uri": "https://localhost:8080/"
        },
        "id": "Y6CS1Xzyzlyi",
        "outputId": "2e85f7b8-ccdc-4ae2-cc42-71e6c0bab6dd"
      },
      "execution_count": 69,
      "outputs": [
        {
          "output_type": "stream",
          "name": "stdout",
          "text": [
            "32\n",
            "6\n",
            "['scan', 'party']\n",
            "prediction: ['<sos>', '<eos>']\n",
            "actual: ['seq_scan', '<eos>']\n",
            "Accuracy: 0.8333333333333334\n",
            "\n",
            "['scan', 'branch']\n",
            "prediction: ['<sos>', '<eos>']\n",
            "actual: ['seq_scan', '<eos>']\n",
            "Accuracy: 0.8333333333333334\n",
            "\n",
            "['scan', 'customer_address_history']\n",
            "prediction: ['<sos>', '<eos>']\n",
            "actual: ['seq_scan', '<eos>']\n",
            "Accuracy: 0.8333333333333334\n",
            "\n",
            "['scan', 'captain']\n",
            "prediction: ['<sos>', '<eos>']\n",
            "actual: ['seq_scan', '<eos>']\n",
            "Accuracy: 0.8333333333333334\n",
            "\n",
            "['scan', 'country']\n",
            "prediction: ['<sos>', '<eos>']\n",
            "actual: ['seq_scan', '<eos>']\n",
            "Accuracy: 0.8333333333333334\n",
            "\n",
            "['scan', 'wrestler']\n",
            "prediction: ['<sos>', '<eos>']\n",
            "actual: ['index_scan', '<eos>']\n",
            "Accuracy: 0.8333333333333334\n",
            "\n",
            "['scan', 'poker_player']\n",
            "prediction: ['<sos>', '<eos>']\n",
            "actual: ['seq_scan', '<eos>']\n",
            "Accuracy: 0.8333333333333334\n",
            "\n",
            "['scan', 'complaints']\n",
            "prediction: ['<sos>', '<eos>']\n",
            "actual: ['seq_scan', '<eos>']\n",
            "Accuracy: 0.8333333333333334\n",
            "\n",
            "['scan', 'flights']\n",
            "prediction: ['<sos>', '<eos>']\n",
            "actual: ['seq_scan', '<eos>']\n",
            "Accuracy: 0.8333333333333334\n",
            "\n",
            "['scan', 'student']\n",
            "prediction: ['<sos>', '<eos>']\n",
            "actual: ['seq_scan', '<eos>']\n",
            "Accuracy: 0.8333333333333334\n",
            "\n",
            "['scan', 'player']\n",
            "prediction: ['<sos>', '<eos>']\n",
            "actual: ['seq_scan', '<eos>']\n",
            "Accuracy: 0.8333333333333334\n",
            "\n",
            "['scan', 'mountain']\n",
            "prediction: ['<sos>', '<eos>']\n",
            "actual: ['seq_scan', '<eos>']\n",
            "Accuracy: 0.8333333333333334\n",
            "\n",
            "['join', 'documents_with_expenses', '.', 'budget_type_code', 'ref_budget_codes', '.', 'budget_type_code', 'scan', 'ref_budget_codes', '.', 'budget_type_description']\n",
            "prediction: ['<sos>', '<eos>']\n",
            "actual: ['hash_join', 'seq_scan', '<eos>']\n",
            "Accuracy: 0.5\n",
            "\n",
            "['scan', 'railway']\n",
            "prediction: ['<sos>', '<eos>']\n",
            "actual: ['seq_scan', '<eos>']\n",
            "Accuracy: 0.8333333333333334\n",
            "\n",
            "['scan', 'branch']\n",
            "prediction: ['<sos>', '<eos>']\n",
            "actual: ['seq_scan', '<eos>']\n",
            "Accuracy: 0.8333333333333334\n",
            "\n",
            "['scan', 'editor']\n",
            "prediction: ['<sos>', '<eos>']\n",
            "actual: ['seq_scan', '<eos>']\n",
            "Accuracy: 0.8333333333333334\n",
            "\n",
            "['scan', 'personfriend']\n",
            "prediction: ['<sos>', '<eos>']\n",
            "actual: ['seq_scan', '<eos>']\n",
            "Accuracy: 0.8333333333333334\n",
            "\n",
            "['scan', 'addresses']\n",
            "prediction: ['<sos>', '<eos>']\n",
            "actual: ['seq_scan', '<eos>']\n",
            "Accuracy: 0.8333333333333334\n",
            "\n",
            "['scan', 'accounts']\n",
            "prediction: ['<sos>', '<eos>']\n",
            "actual: ['seq_scan', '<eos>']\n",
            "Accuracy: 0.8333333333333334\n",
            "\n",
            "['join', 'airlines', '.', 'uid', 'flights', '.', 'airline']\n",
            "prediction: ['<sos>', '<eos>']\n",
            "actual: ['hash_join', '<eos>']\n",
            "Accuracy: 0.8333333333333334\n",
            "\n",
            "['scan', 'apartment_facilities']\n",
            "prediction: ['<sos>', '<eos>']\n",
            "actual: ['seq_scan', '<eos>']\n",
            "Accuracy: 0.8333333333333334\n",
            "\n",
            "['scan', 'buildings']\n",
            "prediction: ['<sos>', '<eos>']\n",
            "actual: ['seq_scan', '<eos>']\n",
            "Accuracy: 0.8333333333333334\n",
            "\n",
            "['join', 'people', '.', 'people_id', 'perpetrator', '.', 'people_id', 'scan', 'perpetrator', '.', 'country']\n",
            "prediction: ['<sos>', '<eos>']\n",
            "actual: ['hash_join', 'seq_scan', '<eos>']\n",
            "Accuracy: 0.5\n",
            "\n",
            "['scan', 'list']\n",
            "prediction: ['<sos>', '<eos>']\n",
            "actual: ['seq_scan', '<eos>']\n",
            "Accuracy: 0.8333333333333334\n",
            "\n",
            "['scan', 'orders']\n",
            "prediction: ['<sos>', '<eos>']\n",
            "actual: ['seq_scan', '<eos>']\n",
            "Accuracy: 0.8333333333333334\n",
            "\n",
            "['scan', 'staff']\n",
            "prediction: ['<sos>', '<eos>']\n",
            "actual: ['seq_scan', '<eos>']\n",
            "Accuracy: 0.8333333333333334\n",
            "\n",
            "['scan', 'assets']\n",
            "prediction: ['<sos>', '<eos>']\n",
            "actual: ['seq_scan', '<eos>']\n",
            "Accuracy: 0.8333333333333334\n",
            "\n",
            "['join', 'semesters', '.', 'semester_id', 'student_enrolment', '.', 'semester_id']\n",
            "prediction: ['<sos>', '<eos>']\n",
            "actual: ['hash_join', '<eos>']\n",
            "Accuracy: 0.8333333333333334\n",
            "\n",
            "['scan', 'ship']\n",
            "prediction: ['<sos>', '<eos>']\n",
            "actual: ['seq_scan', '<eos>']\n",
            "Accuracy: 0.8333333333333334\n",
            "\n",
            "['scan', 'user_profiles']\n",
            "prediction: ['<sos>', '<eos>']\n",
            "actual: ['seq_scan', '<eos>']\n",
            "Accuracy: 0.8333333333333334\n",
            "\n",
            "['scan', 'employees']\n",
            "prediction: ['<sos>', '<eos>']\n",
            "actual: ['index_scan', '<eos>']\n",
            "Accuracy: 0.8333333333333334\n",
            "\n",
            "['scan', 'documents']\n",
            "prediction: ['<sos>', '<eos>']\n",
            "actual: ['seq_scan', '<eos>']\n",
            "Accuracy: 0.8333333333333334\n",
            "\n",
            "['scan', 'visitor']\n",
            "prediction: ['<sos>', '<eos>']\n",
            "actual: ['seq_scan', '<eos>']\n",
            "Accuracy: 0.8333333333333334\n",
            "\n",
            "['scan', 'skills']\n",
            "prediction: ['<sos>', '<eos>']\n",
            "actual: ['seq_scan', '<eos>']\n",
            "Accuracy: 0.8333333333333334\n",
            "\n",
            "['scan', 'death']\n",
            "prediction: ['<sos>', '<eos>']\n",
            "actual: ['seq_scan', '<eos>']\n",
            "Accuracy: 0.8333333333333334\n",
            "\n",
            "['scan', 'complaints']\n",
            "prediction: ['<sos>', '<eos>']\n",
            "actual: ['seq_scan', '<eos>']\n",
            "Accuracy: 0.8333333333333334\n",
            "\n",
            "['scan', 'problems']\n",
            "prediction: ['<sos>', '<eos>']\n",
            "actual: ['seq_scan', '<eos>']\n",
            "Accuracy: 0.8333333333333334\n",
            "\n",
            "['scan', 'skills']\n",
            "prediction: ['<sos>', '<eos>']\n",
            "actual: ['seq_scan', '<eos>']\n",
            "Accuracy: 0.8333333333333334\n",
            "\n",
            "['join', 'transactions', '.', 'transaction_id', 'transactions_lots', '.', 'transaction_id']\n",
            "prediction: ['<sos>', '<eos>']\n",
            "actual: ['hash_join', '<eos>']\n",
            "Accuracy: 0.8333333333333334\n",
            "\n",
            "['join', 'invoices', '.', 'order_id', 'orders', '.', 'order_id']\n",
            "prediction: ['<sos>', '<eos>']\n",
            "actual: ['hash_join', '<eos>']\n",
            "Accuracy: 0.8333333333333334\n",
            "\n",
            "['join', 'bookings', '.', 'workshop_group_id', 'drama_workshop_groups', '.', 'workshop_group_id', 'scan', 'bookings', '.', 'status_code']\n",
            "prediction: ['<sos>', '<eos>']\n",
            "actual: ['index_scan', 'seq_scan', '<eos>']\n",
            "Accuracy: 0.5\n",
            "\n",
            "['scan', 'match_season']\n",
            "prediction: ['<sos>', '<eos>']\n",
            "actual: ['seq_scan', '<eos>']\n",
            "Accuracy: 0.8333333333333334\n",
            "\n",
            "['scan', 'driver']\n",
            "prediction: ['<sos>', '<eos>']\n",
            "actual: ['seq_scan', '<eos>']\n",
            "Accuracy: 0.8333333333333334\n",
            "\n",
            "['join', 'trip', '.', 'end_station_id', 'station', '.', 'id']\n",
            "prediction: ['<sos>', '<eos>']\n",
            "actual: ['hash_join', '<eos>']\n",
            "Accuracy: 0.8333333333333334\n",
            "\n",
            "['join', 'people', '.', 'people_id', 'candidate', '.', 'people_id', 'scan', 'people', '.', 'name']\n",
            "prediction: ['<sos>', '<eos>']\n",
            "actual: ['hash_join', '<eos>']\n",
            "Accuracy: 0.8333333333333334\n",
            "\n",
            "['scan', 'products']\n",
            "prediction: ['<sos>', '<eos>']\n",
            "actual: ['seq_scan', '<eos>']\n",
            "Accuracy: 0.8333333333333334\n",
            "\n",
            "['scan', 'matches']\n",
            "prediction: ['<sos>', '<eos>']\n",
            "actual: ['seq_scan', '<eos>']\n",
            "Accuracy: 0.8333333333333334\n",
            "\n",
            "['scan', 'building']\n",
            "prediction: ['<sos>', '<eos>']\n",
            "actual: ['seq_scan', '<eos>']\n",
            "Accuracy: 0.8333333333333334\n",
            "\n",
            "['scan', 'matches']\n",
            "prediction: ['<sos>', '<eos>']\n",
            "actual: ['seq_scan', '<eos>']\n",
            "Accuracy: 0.8333333333333334\n",
            "\n",
            "['scan', 'authorship']\n",
            "prediction: ['<sos>', '<eos>']\n",
            "actual: ['seq_scan', '<eos>']\n",
            "Accuracy: 0.8333333333333334\n",
            "\n",
            "['scan', 'order_items']\n",
            "prediction: ['<sos>', '<eos>']\n",
            "actual: ['seq_scan', '<eos>']\n",
            "Accuracy: 0.8333333333333334\n",
            "\n",
            "['scan', 'volume']\n",
            "prediction: ['<sos>', '<eos>']\n",
            "actual: ['seq_scan', '<eos>']\n",
            "Accuracy: 0.8333333333333334\n",
            "\n",
            "['scan', 'camera_lens']\n",
            "prediction: ['<sos>', '<eos>']\n",
            "actual: ['index_scan', '<eos>']\n",
            "Accuracy: 0.8333333333333334\n",
            "\n",
            "['scan', 'student']\n",
            "prediction: ['<sos>', '<eos>']\n",
            "actual: ['seq_scan', '<eos>']\n",
            "Accuracy: 0.8333333333333334\n",
            "\n",
            "Total accuracy: 0.8148\n"
          ]
        }
      ]
    }
  ],
  "metadata": {
    "colab": {
      "collapsed_sections": [
        "KrEpV36jW1cs",
        "Jx-Y_Mmxc8A7",
        "I5NQceIldAR0",
        "Rk38bQEa_FYX",
        "8t5E9or9c87X",
        "8vrKnz60gab6",
        "zpzseDz_5dFP"
      ],
      "machine_shape": "hm",
      "name": "ml-query-optimization.ipynb",
      "provenance": [],
      "include_colab_link": true
    },
    "kernelspec": {
      "display_name": "Python 3",
      "language": "python",
      "name": "python3"
    },
    "language_info": {
      "codemirror_mode": {
        "name": "ipython",
        "version": 2
      },
      "file_extension": ".py",
      "mimetype": "text/x-python",
      "name": "python",
      "nbconvert_exporter": "python",
      "pygments_lexer": "ipython2",
      "version": "2.7.6"
    }
  },
  "nbformat": 4,
  "nbformat_minor": 0
}